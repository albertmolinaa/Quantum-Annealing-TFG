{
 "cells": [
  {
   "cell_type": "code",
   "execution_count": 1,
   "metadata": {},
   "outputs": [],
   "source": [
    "from src.hartree_fock_library import HartreeFock,HartreeFockVariational\n",
    "from src.hamiltonian_utils import get_twobody_nuclearshell_model,FermiHubbardHamiltonian,SingleParticleState\n",
    "import numpy as np\n",
    "import torch\n",
    "from typing import Dict,List\n",
    "#from src.qml_models import AdaptVQEFermiHubbard\n",
    "from src.qml_utils.train import Fit\n",
    "from src.qml_utils.utils import configuration\n",
    "from src.qml_models import AdaptVQEFermiHubbard\n",
    "import matplotlib.pyplot as plt\n",
    "from adapt_vqe_old import AdaptVQEFermiHubbard"
   ]
  },
  {
   "cell_type": "code",
   "execution_count": 2,
   "metadata": {},
   "outputs": [],
   "source": [
    "class SpinConservation():\n",
    "    \n",
    "    def __init__(self,size:int):\n",
    "        \n",
    "        self.size=size\n",
    "\n",
    "    def spin_conservation(self,idxs:List):\n",
    "\n",
    "        l=len(idxs)\n",
    "\n",
    "        total_initial_spin=0.\n",
    "        for idx in idxs[:l//2]:\n",
    "            \n",
    "            if idx < self.size:\n",
    "                total_initial_spin+=1\n",
    "                \n",
    "        total_final_spin=0.\n",
    "        for idx in idxs[l//2:]:\n",
    "            \n",
    "            if idx < self.size:\n",
    "                total_final_spin+=1\n",
    "        return total_initial_spin==total_final_spin\n",
    "    \n",
    "    def local_interaction(self,idxs:List):\n",
    "        \n",
    "        condition=idxs[0]==idxs[-1] and idxs[1]==idxs[-2] and idxs[0]+self.size==idxs[1]\n",
    "        \n",
    "        return condition"
   ]
  },
  {
   "cell_type": "code",
   "execution_count": 3,
   "metadata": {},
   "outputs": [
    {
     "name": "stdout",
     "output_type": "stream",
     "text": [
      "<itertools.combinations object at 0x7f3f3683e360>\n",
      "[[0. 0. 0. 0. 0. 0. 0. 0. 0. 0. 0. 0.]\n",
      " [0. 0. 0. 0. 0. 0. 0. 0. 0. 0. 0. 0.]\n",
      " [0. 0. 0. 0. 0. 0. 0. 0. 0. 0. 0. 0.]\n",
      " [0. 0. 0. 0. 0. 0. 0. 0. 0. 0. 0. 0.]\n",
      " [0. 0. 0. 0. 0. 0. 0. 0. 0. 0. 0. 0.]\n",
      " [0. 0. 0. 0. 0. 0. 0. 0. 0. 0. 0. 0.]\n",
      " [0. 0. 0. 0. 0. 0. 0. 0. 0. 0. 0. 0.]\n",
      " [0. 0. 0. 0. 0. 0. 0. 0. 0. 0. 0. 0.]\n",
      " [0. 0. 0. 0. 0. 0. 0. 0. 0. 0. 0. 0.]\n",
      " [0. 0. 0. 0. 0. 0. 0. 0. 0. 0. 0. 0.]\n",
      " [0. 0. 0. 0. 0. 0. 0. 0. 0. 0. 0. 0.]\n",
      " [0. 0. 0. 0. 0. 0. 0. 0. 0. 0. 0. 0.]]\n",
      "  (0, 0)\t-12.658453154059412\n",
      "  (0, 1)\t1.0\n",
      "  (0, 8)\t-1.0\n",
      "  (0, 15)\t1.0\n",
      "  (0, 120)\t-1.0\n",
      "  (1, 0)\t1.0\n",
      "  (1, 1)\t-4.748370416346726\n",
      "  (1, 2)\t1.0\n",
      "  (1, 5)\t1.0\n",
      "  (1, 11)\t-1.0\n",
      "  (1, 16)\t1.0\n",
      "  (1, 121)\t-1.0\n",
      "  (2, 1)\t1.0\n",
      "  (2, 2)\t-5.478281496585054\n",
      "  (2, 3)\t1.0\n",
      "  (2, 6)\t1.0\n",
      "  (2, 13)\t-1.0\n",
      "  (2, 17)\t1.0\n",
      "  (2, 122)\t-1.0\n",
      "  (3, 2)\t1.0\n",
      "  (3, 3)\t-5.367177073655404\n",
      "  (3, 4)\t1.0\n",
      "  (3, 7)\t1.0\n",
      "  (3, 14)\t-1.0\n",
      "  (3, 18)\t1.0\n",
      "  :\t:\n",
      "  (220, 222)\t1.0\n",
      "  (221, 56)\t-1.0\n",
      "  (221, 206)\t1.0\n",
      "  (221, 211)\t-1.0\n",
      "  (221, 218)\t1.0\n",
      "  (221, 220)\t1.0\n",
      "  (221, 221)\t-5.591950291985658\n",
      "  (221, 223)\t1.0\n",
      "  (222, 57)\t-1.0\n",
      "  (222, 207)\t1.0\n",
      "  (222, 220)\t1.0\n",
      "  (222, 222)\t-6.79051780432977\n",
      "  (222, 223)\t1.0\n",
      "  (223, 58)\t-1.0\n",
      "  (223, 208)\t1.0\n",
      "  (223, 212)\t-1.0\n",
      "  (223, 221)\t1.0\n",
      "  (223, 222)\t1.0\n",
      "  (223, 223)\t-6.321861372223985\n",
      "  (223, 224)\t1.0\n",
      "  (224, 59)\t-1.0\n",
      "  (224, 209)\t1.0\n",
      "  (224, 213)\t-1.0\n",
      "  (224, 223)\t1.0\n",
      "  (224, 224)\t-14.210756949294336\n",
      "[-16.0038614]\n"
     ]
    }
   ],
   "source": [
    "size_a=6\n",
    "size_b=6\n",
    "FHHamiltonian=FermiHubbardHamiltonian(size_a=size_a,size_b=size_a,nparticles_a=2,nparticles_b=2)\n",
    "\n",
    "u=8.\n",
    "t=1.\n",
    "v_ext=np.random.uniform(size=size_a)\n",
    "\n",
    "# define the local onsite potential\n",
    "twobody_matrix:Dict={}\n",
    "for i in range(size_a):\n",
    "    twobody_matrix[(i,i+size_a,i+size_a,i)]=u\n",
    "    twobody_matrix[(i, i + size_a, i, i + size_a)] = -u\n",
    "    twobody_matrix[( i + size_a,i , i + size_a,i)] = -u\n",
    "    twobody_matrix[(i+size_a, i , i , i+size_a)] = u\n",
    "\n",
    "kinetic_term:Dict={}\n",
    "adj_matrix=np.zeros((size_a+size_b,size_a+size_b))\n",
    "for i in range(size_a):\n",
    "    kinetic_term[(i,(i+1) % size_a)]=t\n",
    "    kinetic_term[(size_a +i,size_a+(i+1) % size_a)]=t\n",
    "    adj_matrix[i,(i+1)%size_a]=t\n",
    "    adj_matrix[(i + 1) % size_a,i]=t\n",
    "    adj_matrix[i,i]=-2*t\n",
    "    adj_matrix[i+size_a,i+size_a]=-2*t\n",
    "    adj_matrix[i+size_a,size_a+ (i + 1) % size_a] = t\n",
    "    adj_matrix[size_a+(i + 1) % size_a,size_a+ i] = t\n",
    "\n",
    "\n",
    "print(adj_matrix-adj_matrix.T)\n",
    "# %%\n",
    "\n",
    "FHHamiltonian.get_external_potential(external_potential=np.append(v_ext,v_ext))\n",
    "FHHamiltonian.get_kinetic_operator(adj_matrix=kinetic_term)\n",
    "FHHamiltonian.get_twobody_interaction(twobody_dict=twobody_matrix)\n",
    "FHHamiltonian.get_hamiltonian()\n",
    "\n",
    "# print(FHHamiltonian.hamiltonian)\n",
    "print(FHHamiltonian.hamiltonian)\n",
    "# print(FHHamiltonian.twobody_operator)\n",
    "# print(FHHamiltonian.kinetic_operator+FHHamiltonian.twobody_operator-FHHamiltonian.hamiltonian)\n",
    "egs,psi0=FHHamiltonian.get_spectrum(n_states=1)\n",
    "\n",
    "print(egs)\n",
    "\n",
    "\n",
    "# # %% define the fit class\n",
    "\n",
    "# HFFit = FitHartreeFock(learning_rate=0.1, epochs=200)\n",
    "\n",
    "# history_hf = HFFit.run(HFE)\n",
    "# # %%\n",
    "# psi_hf = HFE.get_psi().detach().numpy()\n",
    "\n",
    "# print(psi_hf.conjugate().transpose().dot(FHHamiltonian.hamiltonian.dot(psi_hf)))"
   ]
  },
  {
   "cell_type": "code",
   "execution_count": 4,
   "metadata": {},
   "outputs": [
    {
     "name": "stderr",
     "output_type": "stream",
     "text": [
      "de=0.000000000000001: 100%|██████████| 50/50 [00:00<00:00, 534.29it/s]\n"
     ]
    }
   ],
   "source": [
    "# %% Hartree fock initialization\n",
    "\n",
    "HFclass = HartreeFock(size=size_a, nspecies=2)\n",
    "\n",
    "HFclass.get_hamiltonian(twobody_interaction=twobody_matrix, kinetic_term=adj_matrix,external_potential=np.append(v_ext,v_ext))\n",
    "\n",
    "de, history_herm, ortho_history = HFclass.selfconsistent_computation(eta=1, epochs=50)"
   ]
  },
  {
   "cell_type": "code",
   "execution_count": 5,
   "metadata": {},
   "outputs": [
    {
     "data": {
      "image/png": "[encoded data removed]",
      "text/plain": [
       "<Figure size 432x288 with 1 Axes>"
      ]
     },
     "metadata": {
      "needs_background": "light"
     },
     "output_type": "display_data"
    },
    {
     "data": {
      "image/png": "[encoded data removed]",
      "text/plain": [
       "<Figure size 432x288 with 1 Axes>"
      ]
     },
     "metadata": {
      "needs_background": "light"
     },
     "output_type": "display_data"
    },
    {
     "name": "stdout",
     "output_type": "stream",
     "text": [
      "-29.001875448101607\n"
     ]
    }
   ],
   "source": [
    "plt.plot(history_herm)\n",
    "plt.show()\n",
    "\n",
    "plt.plot(ortho_history)\n",
    "plt.show()\n",
    "\n",
    "energy = HFclass.compute_energy()\n",
    "\n",
    "print(energy)"
   ]
  },
  {
   "cell_type": "code",
   "execution_count": 6,
   "metadata": {},
   "outputs": [
    {
     "name": "stdout",
     "output_type": "stream",
     "text": [
      "0.9999999999999999\n",
      "-0.19750396785674124\n"
     ]
    },
    {
     "data": {
      "image/png": "[encoded data removed]",
      "text/plain": [
       "<Figure size 432x288 with 1 Axes>"
      ]
     },
     "metadata": {
      "needs_background": "light"
     },
     "output_type": "display_data"
    },
    {
     "data": {
      "image/png": "[encoded data removed]",
      "text/plain": [
       "<Figure size 432x288 with 2 Axes>"
      ]
     },
     "metadata": {
      "needs_background": "light"
     },
     "output_type": "display_data"
    },
    {
     "data": {
      "image/png": "[encoded data removed]",
      "text/plain": [
       "<Figure size 432x288 with 2 Axes>"
      ]
     },
     "metadata": {
      "needs_background": "light"
     },
     "output_type": "display_data"
    }
   ],
   "source": [
    "print(np.linalg.norm(HFclass.weights[:, 0]))\n",
    "print(np.sum(HFclass.weights[0, :].conj() * HFclass.weights[:, 1]))\n",
    "\n",
    "plt.plot(de)\n",
    "\n",
    "# plt.semilogy()\n",
    "# plt.ylim([0,0.001])\n",
    "plt.show()\n",
    "\n",
    "plt.imshow(np.real(HFclass.weights))\n",
    "plt.colorbar()\n",
    "plt.show()\n",
    "plt.imshow(np.imag(HFclass.weights))\n",
    "plt.colorbar()\n",
    "plt.show()\n"
   ]
  },
  {
   "cell_type": "code",
   "execution_count": 7,
   "metadata": {},
   "outputs": [
    {
     "name": "stdout",
     "output_type": "stream",
     "text": [
      "-10.3372075735995\n"
     ]
    }
   ],
   "source": [
    "psi_hf=HFclass.create_hf_psi(FHHamiltonian.basis,nparticles=4)\n",
    "print(psi_hf.conjugate().transpose() @ FHHamiltonian.hamiltonian @ psi_hf)"
   ]
  },
  {
   "cell_type": "code",
   "execution_count": 10,
   "metadata": {},
   "outputs": [
    {
     "name": "stderr",
     "output_type": "stream",
     "text": [
      "energy=-43.343898773193359+0.000000000000000j, norm constrain=0.426617741584778: 100%|██████████| 1000/1000 [00:03<00:00, 296.26it/s]\n"
     ]
    }
   ],
   "source": [
    "# %% Hartree fock initialization\n",
    "\n",
    "HFclass = HartreeFockVariational(size=size_a, nspecies=2, mu=1)\n",
    "\n",
    "\n",
    "HFclass.get_hamiltonian(\n",
    "    twobody_interaction=twobody_matrix,kinetic_term=torch.from_numpy(adj_matrix), external_potential=torch.from_numpy(np.append(v_ext,v_ext))\n",
    ")\n",
    "\n",
    "de, history_herm, ortho_history = HFclass.train(epochs=1000, eta=0.01)"
   ]
  },
  {
   "cell_type": "code",
   "execution_count": 12,
   "metadata": {},
   "outputs": [
    {
     "name": "stdout",
     "output_type": "stream",
     "text": [
      "[0.99999994 0.99999994 0.99999994 1.         0.99999994 1.\n",
      " 1.         0.99999994 0.99999994 0.99999994 1.         1.        ]\n",
      "(-1+0j)\n"
     ]
    },
    {
     "name": "stderr",
     "output_type": "stream",
     "text": [
      "/opt/anaconda3/envs/dft_env/lib/python3.9/site-packages/matplotlib/cbook/__init__.py:1298: ComplexWarning: Casting complex values to real discards the imaginary part\n",
      "  return np.asarray(x, float)\n"
     ]
    },
    {
     "data": {
      "image/png": "[encoded data removed]",
      "text/plain": [
       "<Figure size 432x288 with 1 Axes>"
      ]
     },
     "metadata": {
      "needs_background": "light"
     },
     "output_type": "display_data"
    },
    {
     "data": {
      "image/png": "[encoded data removed]",
      "text/plain": [
       "<Figure size 432x288 with 2 Axes>"
      ]
     },
     "metadata": {
      "needs_background": "light"
     },
     "output_type": "display_data"
    },
    {
     "data": {
      "image/png": "[encoded data removed]",
      "text/plain": [
       "<Figure size 432x288 with 2 Axes>"
      ]
     },
     "metadata": {
      "needs_background": "light"
     },
     "output_type": "display_data"
    },
    {
     "name": "stdout",
     "output_type": "stream",
     "text": [
      "2.499511064929936\n"
     ]
    },
    {
     "name": "stderr",
     "output_type": "stream",
     "text": [
      "/home/ecosta/Quantum-Machine-Learning-on-Fermions/src/hartree_fock_library.py:362: ComplexWarning: Casting complex values to real discards the imaginary part\n",
      "  psi[i] = coeff\n"
     ]
    }
   ],
   "source": [
    "\n",
    "psi=HFclass.compute_psi()\n",
    "print(np.linalg.norm(psi, axis=0))\n",
    "print(np.sum(psi[:, 0].conj() * psi[:, 1]))\n",
    "\n",
    "\n",
    "\n",
    "plt.plot(de)\n",
    "# plt.semilogy()\n",
    "# plt.ylim([0,0.001])\n",
    "plt.show()\n",
    "\n",
    "plt.imshow(np.real(psi))\n",
    "plt.colorbar()\n",
    "plt.show()\n",
    "plt.imshow(np.imag(psi))\n",
    "plt.colorbar()\n",
    "plt.show()\n",
    "\n",
    "psi_hf = HFclass.create_hf_psi(FHHamiltonian.basis, nparticles=4)\n",
    "print(psi_hf.conjugate().transpose() @ FHHamiltonian.hamiltonian @ psi_hf)"
   ]
  },
  {
   "cell_type": "code",
   "execution_count": 19,
   "metadata": {},
   "outputs": [
    {
     "name": "stdout",
     "output_type": "stream",
     "text": [
      "-0.7989055744753077\n",
      "[1 1 0 0 0 0 1 1 0 0 0 0]\n",
      "-0.8907696563439194\n",
      "[1 0 0 1 0 0 1 0 0 1 0 0]\n",
      "-1.4774204863407363\n",
      "[0 1 0 1 0 0 0 1 0 1 0 0]\n"
     ]
    }
   ],
   "source": [
    "# old initialization works better than Hartree Fock\n",
    "min=10000\n",
    "for i,b in enumerate(FHHamiltonian.basis):\n",
    "    psi=np.zeros(FHHamiltonian.basis.shape[0])\n",
    "    psi[i]=1.    \n",
    "    value= np.conj(psi) @ FHHamiltonian.hamiltonian @ psi\n",
    "    if value<min:\n",
    "        min=value\n",
    "        print(value)\n",
    "        print(b)\n",
    "        psi_hf=psi\n",
    "# idxs=np.random.randint(0,FHHamiltonian.basis.shape[0],size=3)\n",
    "# psi_hf=np.zeros(FHHamiltonian.basis.shape[0])\n",
    "# psi_hf [idxs]=1/np.sqrt(3)\n",
    "\n",
    "\n",
    "# for i, b in enumerate(FHHamiltonian.basis):\n",
    "#     psi = np.zeros(FHHamiltonian.basis.shape[0])\n",
    "#     psi[i] = 1.0\n",
    "#     value = np.conj(psi) @ FHHamiltonian.hamiltonian @ psi\n",
    "#     if value == min:\n",
    "#         min = value\n",
    "#         print(value)\n",
    "#         print(b)\n",
    "#         psi_hf[i] = psi[i]\n",
    "        \n",
    "# psi_hf=psi_hf/np.linalg.norm(psi_hf)"
   ]
  },
  {
   "cell_type": "code",
   "execution_count": null,
   "metadata": {},
   "outputs": [],
   "source": []
  },
  {
   "cell_type": "code",
   "execution_count": 20,
   "metadata": {},
   "outputs": [
    {
     "name": "stdout",
     "output_type": "stream",
     "text": [
      "number of operators= 2220\n"
     ]
    },
    {
     "ename": "AttributeError",
     "evalue": "'AdaptVQEFermiHubbard' object has no attribute 'set_hamiltonian'",
     "output_type": "error",
     "traceback": [
      "\u001b[0;31m---------------------------------------------------------------------------\u001b[0m",
      "\u001b[0;31mAttributeError\u001b[0m                            Traceback (most recent call last)",
      "\u001b[0;32m/tmp/ipykernel_835248/370320782.py\u001b[0m in \u001b[0;36m<module>\u001b[0;34m\u001b[0m\n\u001b[1;32m     12\u001b[0m \u001b[0mmodel\u001b[0m\u001b[0;34m=\u001b[0m\u001b[0mAdaptVQEFermiHubbard\u001b[0m\u001b[0;34m(\u001b[0m\u001b[0;34m)\u001b[0m\u001b[0;34m\u001b[0m\u001b[0;34m\u001b[0m\u001b[0m\n\u001b[1;32m     13\u001b[0m \u001b[0;34m\u001b[0m\u001b[0m\n\u001b[0;32m---> 14\u001b[0;31m \u001b[0mmodel\u001b[0m\u001b[0;34m.\u001b[0m\u001b[0mset_hamiltonian\u001b[0m\u001b[0;34m(\u001b[0m\u001b[0mFHHamiltonian\u001b[0m\u001b[0;34m.\u001b[0m\u001b[0mhamiltonian\u001b[0m\u001b[0;34m)\u001b[0m\u001b[0;34m\u001b[0m\u001b[0;34m\u001b[0m\u001b[0m\n\u001b[0m\u001b[1;32m     15\u001b[0m \u001b[0mmodel\u001b[0m\u001b[0;34m.\u001b[0m\u001b[0mset_reference_psi\u001b[0m\u001b[0;34m(\u001b[0m\u001b[0mpsi_hf\u001b[0m\u001b[0;34m)\u001b[0m\u001b[0;34m\u001b[0m\u001b[0;34m\u001b[0m\u001b[0m\n\u001b[1;32m     16\u001b[0m \u001b[0;34m\u001b[0m\u001b[0m\n",
      "\u001b[0;31mAttributeError\u001b[0m: 'AdaptVQEFermiHubbard' object has no attribute 'set_hamiltonian'"
     ]
    }
   ],
   "source": [
    "spinconservation=SpinConservation(size=size_a)\n",
    "operator_pool:Dict={}\n",
    "\n",
    "operator_pool=FHHamiltonian.set_operator_pool(operator_pool=operator_pool,conditions=[spinconservation.spin_conservation],nbody='two')\n",
    "operator_pool=FHHamiltonian.set_operator_pool(operator_pool=operator_pool,conditions=[spinconservation.spin_conservation],nbody='one')\n",
    "#%%\n",
    "print('number of operators=',len(list(operator_pool.keys())))\n",
    "\n",
    "# %%\n",
    "random=False\n",
    "\n",
    "model=AdaptVQEFermiHubbard()\n",
    "\n",
    "model.set_hamiltonian(FHHamiltonian.hamiltonian)\n",
    "model.set_reference_psi(psi_hf)\n",
    "\n",
    "model.set_operators_pool(operator_pool=operator_pool,random=random)\n",
    "\n",
    "#%%\n",
    "\n",
    "\n",
    "fit=Fit(method='BFGS',tolerance_opt=10**-7,e_ref=egs)\n",
    "\n",
    "fit.configuration_checkpoint=configuration\n",
    "fit.init_model(model)\n",
    "\n",
    "#%%\n",
    "history,grad_history=fit.run()\n",
    "# # %%\n",
    "print(model.operator_action_info)\n",
    "print(model.energy-egs/egs)"
   ]
  },
  {
   "cell_type": "code",
   "execution_count": null,
   "metadata": {},
   "outputs": [],
   "source": [
    "spinconservation=SpinConservation(size=size_a)\n",
    "operator_pool:Dict={}\n",
    "\n",
    "operator_pool=FHHamiltonian.set_operator_pool(operator_pool=operator_pool,conditions=[spinconservation.spin_conservation],nbody='two')\n",
    "operator_pool = FHHamiltonian.set_operator_pool(\n",
    "    operator_pool=operator_pool,\n",
    "    conditions=[spinconservation.spin_conservation],\n",
    "    nbody=\"one\",\n",
    ")\n",
    "\n",
    "AdVQE=AdaptVQEFermiHubbard()\n",
    "\n",
    "\n",
    "AdVQE.set_system(hamiltonian=FHHamiltonian.hamiltonian,psi0=psi_hf,operator_pool=operator_pool)\n",
    "\n",
    "AdVQE.set_hyperparameters(learning_rate=0.1,tolerance=10**-6)\n",
    "\n",
    "AdVQE.optimization()"
   ]
  },
  {
   "cell_type": "code",
   "execution_count": 12,
   "metadata": {},
   "outputs": [
    {
     "data": {
      "text/plain": [
       "[(8, 9, 8, 10),\n",
       " (8, 15),\n",
       " (8, 14),\n",
       " (8, 10),\n",
       " (9, 11),\n",
       " (13, 15),\n",
       " (8, 12),\n",
       " (10, 14),\n",
       " (10, 13),\n",
       " (9, 12),\n",
       " (11, 14),\n",
       " (10, 15),\n",
       " (8, 9),\n",
       " (12, 15),\n",
       " (9, 10),\n",
       " (12, 14)]"
      ]
     },
     "execution_count": 12,
     "metadata": {},
     "output_type": "execute_result"
    }
   ],
   "source": [
    "AdVQE.operator_action_info"
   ]
  },
  {
   "cell_type": "code",
   "execution_count": 11,
   "metadata": {},
   "outputs": [
    {
     "ename": "NameError",
     "evalue": "name 'history' is not defined",
     "output_type": "error",
     "traceback": [
      "\u001b[0;31m---------------------------------------------------------------------------\u001b[0m",
      "\u001b[0;31mNameError\u001b[0m                                 Traceback (most recent call last)",
      "\u001b[0;32m/tmp/ipykernel_630724/10996416.py\u001b[0m in \u001b[0;36m<module>\u001b[0;34m\u001b[0m\n\u001b[0;32m----> 1\u001b[0;31m \u001b[0mrel_error\u001b[0m\u001b[0;34m=\u001b[0m\u001b[0;34m[\u001b[0m\u001b[0mnp\u001b[0m\u001b[0;34m.\u001b[0m\u001b[0mabs\u001b[0m\u001b[0;34m(\u001b[0m\u001b[0;34m(\u001b[0m\u001b[0me_min\u001b[0m\u001b[0;34m-\u001b[0m\u001b[0megs\u001b[0m\u001b[0;34m)\u001b[0m\u001b[0;34m/\u001b[0m\u001b[0megs\u001b[0m\u001b[0;34m)\u001b[0m \u001b[0;32mfor\u001b[0m \u001b[0me_min\u001b[0m \u001b[0;32min\u001b[0m \u001b[0mhistory\u001b[0m\u001b[0;34m]\u001b[0m\u001b[0;34m\u001b[0m\u001b[0;34m\u001b[0m\u001b[0m\n\u001b[0m\u001b[1;32m      2\u001b[0m \u001b[0;34m\u001b[0m\u001b[0m\n\u001b[1;32m      3\u001b[0m \u001b[0mplt\u001b[0m\u001b[0;34m.\u001b[0m\u001b[0mfigure\u001b[0m\u001b[0;34m(\u001b[0m\u001b[0mfigsize\u001b[0m\u001b[0;34m=\u001b[0m\u001b[0;34m(\u001b[0m\u001b[0;36m10\u001b[0m\u001b[0;34m,\u001b[0m\u001b[0;36m10\u001b[0m\u001b[0;34m)\u001b[0m\u001b[0;34m)\u001b[0m\u001b[0;34m\u001b[0m\u001b[0;34m\u001b[0m\u001b[0m\n\u001b[1;32m      4\u001b[0m \u001b[0mplt\u001b[0m\u001b[0;34m.\u001b[0m\u001b[0mplot\u001b[0m\u001b[0;34m(\u001b[0m\u001b[0mrel_error\u001b[0m\u001b[0;34m,\u001b[0m\u001b[0mlinewidth\u001b[0m\u001b[0;34m=\u001b[0m\u001b[0;36m5\u001b[0m\u001b[0;34m)\u001b[0m\u001b[0;34m\u001b[0m\u001b[0;34m\u001b[0m\u001b[0m\n\u001b[1;32m      5\u001b[0m \u001b[0mplt\u001b[0m\u001b[0;34m.\u001b[0m\u001b[0mxlabel\u001b[0m\u001b[0;34m(\u001b[0m\u001b[0;34m'epochs'\u001b[0m\u001b[0;34m,\u001b[0m\u001b[0mfontsize\u001b[0m\u001b[0;34m=\u001b[0m\u001b[0;36m40\u001b[0m\u001b[0;34m)\u001b[0m\u001b[0;34m\u001b[0m\u001b[0;34m\u001b[0m\u001b[0m\n",
      "\u001b[0;31mNameError\u001b[0m: name 'history' is not defined"
     ]
    }
   ],
   "source": [
    "rel_error=[np.abs((e_min-egs)/egs) for e_min in history]\n",
    "\n",
    "plt.figure(figsize=(10,10))\n",
    "plt.plot(rel_error,linewidth=5)\n",
    "plt.xlabel('epochs',fontsize=40)\n",
    "plt.semilogy()\n",
    "plt.ylabel(r'$\\Delta_r e$',fontsize=40)\n",
    "plt.tick_params(axis='both', which='major', labelsize=40)\n",
    "plt.tick_params(axis='both', which='minor', labelsize=30)\n",
    "plt.show()\n",
    "\n",
    "\n",
    "plt.figure(figsize=(10,10))\n",
    "plt.plot(grad_history,linewidth=5)\n",
    "plt.xlabel('epochs',fontsize=40)\n",
    "plt.semilogy()\n",
    "plt.ylabel(r'grad',fontsize=40)\n",
    "plt.tick_params(axis='both', which='major', labelsize=40)\n",
    "plt.tick_params(axis='both', which='minor', labelsize=30)\n",
    "plt.show()\n"
   ]
  }
 ],
 "metadata": {
  "kernelspec": {
   "display_name": "dft_env",
   "language": "python",
   "name": "python3"
  },
  "language_info": {
   "codemirror_mode": {
    "name": "ipython",
    "version": 3
   },
   "file_extension": ".py",
   "mimetype": "text/x-python",
   "name": "python",
   "nbconvert_exporter": "python",
   "pygments_lexer": "ipython3",
   "version": "3.9.7"
  }
 },
 "nbformat": 4,
 "nbformat_minor": 2
}
