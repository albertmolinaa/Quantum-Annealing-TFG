{
 "cells": [
  {
   "cell_type": "markdown",
   "metadata": {},
   "source": [
    "# Quantum Chemistry (on my own)"
   ]
  },
  {
   "cell_type": "code",
   "execution_count": 3,
   "metadata": {},
   "outputs": [],
   "source": [
    "from src.hartree_fock_library import HartreeFock,HartreeFockVariational\n",
    "from src.hamiltonian_utils import get_twobody_nuclearshell_model,FermiHubbardHamiltonian,SingleParticleState\n",
    "import numpy as np\n",
    "import torch\n",
    "from typing import Dict,List\n",
    "from src.qml_models import AdaptVQEFermiHubbard\n",
    "from src.qml_utils.train import Fit\n",
    "from src.qml_utils.utils import configuration\n",
    "import matplotlib.pyplot as plt\n",
    "from tqdm import tqdm\n"
   ]
  },
  {
   "cell_type": "code",
   "execution_count": 2,
   "metadata": {},
   "outputs": [],
   "source": [
    "class SpinConservation():\n",
    "    \n",
    "    def __init__(self,size:int):\n",
    "        \n",
    "        self.size=size\n",
    "\n",
    "    def spin_conservation(self,idxs:List):\n",
    "\n",
    "        l=len(idxs)\n",
    "\n",
    "        total_initial_spin=0.\n",
    "        for idx in idxs[:l//2]:\n",
    "            \n",
    "            if idx < self.size:\n",
    "                total_initial_spin+=1\n",
    "                \n",
    "        total_final_spin=0.\n",
    "        for idx in idxs[l//2:]:\n",
    "            \n",
    "            if idx < self.size:\n",
    "                total_final_spin+=1\n",
    "        return total_initial_spin==total_final_spin\n",
    "    \n",
    "    def local_interaction(self,idxs:List):\n",
    "        \n",
    "        condition=idxs[0]==idxs[-1] and idxs[1]==idxs[-2] and idxs[0]+self.size==idxs[1]\n",
    "        \n",
    "        return condition"
   ]
  },
  {
   "cell_type": "code",
   "execution_count": 3,
   "metadata": {},
   "outputs": [
    {
     "name": "stdout",
     "output_type": "stream",
     "text": [
      "<itertools.combinations object at 0x7fe885187090>\n",
      "[[0. 0. 0. 0. 0. 0. 0. 0. 0. 0. 0. 0.]\n",
      " [0. 0. 0. 0. 0. 0. 0. 0. 0. 0. 0. 0.]\n",
      " [0. 0. 0. 0. 0. 0. 0. 0. 0. 0. 0. 0.]\n",
      " [0. 0. 0. 0. 0. 0. 0. 0. 0. 0. 0. 0.]\n",
      " [0. 0. 0. 0. 0. 0. 0. 0. 0. 0. 0. 0.]\n",
      " [0. 0. 0. 0. 0. 0. 0. 0. 0. 0. 0. 0.]\n",
      " [0. 0. 0. 0. 0. 0. 0. 0. 0. 0. 0. 0.]\n",
      " [0. 0. 0. 0. 0. 0. 0. 0. 0. 0. 0. 0.]\n",
      " [0. 0. 0. 0. 0. 0. 0. 0. 0. 0. 0. 0.]\n",
      " [0. 0. 0. 0. 0. 0. 0. 0. 0. 0. 0. 0.]\n",
      " [0. 0. 0. 0. 0. 0. 0. 0. 0. 0. 0. 0.]\n",
      " [0. 0. 0. 0. 0. 0. 0. 0. 0. 0. 0. 0.]]\n",
      "  (0, 0)\t-14.380058584653703\n",
      "  (0, 1)\t1.0\n",
      "  (0, 8)\t-1.0\n",
      "  (0, 15)\t1.0\n",
      "  (0, 120)\t-1.0\n",
      "  (1, 0)\t1.0\n",
      "  (1, 1)\t-6.302228528583765\n",
      "  (1, 2)\t1.0\n",
      "  (1, 5)\t1.0\n",
      "  (1, 11)\t-1.0\n",
      "  (1, 16)\t1.0\n",
      "  (1, 121)\t-1.0\n",
      "  (2, 1)\t1.0\n",
      "  (2, 2)\t-5.555509001265027\n",
      "  (2, 3)\t1.0\n",
      "  (2, 6)\t1.0\n",
      "  (2, 13)\t-1.0\n",
      "  (2, 17)\t1.0\n",
      "  (2, 122)\t-1.0\n",
      "  (3, 2)\t1.0\n",
      "  (3, 3)\t-6.111167415716245\n",
      "  (3, 4)\t1.0\n",
      "  (3, 7)\t1.0\n",
      "  (3, 14)\t-1.0\n",
      "  (3, 18)\t1.0\n",
      "  :\t:\n",
      "  (220, 222)\t1.0\n",
      "  (221, 56)\t-1.0\n",
      "  (221, 206)\t1.0\n",
      "  (221, 211)\t-1.0\n",
      "  (221, 218)\t1.0\n",
      "  (221, 220)\t1.0\n",
      "  (221, 221)\t-7.023728200939894\n",
      "  (221, 223)\t1.0\n",
      "  (222, 57)\t-1.0\n",
      "  (222, 207)\t1.0\n",
      "  (222, 220)\t1.0\n",
      "  (222, 222)\t-6.2400243665958435\n",
      "  (222, 223)\t1.0\n",
      "  (223, 58)\t-1.0\n",
      "  (223, 208)\t1.0\n",
      "  (223, 212)\t-1.0\n",
      "  (223, 221)\t1.0\n",
      "  (223, 222)\t1.0\n",
      "  (223, 223)\t-6.2770086736211566\n",
      "  (223, 224)\t1.0\n",
      "  (224, 59)\t-1.0\n",
      "  (224, 209)\t1.0\n",
      "  (224, 213)\t-1.0\n",
      "  (224, 223)\t1.0\n",
      "  (224, 224)\t-14.832667088072375\n",
      "[-16.7263847]\n"
     ]
    }
   ],
   "source": [
    "size_a=6\n",
    "size_b=6\n",
    "FHHamiltonian=FermiHubbardHamiltonian(size_a=size_a,size_b=size_a,nparticles_a=2,nparticles_b=2)\n",
    "\n",
    "u=8.\n",
    "t=1.\n",
    "v_ext=np.random.uniform(size=size_a)\n",
    "\n",
    "# define the local onsite potential\n",
    "twobody_matrix:Dict={}\n",
    "for i in range(size_a):\n",
    "    twobody_matrix[(i,i+size_a,i+size_a,i)]=u\n",
    "    twobody_matrix[(i, i + size_a, i, i + size_a)] = -u\n",
    "    twobody_matrix[( i + size_a,i , i + size_a,i)] = -u\n",
    "    twobody_matrix[(i+size_a, i , i , i+size_a)] = u\n",
    "\n",
    "kinetic_term:Dict={}\n",
    "adj_matrix=np.zeros((size_a+size_b,size_a+size_b))\n",
    "for i in range(size_a):\n",
    "    kinetic_term[(i,(i+1) % size_a)]=t\n",
    "    kinetic_term[(size_a +i,size_a+(i+1) % size_a)]=t\n",
    "    adj_matrix[i,(i+1)%size_a]=t\n",
    "    adj_matrix[(i + 1) % size_a,i]=t\n",
    "    adj_matrix[i,i]=-2*t\n",
    "    adj_matrix[i+size_a,i+size_a]=-2*t\n",
    "    adj_matrix[i+size_a,size_a+ (i + 1) % size_a] = t\n",
    "    adj_matrix[size_a+(i + 1) % size_a,size_a+ i] = t\n",
    "\n",
    "\n",
    "print(adj_matrix-adj_matrix.T)\n",
    "# %%\n",
    "\n",
    "FHHamiltonian.get_external_potential(external_potential=np.append(v_ext,v_ext))\n",
    "FHHamiltonian.get_kinetic_operator(adj_matrix=kinetic_term)\n",
    "FHHamiltonian.get_twobody_interaction(twobody_dict=twobody_matrix)\n",
    "FHHamiltonian.get_hamiltonian()\n",
    "\n",
    "# print(FHHamiltonian.hamiltonian)\n",
    "print(FHHamiltonian.hamiltonian)\n",
    "# print(FHHamiltonian.twobody_operator)\n",
    "# print(FHHamiltonian.kinetic_operator+FHHamiltonian.twobody_operator-FHHamiltonian.hamiltonian)\n",
    "egs,psi0=FHHamiltonian.get_spectrum(n_states=1)\n",
    "\n",
    "print(egs)\n",
    "\n",
    "\n",
    "# # %% define the fit class\n",
    "\n",
    "# HFFit = FitHartreeFock(learning_rate=0.1, epochs=200)\n",
    "\n",
    "# history_hf = HFFit.run(HFE)\n",
    "# # %%\n",
    "# psi_hf = HFE.get_psi().detach().numpy()\n",
    "\n",
    "# print(psi_hf.conjugate().transpose().dot(FHHamiltonian.hamiltonian.dot(psi_hf)))"
   ]
  },
  {
   "cell_type": "code",
   "execution_count": 4,
   "metadata": {},
   "outputs": [
    {
     "name": "stderr",
     "output_type": "stream",
     "text": [
      "de=0.000000000000000: 100%|██████████| 50/50 [00:00<00:00, 587.08it/s]\n"
     ]
    }
   ],
   "source": [
    "# %% Hartree fock initialization\n",
    "\n",
    "HFclass = HartreeFock(size=size_a, nspecies=2)\n",
    "\n",
    "HFclass.get_hamiltonian(twobody_interaction=twobody_matrix, kinetic_term=adj_matrix,external_potential=np.append(v_ext,v_ext))\n",
    "\n",
    "de, history_herm, ortho_history = HFclass.selfconsistent_computation(eta=1, epochs=50)"
   ]
  },
  {
   "cell_type": "code",
   "execution_count": 5,
   "metadata": {},
   "outputs": [
    {
     "data": {
      "image/png": "[encoded data removed]",
      "text/plain": [
       "<Figure size 432x288 with 1 Axes>"
      ]
     },
     "metadata": {
      "needs_background": "light"
     },
     "output_type": "display_data"
    },
    {
     "data": {
      "image/png": "[encoded data removed]",
      "text/plain": [
       "<Figure size 432x288 with 1 Axes>"
      ]
     },
     "metadata": {
      "needs_background": "light"
     },
     "output_type": "display_data"
    },
    {
     "name": "stdout",
     "output_type": "stream",
     "text": [
      "-31.24222954358046\n"
     ]
    }
   ],
   "source": [
    "plt.plot(history_herm)\n",
    "plt.show()\n",
    "\n",
    "plt.plot(ortho_history)\n",
    "plt.show()\n",
    "\n",
    "energy = HFclass.compute_energy()\n",
    "\n",
    "print(energy)"
   ]
  },
  {
   "cell_type": "code",
   "execution_count": 6,
   "metadata": {},
   "outputs": [
    {
     "name": "stdout",
     "output_type": "stream",
     "text": [
      "1.0000000000000002\n",
      "-0.4022193805566787\n"
     ]
    },
    {
     "data": {
      "image/png": "[encoded data removed]",
      "text/plain": [
       "<Figure size 432x288 with 1 Axes>"
      ]
     },
     "metadata": {
      "needs_background": "light"
     },
     "output_type": "display_data"
    },
    {
     "data": {
      "image/png": "[encoded data removed]",
      "text/plain": [
       "<Figure size 432x288 with 2 Axes>"
      ]
     },
     "metadata": {
      "needs_background": "light"
     },
     "output_type": "display_data"
    },
    {
     "data": {
      "image/png": "[encoded data removed]",
      "text/plain": [
       "<Figure size 432x288 with 2 Axes>"
      ]
     },
     "metadata": {
      "needs_background": "light"
     },
     "output_type": "display_data"
    }
   ],
   "source": [
    "print(np.linalg.norm(HFclass.weights[:, 0]))\n",
    "print(np.sum(HFclass.weights[0, :].conj() * HFclass.weights[:, 1]))\n",
    "\n",
    "plt.plot(de)\n",
    "\n",
    "# plt.semilogy()\n",
    "# plt.ylim([0,0.001])\n",
    "plt.show()\n",
    "\n",
    "plt.imshow(np.real(HFclass.weights))\n",
    "plt.colorbar()\n",
    "plt.show()\n",
    "plt.imshow(np.imag(HFclass.weights))\n",
    "plt.colorbar()\n",
    "plt.show()\n"
   ]
  },
  {
   "cell_type": "code",
   "execution_count": 7,
   "metadata": {},
   "outputs": [
    {
     "name": "stdout",
     "output_type": "stream",
     "text": [
      "-11.274098731386955\n"
     ]
    }
   ],
   "source": [
    "psi_hf=HFclass.create_hf_psi(FHHamiltonian.basis,nparticles=4)\n",
    "print(psi_hf.conjugate().transpose() @ FHHamiltonian.hamiltonian @ psi_hf)"
   ]
  },
  {
   "cell_type": "code",
   "execution_count": 8,
   "metadata": {},
   "outputs": [
    {
     "name": "stdout",
     "output_type": "stream",
     "text": [
      "-14.380058584653703\n",
      "[1 1 0 0 0 0 1 1 0 0 0 0]\n",
      "-15.678603037631701\n",
      "[0 1 1 0 0 0 0 1 1 0 0 0]\n"
     ]
    }
   ],
   "source": [
    "# old initialization works better than Hartree Fock\n",
    "min = 10000\n",
    "for i, b in enumerate(FHHamiltonian.basis):\n",
    "    psi = np.zeros(FHHamiltonian.basis.shape[0])\n",
    "    psi[i] = 1.0\n",
    "    value = np.conj(psi) @ FHHamiltonian.hamiltonian @ psi\n",
    "    if value < min:\n",
    "        min = value\n",
    "        print(value)\n",
    "        print(b)\n",
    "        psi_base = psi"
   ]
  },
  {
   "cell_type": "code",
   "execution_count": null,
   "metadata": {},
   "outputs": [],
   "source": []
  },
  {
   "cell_type": "code",
   "execution_count": 11,
   "metadata": {},
   "outputs": [
    {
     "name": "stdout",
     "output_type": "stream",
     "text": [
      "number of operators= 2220\n"
     ]
    },
    {
     "name": "stderr",
     "output_type": "stream",
     "text": [
      "  4%|▍         | 2/50 [00:00<00:03, 14.67it/s]"
     ]
    },
    {
     "name": "stdout",
     "output_type": "stream",
     "text": [
      "Optimization Success= True\n",
      "energy=-12.27224\n",
      "average gradient=0.000000000016936 \n",
      "\n",
      "grad tolerance=16.814460597125297 \n",
      "\n",
      "Optimization Success= True\n",
      "energy=-13.04577\n",
      "average gradient=0.000000244680814 \n",
      "\n",
      "grad tolerance=18.868298057577881 \n",
      "\n"
     ]
    },
    {
     "name": "stderr",
     "output_type": "stream",
     "text": [
      "  8%|▊         | 4/50 [00:00<00:05,  8.10it/s]"
     ]
    },
    {
     "name": "stdout",
     "output_type": "stream",
     "text": [
      "Optimization Success= True\n",
      "energy=-13.98320\n",
      "average gradient=0.000000070420287 \n",
      "\n",
      "grad tolerance=15.789101317420663 \n",
      "\n",
      "Optimization Success= True\n",
      "energy=-14.70219\n",
      "average gradient=0.000000120391169 \n",
      "\n",
      "grad tolerance=17.066132957164125 \n",
      "\n"
     ]
    },
    {
     "name": "stderr",
     "output_type": "stream",
     "text": [
      " 10%|█         | 5/50 [00:00<00:07,  5.93it/s]"
     ]
    },
    {
     "name": "stdout",
     "output_type": "stream",
     "text": [
      "Optimization Success= True\n",
      "energy=-14.88617\n",
      "average gradient=0.000000437858695 \n",
      "\n",
      "grad tolerance=14.288509671705567 \n",
      "\n"
     ]
    },
    {
     "name": "stderr",
     "output_type": "stream",
     "text": [
      " 12%|█▏        | 6/50 [00:01<00:10,  4.28it/s]"
     ]
    },
    {
     "name": "stdout",
     "output_type": "stream",
     "text": [
      "Optimization Success= True\n",
      "energy=-15.12136\n",
      "average gradient=0.000000160442967 \n",
      "\n",
      "grad tolerance=13.848331471788226 \n",
      "\n"
     ]
    },
    {
     "name": "stderr",
     "output_type": "stream",
     "text": [
      " 14%|█▍        | 7/50 [00:01<00:13,  3.16it/s]"
     ]
    },
    {
     "name": "stdout",
     "output_type": "stream",
     "text": [
      "Optimization Success= True\n",
      "energy=-15.29587\n",
      "average gradient=0.000000000312393 \n",
      "\n",
      "grad tolerance=12.898649731263173 \n",
      "\n"
     ]
    },
    {
     "name": "stderr",
     "output_type": "stream",
     "text": [
      " 16%|█▌        | 8/50 [00:02<00:16,  2.53it/s]"
     ]
    },
    {
     "name": "stdout",
     "output_type": "stream",
     "text": [
      "Optimization Success= True\n",
      "energy=-15.50620\n",
      "average gradient=0.000000003146163 \n",
      "\n",
      "grad tolerance=12.102551472871701 \n",
      "\n"
     ]
    },
    {
     "name": "stderr",
     "output_type": "stream",
     "text": [
      " 18%|█▊        | 9/50 [00:02<00:20,  1.99it/s]"
     ]
    },
    {
     "name": "stdout",
     "output_type": "stream",
     "text": [
      "Optimization Success= True\n",
      "energy=-15.65360\n",
      "average gradient=0.000000000006338 \n",
      "\n",
      "grad tolerance=10.716489965280001 \n",
      "\n"
     ]
    },
    {
     "name": "stderr",
     "output_type": "stream",
     "text": [
      " 20%|██        | 10/50 [00:03<00:25,  1.58it/s]"
     ]
    },
    {
     "name": "stdout",
     "output_type": "stream",
     "text": [
      "Optimization Success= True\n",
      "energy=-15.79960\n",
      "average gradient=0.000000000000604 \n",
      "\n",
      "grad tolerance=10.356177508663567 \n",
      "\n"
     ]
    },
    {
     "name": "stderr",
     "output_type": "stream",
     "text": [
      " 22%|██▏       | 11/50 [00:04<00:29,  1.32it/s]"
     ]
    },
    {
     "name": "stdout",
     "output_type": "stream",
     "text": [
      "Optimization Success= True\n",
      "energy=-15.94034\n",
      "average gradient=0.000000011726581 \n",
      "\n",
      "grad tolerance=9.831353852679378 \n",
      "\n"
     ]
    },
    {
     "name": "stderr",
     "output_type": "stream",
     "text": [
      " 24%|██▍       | 12/50 [00:06<00:35,  1.09it/s]"
     ]
    },
    {
     "name": "stdout",
     "output_type": "stream",
     "text": [
      "Optimization Success= True\n",
      "energy=-16.07952\n",
      "average gradient=0.000000000000551 \n",
      "\n",
      "grad tolerance=9.287064084625609 \n",
      "\n"
     ]
    },
    {
     "name": "stderr",
     "output_type": "stream",
     "text": [
      " 26%|██▌       | 13/50 [00:07<00:37,  1.00s/it]"
     ]
    },
    {
     "name": "stdout",
     "output_type": "stream",
     "text": [
      "Optimization Success= True\n",
      "energy=-16.16074\n",
      "average gradient=0.000000236923971 \n",
      "\n",
      "grad tolerance=8.566008954890897 \n",
      "\n"
     ]
    },
    {
     "name": "stderr",
     "output_type": "stream",
     "text": [
      " 28%|██▊       | 14/50 [00:08<00:40,  1.11s/it]"
     ]
    },
    {
     "name": "stdout",
     "output_type": "stream",
     "text": [
      "Optimization Success= True\n",
      "energy=-16.23624\n",
      "average gradient=0.000000125605667 \n",
      "\n",
      "grad tolerance=7.995631556413832 \n",
      "\n"
     ]
    },
    {
     "name": "stderr",
     "output_type": "stream",
     "text": [
      " 30%|███       | 15/50 [00:10<00:47,  1.36s/it]"
     ]
    },
    {
     "name": "stdout",
     "output_type": "stream",
     "text": [
      "Optimization Success= True\n",
      "energy=-16.30553\n",
      "average gradient=0.000000102331396 \n",
      "\n",
      "grad tolerance=7.188869819241200 \n",
      "\n"
     ]
    },
    {
     "name": "stderr",
     "output_type": "stream",
     "text": [
      " 32%|███▏      | 16/50 [00:12<00:51,  1.51s/it]"
     ]
    },
    {
     "name": "stdout",
     "output_type": "stream",
     "text": [
      "Optimization Success= True\n",
      "energy=-16.37391\n",
      "average gradient=0.000000058050716 \n",
      "\n",
      "grad tolerance=6.751970973584561 \n",
      "\n"
     ]
    },
    {
     "name": "stderr",
     "output_type": "stream",
     "text": [
      " 34%|███▍      | 17/50 [00:14<00:54,  1.65s/it]"
     ]
    },
    {
     "name": "stdout",
     "output_type": "stream",
     "text": [
      "Optimization Success= True\n",
      "energy=-16.43461\n",
      "average gradient=0.000000099572686 \n",
      "\n",
      "grad tolerance=6.181328435159833 \n",
      "\n"
     ]
    },
    {
     "name": "stderr",
     "output_type": "stream",
     "text": [
      " 36%|███▌      | 18/50 [00:16<00:57,  1.80s/it]"
     ]
    },
    {
     "name": "stdout",
     "output_type": "stream",
     "text": [
      "Optimization Success= True\n",
      "energy=-16.49079\n",
      "average gradient=0.000000085675572 \n",
      "\n",
      "grad tolerance=5.486369065123680 \n",
      "\n"
     ]
    },
    {
     "name": "stderr",
     "output_type": "stream",
     "text": [
      " 38%|███▊      | 19/50 [00:19<01:01,  1.97s/it]"
     ]
    },
    {
     "name": "stdout",
     "output_type": "stream",
     "text": [
      "Optimization Success= True\n",
      "energy=-16.54280\n",
      "average gradient=0.000000265069329 \n",
      "\n",
      "grad tolerance=4.519954462611948 \n",
      "\n"
     ]
    },
    {
     "name": "stderr",
     "output_type": "stream",
     "text": [
      " 40%|████      | 20/50 [00:21<01:02,  2.08s/it]"
     ]
    },
    {
     "name": "stdout",
     "output_type": "stream",
     "text": [
      "Optimization Success= True\n",
      "energy=-16.59417\n",
      "average gradient=0.000000218568655 \n",
      "\n",
      "grad tolerance=3.856179451868352 \n",
      "\n"
     ]
    },
    {
     "name": "stderr",
     "output_type": "stream",
     "text": [
      " 42%|████▏     | 21/50 [00:23<01:00,  2.08s/it]"
     ]
    },
    {
     "name": "stdout",
     "output_type": "stream",
     "text": [
      "Optimization Success= True\n",
      "energy=-16.60424\n",
      "average gradient=0.000000241786018 \n",
      "\n",
      "grad tolerance=2.929309763914403 \n",
      "\n"
     ]
    },
    {
     "name": "stderr",
     "output_type": "stream",
     "text": [
      " 44%|████▍     | 22/50 [00:26<01:02,  2.23s/it]"
     ]
    },
    {
     "name": "stdout",
     "output_type": "stream",
     "text": [
      "Optimization Success= True\n",
      "energy=-16.61419\n",
      "average gradient=0.000000189270883 \n",
      "\n",
      "grad tolerance=2.708313870740214 \n",
      "\n"
     ]
    },
    {
     "name": "stderr",
     "output_type": "stream",
     "text": [
      " 46%|████▌     | 23/50 [00:28<01:03,  2.36s/it]"
     ]
    },
    {
     "name": "stdout",
     "output_type": "stream",
     "text": [
      "Optimization Success= True\n",
      "energy=-16.62324\n",
      "average gradient=0.000000196328589 \n",
      "\n",
      "grad tolerance=2.468240782380874 \n",
      "\n"
     ]
    },
    {
     "name": "stderr",
     "output_type": "stream",
     "text": [
      " 48%|████▊     | 24/50 [00:31<01:05,  2.52s/it]"
     ]
    },
    {
     "name": "stdout",
     "output_type": "stream",
     "text": [
      "Optimization Success= True\n",
      "energy=-16.63236\n",
      "average gradient=0.000000187071909 \n",
      "\n",
      "grad tolerance=2.172448185233202 \n",
      "\n"
     ]
    },
    {
     "name": "stderr",
     "output_type": "stream",
     "text": [
      " 50%|█████     | 25/50 [00:34<01:06,  2.65s/it]"
     ]
    },
    {
     "name": "stdout",
     "output_type": "stream",
     "text": [
      "Optimization Success= True\n",
      "energy=-16.63897\n",
      "average gradient=0.000000276457009 \n",
      "\n",
      "grad tolerance=1.820119118796669 \n",
      "\n"
     ]
    },
    {
     "name": "stderr",
     "output_type": "stream",
     "text": [
      " 52%|█████▏    | 26/50 [00:37<01:05,  2.73s/it]"
     ]
    },
    {
     "name": "stdout",
     "output_type": "stream",
     "text": [
      "Optimization Success= True\n",
      "energy=-16.64556\n",
      "average gradient=0.000000298994857 \n",
      "\n",
      "grad tolerance=1.672691598644891 \n",
      "\n"
     ]
    },
    {
     "name": "stderr",
     "output_type": "stream",
     "text": [
      " 54%|█████▍    | 27/50 [00:40<01:05,  2.85s/it]"
     ]
    },
    {
     "name": "stdout",
     "output_type": "stream",
     "text": [
      "Optimization Success= True\n",
      "energy=-16.64988\n",
      "average gradient=0.000000105927815 \n",
      "\n",
      "grad tolerance=1.508205813629106 \n",
      "\n"
     ]
    },
    {
     "name": "stderr",
     "output_type": "stream",
     "text": [
      " 56%|█████▌    | 28/50 [00:43<01:03,  2.91s/it]"
     ]
    },
    {
     "name": "stdout",
     "output_type": "stream",
     "text": [
      "Optimization Success= True\n",
      "energy=-16.65418\n",
      "average gradient=0.000000196250709 \n",
      "\n",
      "grad tolerance=1.384189457279569 \n",
      "\n"
     ]
    },
    {
     "name": "stderr",
     "output_type": "stream",
     "text": [
      " 58%|█████▊    | 29/50 [00:48<01:11,  3.39s/it]"
     ]
    },
    {
     "name": "stdout",
     "output_type": "stream",
     "text": [
      "Optimization Success= True\n",
      "energy=-16.68276\n",
      "average gradient=0.000000241585429 \n",
      "\n",
      "grad tolerance=1.246692260264737 \n",
      "\n"
     ]
    },
    {
     "name": "stderr",
     "output_type": "stream",
     "text": [
      " 60%|██████    | 30/50 [00:51<01:07,  3.38s/it]"
     ]
    },
    {
     "name": "stdout",
     "output_type": "stream",
     "text": [
      "Optimization Success= True\n",
      "energy=-16.68533\n",
      "average gradient=0.000000240939544 \n",
      "\n",
      "grad tolerance=1.143661682437687 \n",
      "\n"
     ]
    },
    {
     "name": "stderr",
     "output_type": "stream",
     "text": [
      " 62%|██████▏   | 31/50 [00:55<01:05,  3.43s/it]"
     ]
    },
    {
     "name": "stdout",
     "output_type": "stream",
     "text": [
      "Optimization Success= True\n",
      "energy=-16.68790\n",
      "average gradient=0.000000295733155 \n",
      "\n",
      "grad tolerance=1.019777814004359 \n",
      "\n"
     ]
    },
    {
     "name": "stderr",
     "output_type": "stream",
     "text": [
      " 64%|██████▍   | 32/50 [00:59<01:06,  3.71s/it]"
     ]
    },
    {
     "name": "stdout",
     "output_type": "stream",
     "text": [
      "Optimization Success= True\n",
      "energy=-16.70076\n",
      "average gradient=0.000000230352970 \n",
      "\n",
      "grad tolerance=0.879278668157807 \n",
      "\n"
     ]
    },
    {
     "name": "stderr",
     "output_type": "stream",
     "text": [
      " 66%|██████▌   | 33/50 [01:03<01:06,  3.89s/it]"
     ]
    },
    {
     "name": "stdout",
     "output_type": "stream",
     "text": [
      "Optimization Success= True\n",
      "energy=-16.70546\n",
      "average gradient=0.000000106550937 \n",
      "\n",
      "grad tolerance=0.845922160708678 \n",
      "\n"
     ]
    },
    {
     "name": "stderr",
     "output_type": "stream",
     "text": [
      " 68%|██████▊   | 34/50 [01:08<01:05,  4.10s/it]"
     ]
    },
    {
     "name": "stdout",
     "output_type": "stream",
     "text": [
      "Optimization Success= True\n",
      "energy=-16.70794\n",
      "average gradient=0.000000205645949 \n",
      "\n",
      "grad tolerance=0.844656295691154 \n",
      "\n"
     ]
    },
    {
     "name": "stderr",
     "output_type": "stream",
     "text": [
      " 70%|███████   | 35/50 [01:12<01:00,  4.03s/it]"
     ]
    },
    {
     "name": "stdout",
     "output_type": "stream",
     "text": [
      "Optimization Success= True\n",
      "energy=-16.70872\n",
      "average gradient=0.000000216471305 \n",
      "\n",
      "grad tolerance=0.832299204965568 \n",
      "\n"
     ]
    },
    {
     "name": "stderr",
     "output_type": "stream",
     "text": [
      " 72%|███████▏  | 36/50 [01:16<00:56,  4.07s/it]"
     ]
    },
    {
     "name": "stdout",
     "output_type": "stream",
     "text": [
      "Optimization Success= True\n",
      "energy=-16.70957\n",
      "average gradient=0.000000148632942 \n",
      "\n",
      "grad tolerance=0.815242770602352 \n",
      "\n"
     ]
    },
    {
     "name": "stderr",
     "output_type": "stream",
     "text": [
      " 74%|███████▍  | 37/50 [01:21<00:55,  4.24s/it]"
     ]
    },
    {
     "name": "stdout",
     "output_type": "stream",
     "text": [
      "Optimization Success= True\n",
      "energy=-16.71026\n",
      "average gradient=0.000000145301950 \n",
      "\n",
      "grad tolerance=0.794488291200277 \n",
      "\n"
     ]
    },
    {
     "name": "stderr",
     "output_type": "stream",
     "text": [
      " 76%|███████▌  | 38/50 [01:25<00:50,  4.18s/it]"
     ]
    },
    {
     "name": "stdout",
     "output_type": "stream",
     "text": [
      "Optimization Success= True\n",
      "energy=-16.71100\n",
      "average gradient=0.000000300565308 \n",
      "\n",
      "grad tolerance=0.770280867139553 \n",
      "\n"
     ]
    },
    {
     "name": "stderr",
     "output_type": "stream",
     "text": [
      " 78%|███████▊  | 39/50 [01:30<00:49,  4.46s/it]"
     ]
    },
    {
     "name": "stdout",
     "output_type": "stream",
     "text": [
      "Optimization Success= True\n",
      "energy=-16.71243\n",
      "average gradient=0.000000175891726 \n",
      "\n",
      "grad tolerance=0.742061588187090 \n",
      "\n"
     ]
    },
    {
     "name": "stderr",
     "output_type": "stream",
     "text": [
      " 80%|████████  | 40/50 [01:35<00:45,  4.58s/it]"
     ]
    },
    {
     "name": "stdout",
     "output_type": "stream",
     "text": [
      "Optimization Success= True\n",
      "energy=-16.71281\n",
      "average gradient=0.000000187360766 \n",
      "\n",
      "grad tolerance=0.708197412230699 \n",
      "\n"
     ]
    },
    {
     "name": "stderr",
     "output_type": "stream",
     "text": [
      " 82%|████████▏ | 41/50 [01:40<00:42,  4.77s/it]"
     ]
    },
    {
     "name": "stdout",
     "output_type": "stream",
     "text": [
      "Optimization Success= True\n",
      "energy=-16.71319\n",
      "average gradient=0.000000241034595 \n",
      "\n",
      "grad tolerance=0.694347052016803 \n",
      "\n"
     ]
    },
    {
     "name": "stderr",
     "output_type": "stream",
     "text": [
      " 84%|████████▍ | 42/50 [01:45<00:39,  4.88s/it]"
     ]
    },
    {
     "name": "stdout",
     "output_type": "stream",
     "text": [
      "Optimization Success= True\n",
      "energy=-16.71364\n",
      "average gradient=0.000000188635966 \n",
      "\n",
      "grad tolerance=0.679980508414896 \n",
      "\n"
     ]
    },
    {
     "name": "stderr",
     "output_type": "stream",
     "text": [
      " 86%|████████▌ | 43/50 [01:50<00:34,  4.97s/it]"
     ]
    },
    {
     "name": "stdout",
     "output_type": "stream",
     "text": [
      "Optimization Success= True\n",
      "energy=-16.71407\n",
      "average gradient=0.000000218109464 \n",
      "\n",
      "grad tolerance=0.651604893325916 \n",
      "\n"
     ]
    },
    {
     "name": "stderr",
     "output_type": "stream",
     "text": [
      " 88%|████████▊ | 44/50 [01:55<00:29,  4.89s/it]"
     ]
    },
    {
     "name": "stdout",
     "output_type": "stream",
     "text": [
      "Optimization Success= True\n",
      "energy=-16.71430\n",
      "average gradient=0.000000240357688 \n",
      "\n",
      "grad tolerance=0.624535213463406 \n",
      "\n"
     ]
    },
    {
     "name": "stderr",
     "output_type": "stream",
     "text": [
      " 90%|█████████ | 45/50 [01:59<00:23,  4.80s/it]"
     ]
    },
    {
     "name": "stdout",
     "output_type": "stream",
     "text": [
      "Optimization Success= True\n",
      "energy=-16.71458\n",
      "average gradient=0.000000206554743 \n",
      "\n",
      "grad tolerance=0.611140504002291 \n",
      "\n"
     ]
    },
    {
     "name": "stderr",
     "output_type": "stream",
     "text": [
      " 92%|█████████▏| 46/50 [02:05<00:20,  5.04s/it]"
     ]
    },
    {
     "name": "stdout",
     "output_type": "stream",
     "text": [
      "Optimization Success= True\n",
      "energy=-16.71497\n",
      "average gradient=0.000000326223605 \n",
      "\n",
      "grad tolerance=0.589297265399213 \n",
      "\n"
     ]
    },
    {
     "name": "stderr",
     "output_type": "stream",
     "text": [
      " 94%|█████████▍| 47/50 [02:11<00:15,  5.23s/it]"
     ]
    },
    {
     "name": "stdout",
     "output_type": "stream",
     "text": [
      "Optimization Success= True\n",
      "energy=-16.71533\n",
      "average gradient=0.000000203570108 \n",
      "\n",
      "grad tolerance=0.576191374059816 \n",
      "\n"
     ]
    },
    {
     "name": "stderr",
     "output_type": "stream",
     "text": [
      " 96%|█████████▌| 48/50 [02:17<00:11,  5.68s/it]"
     ]
    },
    {
     "name": "stdout",
     "output_type": "stream",
     "text": [
      "Optimization Success= True\n",
      "energy=-16.71667\n",
      "average gradient=0.000000285181214 \n",
      "\n",
      "grad tolerance=0.563508053415477 \n",
      "\n"
     ]
    },
    {
     "name": "stderr",
     "output_type": "stream",
     "text": [
      " 98%|█████████▊| 49/50 [02:22<00:05,  5.46s/it]"
     ]
    },
    {
     "name": "stdout",
     "output_type": "stream",
     "text": [
      "Optimization Success= True\n",
      "energy=-16.71689\n",
      "average gradient=0.000000248545394 \n",
      "\n",
      "grad tolerance=0.540652781771474 \n",
      "\n"
     ]
    },
    {
     "name": "stderr",
     "output_type": "stream",
     "text": [
      "100%|██████████| 50/50 [02:27<00:00,  2.96s/it]"
     ]
    },
    {
     "name": "stdout",
     "output_type": "stream",
     "text": [
      "Optimization Success= True\n",
      "energy=-16.71713\n",
      "average gradient=0.000000244970771 \n",
      "\n",
      "grad tolerance=0.526354309764740 \n",
      "\n",
      "[(1, 7, 2, 7), (1, 7, 1, 8), (5, 10, 5, 11), (4, 11, 5, 11), (3, 5), (9, 11), (1, 3), (7, 9), (4, 6, 5, 11), (0, 10, 5, 11), (0, 8, 1, 7), (1, 7, 2, 6), (5, 6, 5, 11), (0, 11, 5, 11), (3, 10, 5, 11), (4, 9, 5, 11), (0, 7, 1, 7), (1, 6, 1, 7), (1, 7, 2, 9), (1, 7, 3, 8), (1, 7, 2, 10), (1, 7, 4, 8), (7, 10), (1, 4), (0, 9, 5, 11), (3, 6, 5, 11), (1, 7, 3, 6), (0, 9, 1, 7), (4, 10, 5, 11), (2, 5), (8, 11), (1, 7, 2, 8), (3, 9, 5, 11), (1, 7, 3, 9), (2, 9, 5, 11), (3, 8, 5, 11), (1, 7, 3, 10), (1, 7, 4, 9), (0, 6, 1, 7), (7, 11), (1, 5), (1, 11, 4, 10), (4, 10, 5, 7), (4, 6, 5, 7), (0, 10, 1, 11), (0, 10, 1, 7), (1, 7, 4, 6), (0, 6, 5, 11), (4, 7, 5, 6), (0, 4, 1, 5)]\n",
      "[-17.71712977]\n"
     ]
    },
    {
     "name": "stderr",
     "output_type": "stream",
     "text": [
      "\n"
     ]
    }
   ],
   "source": [
    "spinconservation=SpinConservation(size=size_a)\n",
    "operator_pool:Dict={}\n",
    "\n",
    "operator_pool=FHHamiltonian.set_operator_pool(operator_pool=operator_pool,conditions=[spinconservation.spin_conservation],nbody='two')\n",
    "operator_pool=FHHamiltonian.set_operator_pool(operator_pool=operator_pool,conditions=[spinconservation.spin_conservation],nbody='one')\n",
    "#%%\n",
    "print('number of operators=',len(list(operator_pool.keys())))\n",
    "\n",
    "# %%\n",
    "random=False\n",
    "\n",
    "model=AdaptVQEFermiHubbard()\n",
    "\n",
    "model.set_hamiltonian(FHHamiltonian.hamiltonian)\n",
    "model.set_reference_psi(psi_hf)\n",
    "\n",
    "model.set_operators_pool(operator_pool=operator_pool,random=random)\n",
    "\n",
    "#%%\n",
    "\n",
    "\n",
    "fit=Fit(method='BFGS',tolerance_opt=10**-6,e_ref=egs)\n",
    "\n",
    "fit.configuration_checkpoint=configuration\n",
    "fit.init_model(model)\n",
    "\n",
    "#%%\n",
    "history,grad_history=fit.run(epochs=50)\n",
    "# # %%\n",
    "print(model.operator_action_info)\n",
    "print(model.energy-egs/egs)"
   ]
  },
  {
   "cell_type": "code",
   "execution_count": 11,
   "metadata": {},
   "outputs": [],
   "source": [
    "rel_error_hf = [np.abs((e_min - egs) / egs) for e_min in history]\n"
   ]
  },
  {
   "cell_type": "code",
   "execution_count": 10,
   "metadata": {},
   "outputs": [],
   "source": [
    "rel_error_base = [np.abs((e_min - egs) / egs) for e_min in history]"
   ]
  },
  {
   "cell_type": "code",
   "execution_count": 16,
   "metadata": {},
   "outputs": [
    {
     "data": {
      "image/png": "[encoded data removed]",
      "text/plain": [
       "<Figure size 720x720 with 1 Axes>"
      ]
     },
     "metadata": {
      "needs_background": "light"
     },
     "output_type": "display_data"
    },
    {
     "data": {
      "image/png": "[encoded data removed]",
      "text/plain": [
       "<Figure size 720x720 with 1 Axes>"
      ]
     },
     "metadata": {
      "needs_background": "light"
     },
     "output_type": "display_data"
    }
   ],
   "source": [
    "plt.figure(figsize=(10,10))\n",
    "plt.plot(rel_error_hf,linewidth=5,label='HF')\n",
    "plt.plot(rel_error_base, linewidth=5, label='Base state')\n",
    "plt.xlabel('layers',fontsize=40)\n",
    "plt.legend(fontsize=40)\n",
    "plt.semilogy()\n",
    "plt.ylabel(r'$\\Delta_r e$',fontsize=40)\n",
    "plt.tick_params(axis='both', which='major', labelsize=40)\n",
    "plt.tick_params(axis='both', which='minor', labelsize=30)\n",
    "plt.show()\n",
    "\n",
    "\n",
    "plt.figure(figsize=(10,10))\n",
    "plt.plot(grad_history,linewidth=5)\n",
    "plt.xlabel('epochs',fontsize=40)\n",
    "plt.semilogy()\n",
    "plt.ylabel(r'grad',fontsize=40)\n",
    "plt.tick_params(axis='both', which='major', labelsize=40)\n",
    "plt.tick_params(axis='both', which='minor', labelsize=30)\n",
    "plt.show()"
   ]
  },
  {
   "cell_type": "markdown",
   "metadata": {},
   "source": [
    "## Test Hartree Fock for different magnitude of the interaction U"
   ]
  },
  {
   "cell_type": "code",
   "execution_count": 4,
   "metadata": {},
   "outputs": [],
   "source": [
    "from src.hartree_fock_library import HartreeFock, HartreeFockVariational\n",
    "from src.hamiltonian_utils import (\n",
    "    get_twobody_nuclearshell_model,\n",
    "    FermiHubbardHamiltonian,\n",
    "    SingleParticleState,\n",
    ")\n",
    "import numpy as np\n",
    "import torch\n",
    "from typing import Dict, List\n",
    "from src.qml_models import AdaptVQEFermiHubbard\n",
    "from src.qml_utils.train import Fit\n",
    "from src.qml_utils.utils import configuration\n",
    "import matplotlib.pyplot as plt"
   ]
  },
  {
   "cell_type": "code",
   "execution_count": 23,
   "metadata": {},
   "outputs": [
    {
     "name": "stderr",
     "output_type": "stream",
     "text": [
      "  0%|          | 0/8 [00:00<?, ?it/s]"
     ]
    },
    {
     "name": "stdout",
     "output_type": "stream",
     "text": [
      "<itertools.combinations object at 0x7f467d4cd540>\n",
      "[[0. 0. 0. 0. 0. 0. 0. 0. 0. 0. 0. 0.]\n",
      " [0. 0. 0. 0. 0. 0. 0. 0. 0. 0. 0. 0.]\n",
      " [0. 0. 0. 0. 0. 0. 0. 0. 0. 0. 0. 0.]\n",
      " [0. 0. 0. 0. 0. 0. 0. 0. 0. 0. 0. 0.]\n",
      " [0. 0. 0. 0. 0. 0. 0. 0. 0. 0. 0. 0.]\n",
      " [0. 0. 0. 0. 0. 0. 0. 0. 0. 0. 0. 0.]\n",
      " [0. 0. 0. 0. 0. 0. 0. 0. 0. 0. 0. 0.]\n",
      " [0. 0. 0. 0. 0. 0. 0. 0. 0. 0. 0. 0.]\n",
      " [0. 0. 0. 0. 0. 0. 0. 0. 0. 0. 0. 0.]\n",
      " [0. 0. 0. 0. 0. 0. 0. 0. 0. 0. 0. 0.]\n",
      " [0. 0. 0. 0. 0. 0. 0. 0. 0. 0. 0. 0.]\n",
      " [0. 0. 0. 0. 0. 0. 0. 0. 0. 0. 0. 0.]]\n",
      "  (0, 0)\t1.5701825978640471\n",
      "  (0, 1)\t1.0\n",
      "  (0, 8)\t-1.0\n",
      "  (0, 15)\t1.0\n",
      "  (0, 120)\t-1.0\n",
      "  (1, 0)\t1.0\n",
      "  (1, 1)\t1.6313223094114457\n",
      "  (1, 2)\t1.0\n",
      "  (1, 5)\t1.0\n",
      "  (1, 11)\t-1.0\n",
      "  (1, 16)\t1.0\n",
      "  (1, 121)\t-1.0\n",
      "  (2, 1)\t1.0\n",
      "  (2, 2)\t1.2927693703520005\n",
      "  (2, 3)\t1.0\n",
      "  (2, 6)\t1.0\n",
      "  (2, 13)\t-1.0\n",
      "  (2, 17)\t1.0\n",
      "  (2, 122)\t-1.0\n",
      "  (3, 2)\t1.0\n",
      "  (3, 3)\t1.1914746452050533\n",
      "  (3, 4)\t1.0\n",
      "  (3, 7)\t1.0\n",
      "  (3, 14)\t-1.0\n",
      "  (3, 18)\t1.0\n",
      "  :\t:\n",
      "  (220, 222)\t1.0\n",
      "  (221, 56)\t-1.0\n",
      "  (221, 206)\t1.0\n",
      "  (221, 211)\t-1.0\n",
      "  (221, 218)\t1.0\n",
      "  (221, 220)\t1.0\n",
      "  (221, 221)\t1.623691894896948\n",
      "  (221, 223)\t1.0\n",
      "  (222, 57)\t-1.0\n",
      "  (222, 207)\t1.0\n",
      "  (222, 220)\t1.0\n",
      "  (222, 222)\t0.9035362320136529\n",
      "  (222, 223)\t1.0\n",
      "  (223, 58)\t-1.0\n",
      "  (223, 208)\t1.0\n",
      "  (223, 212)\t-1.0\n",
      "  (223, 221)\t1.0\n",
      "  (223, 222)\t1.0\n",
      "  (223, 223)\t1.2851389558375026\n",
      "  (223, 224)\t1.0\n",
      "  (224, 59)\t-1.0\n",
      "  (224, 209)\t1.0\n",
      "  (224, 213)\t-1.0\n",
      "  (224, 223)\t1.0\n",
      "  (224, 224)\t1.1838442306905557\n",
      "[-4.76738717]\n"
     ]
    },
    {
     "name": "stderr",
     "output_type": "stream",
     "text": [
      "de=0.000000000000000: 100%|██████████| 50/50 [00:00<00:00, 227.77it/s]\n",
      " 12%|█▎        | 1/8 [00:00<00:02,  2.98it/s]"
     ]
    },
    {
     "name": "stdout",
     "output_type": "stream",
     "text": [
      "-4.767387172958671\n",
      "<itertools.combinations object at 0x7f467d346c20>\n",
      "[[0. 0. 0. 0. 0. 0. 0. 0. 0. 0. 0. 0.]\n",
      " [0. 0. 0. 0. 0. 0. 0. 0. 0. 0. 0. 0.]\n",
      " [0. 0. 0. 0. 0. 0. 0. 0. 0. 0. 0. 0.]\n",
      " [0. 0. 0. 0. 0. 0. 0. 0. 0. 0. 0. 0.]\n",
      " [0. 0. 0. 0. 0. 0. 0. 0. 0. 0. 0. 0.]\n",
      " [0. 0. 0. 0. 0. 0. 0. 0. 0. 0. 0. 0.]\n",
      " [0. 0. 0. 0. 0. 0. 0. 0. 0. 0. 0. 0.]\n",
      " [0. 0. 0. 0. 0. 0. 0. 0. 0. 0. 0. 0.]\n",
      " [0. 0. 0. 0. 0. 0. 0. 0. 0. 0. 0. 0.]\n",
      " [0. 0. 0. 0. 0. 0. 0. 0. 0. 0. 0. 0.]\n",
      " [0. 0. 0. 0. 0. 0. 0. 0. 0. 0. 0. 0.]\n",
      " [0. 0. 0. 0. 0. 0. 0. 0. 0. 0. 0. 0.]]\n",
      "  (0, 0)\t-0.4298174021359529\n",
      "  (0, 1)\t1.0\n",
      "  (0, 8)\t-1.0\n",
      "  (0, 15)\t1.0\n",
      "  (0, 120)\t-1.0\n",
      "  (1, 0)\t1.0\n",
      "  (1, 1)\t0.6313223094114457\n",
      "  (1, 2)\t1.0\n",
      "  (1, 5)\t1.0\n",
      "  (1, 11)\t-1.0\n",
      "  (1, 16)\t1.0\n",
      "  (1, 121)\t-1.0\n",
      "  (2, 1)\t1.0\n",
      "  (2, 2)\t0.29276937035200046\n",
      "  (2, 3)\t1.0\n",
      "  (2, 6)\t1.0\n",
      "  (2, 13)\t-1.0\n",
      "  (2, 17)\t1.0\n",
      "  (2, 122)\t-1.0\n",
      "  (3, 2)\t1.0\n",
      "  (3, 3)\t0.1914746452050533\n",
      "  (3, 4)\t1.0\n",
      "  (3, 7)\t1.0\n",
      "  (3, 14)\t-1.0\n",
      "  (3, 18)\t1.0\n",
      "  :\t:\n",
      "  (220, 222)\t1.0\n",
      "  (221, 56)\t-1.0\n",
      "  (221, 206)\t1.0\n",
      "  (221, 211)\t-1.0\n",
      "  (221, 218)\t1.0\n",
      "  (221, 220)\t1.0\n",
      "  (221, 221)\t0.6236918948969481\n",
      "  (221, 223)\t1.0\n",
      "  (222, 57)\t-1.0\n",
      "  (222, 207)\t1.0\n",
      "  (222, 220)\t1.0\n",
      "  (222, 222)\t-0.09646376798634715\n",
      "  (222, 223)\t1.0\n",
      "  (223, 58)\t-1.0\n",
      "  (223, 208)\t1.0\n",
      "  (223, 212)\t-1.0\n",
      "  (223, 221)\t1.0\n",
      "  (223, 222)\t1.0\n",
      "  (223, 223)\t0.2851389558375026\n",
      "  (223, 224)\t1.0\n",
      "  (224, 59)\t-1.0\n",
      "  (224, 209)\t1.0\n",
      "  (224, 213)\t-1.0\n",
      "  (224, 223)\t1.0\n",
      "  (224, 224)\t-0.8161557693094443\n",
      "[-5.67242907]\n"
     ]
    },
    {
     "name": "stderr",
     "output_type": "stream",
     "text": [
      "de=0.000000000000000: 100%|██████████| 50/50 [00:00<00:00, 258.84it/s]\n",
      " 25%|██▌       | 2/8 [00:00<00:01,  3.02it/s]"
     ]
    },
    {
     "name": "stdout",
     "output_type": "stream",
     "text": [
      "-5.5410522137753775\n",
      "<itertools.combinations object at 0x7f467d346590>\n",
      "[[0. 0. 0. 0. 0. 0. 0. 0. 0. 0. 0. 0.]\n",
      " [0. 0. 0. 0. 0. 0. 0. 0. 0. 0. 0. 0.]\n",
      " [0. 0. 0. 0. 0. 0. 0. 0. 0. 0. 0. 0.]\n",
      " [0. 0. 0. 0. 0. 0. 0. 0. 0. 0. 0. 0.]\n",
      " [0. 0. 0. 0. 0. 0. 0. 0. 0. 0. 0. 0.]\n",
      " [0. 0. 0. 0. 0. 0. 0. 0. 0. 0. 0. 0.]\n",
      " [0. 0. 0. 0. 0. 0. 0. 0. 0. 0. 0. 0.]\n",
      " [0. 0. 0. 0. 0. 0. 0. 0. 0. 0. 0. 0.]\n",
      " [0. 0. 0. 0. 0. 0. 0. 0. 0. 0. 0. 0.]\n",
      " [0. 0. 0. 0. 0. 0. 0. 0. 0. 0. 0. 0.]\n",
      " [0. 0. 0. 0. 0. 0. 0. 0. 0. 0. 0. 0.]\n",
      " [0. 0. 0. 0. 0. 0. 0. 0. 0. 0. 0. 0.]]\n",
      "  (0, 0)\t-2.429817402135953\n",
      "  (0, 1)\t1.0\n",
      "  (0, 8)\t-1.0\n",
      "  (0, 15)\t1.0\n",
      "  (0, 120)\t-1.0\n",
      "  (1, 0)\t1.0\n",
      "  (1, 1)\t-0.36867769058855426\n",
      "  (1, 2)\t1.0\n",
      "  (1, 5)\t1.0\n",
      "  (1, 11)\t-1.0\n",
      "  (1, 16)\t1.0\n",
      "  (1, 121)\t-1.0\n",
      "  (2, 1)\t1.0\n",
      "  (2, 2)\t-0.7072306296479995\n",
      "  (2, 3)\t1.0\n",
      "  (2, 6)\t1.0\n",
      "  (2, 13)\t-1.0\n",
      "  (2, 17)\t1.0\n",
      "  (2, 122)\t-1.0\n",
      "  (3, 2)\t1.0\n",
      "  (3, 3)\t-0.8085253547949467\n",
      "  (3, 4)\t1.0\n",
      "  (3, 7)\t1.0\n",
      "  (3, 14)\t-1.0\n",
      "  (3, 18)\t1.0\n",
      "  :\t:\n",
      "  (220, 222)\t1.0\n",
      "  (221, 56)\t-1.0\n",
      "  (221, 206)\t1.0\n",
      "  (221, 211)\t-1.0\n",
      "  (221, 218)\t1.0\n",
      "  (221, 220)\t1.0\n",
      "  (221, 221)\t-0.3763081051030519\n",
      "  (221, 223)\t1.0\n",
      "  (222, 57)\t-1.0\n",
      "  (222, 207)\t1.0\n",
      "  (222, 220)\t1.0\n",
      "  (222, 222)\t-1.0964637679863471\n",
      "  (222, 223)\t1.0\n",
      "  (223, 58)\t-1.0\n",
      "  (223, 208)\t1.0\n",
      "  (223, 212)\t-1.0\n",
      "  (223, 221)\t1.0\n",
      "  (223, 222)\t1.0\n",
      "  (223, 223)\t-0.7148610441624974\n",
      "  (223, 224)\t1.0\n",
      "  (224, 59)\t-1.0\n",
      "  (224, 209)\t1.0\n",
      "  (224, 213)\t-1.0\n",
      "  (224, 223)\t1.0\n",
      "  (224, 224)\t-2.8161557693094443\n",
      "[-6.81515963]\n"
     ]
    },
    {
     "name": "stderr",
     "output_type": "stream",
     "text": [
      "de=0.000000000000000: 100%|██████████| 50/50 [00:00<00:00, 280.07it/s]\n",
      " 38%|███▊      | 3/8 [00:00<00:01,  3.12it/s]"
     ]
    },
    {
     "name": "stdout",
     "output_type": "stream",
     "text": [
      "-6.314717254592087\n",
      "<itertools.combinations object at 0x7f467d0f8040>\n",
      "[[0. 0. 0. 0. 0. 0. 0. 0. 0. 0. 0. 0.]\n",
      " [0. 0. 0. 0. 0. 0. 0. 0. 0. 0. 0. 0.]\n",
      " [0. 0. 0. 0. 0. 0. 0. 0. 0. 0. 0. 0.]\n",
      " [0. 0. 0. 0. 0. 0. 0. 0. 0. 0. 0. 0.]\n",
      " [0. 0. 0. 0. 0. 0. 0. 0. 0. 0. 0. 0.]\n",
      " [0. 0. 0. 0. 0. 0. 0. 0. 0. 0. 0. 0.]\n",
      " [0. 0. 0. 0. 0. 0. 0. 0. 0. 0. 0. 0.]\n",
      " [0. 0. 0. 0. 0. 0. 0. 0. 0. 0. 0. 0.]\n",
      " [0. 0. 0. 0. 0. 0. 0. 0. 0. 0. 0. 0.]\n",
      " [0. 0. 0. 0. 0. 0. 0. 0. 0. 0. 0. 0.]\n",
      " [0. 0. 0. 0. 0. 0. 0. 0. 0. 0. 0. 0.]\n",
      " [0. 0. 0. 0. 0. 0. 0. 0. 0. 0. 0. 0.]]\n",
      "  (0, 0)\t-4.429817402135953\n",
      "  (0, 1)\t1.0\n",
      "  (0, 8)\t-1.0\n",
      "  (0, 15)\t1.0\n",
      "  (0, 120)\t-1.0\n",
      "  (1, 0)\t1.0\n",
      "  (1, 1)\t-1.3686776905885543\n",
      "  (1, 2)\t1.0\n",
      "  (1, 5)\t1.0\n",
      "  (1, 11)\t-1.0\n",
      "  (1, 16)\t1.0\n",
      "  (1, 121)\t-1.0\n",
      "  (2, 1)\t1.0\n",
      "  (2, 2)\t-1.7072306296479995\n",
      "  (2, 3)\t1.0\n",
      "  (2, 6)\t1.0\n",
      "  (2, 13)\t-1.0\n",
      "  (2, 17)\t1.0\n",
      "  (2, 122)\t-1.0\n",
      "  (3, 2)\t1.0\n",
      "  (3, 3)\t-1.8085253547949467\n",
      "  (3, 4)\t1.0\n",
      "  (3, 7)\t1.0\n",
      "  (3, 14)\t-1.0\n",
      "  (3, 18)\t1.0\n",
      "  :\t:\n",
      "  (220, 222)\t1.0\n",
      "  (221, 56)\t-1.0\n",
      "  (221, 206)\t1.0\n",
      "  (221, 211)\t-1.0\n",
      "  (221, 218)\t1.0\n",
      "  (221, 220)\t1.0\n",
      "  (221, 221)\t-1.376308105103052\n",
      "  (221, 223)\t1.0\n",
      "  (222, 57)\t-1.0\n",
      "  (222, 207)\t1.0\n",
      "  (222, 220)\t1.0\n",
      "  (222, 222)\t-2.0964637679863474\n",
      "  (222, 223)\t1.0\n",
      "  (223, 58)\t-1.0\n",
      "  (223, 208)\t1.0\n",
      "  (223, 212)\t-1.0\n",
      "  (223, 221)\t1.0\n",
      "  (223, 222)\t1.0\n",
      "  (223, 223)\t-1.7148610441624974\n",
      "  (223, 224)\t1.0\n",
      "  (224, 59)\t-1.0\n",
      "  (224, 209)\t1.0\n",
      "  (224, 213)\t-1.0\n",
      "  (224, 223)\t1.0\n",
      "  (224, 224)\t-4.816155769309445\n",
      "[-8.1500447]\n"
     ]
    },
    {
     "name": "stderr",
     "output_type": "stream",
     "text": [
      "de=0.000000000000000: 100%|██████████| 50/50 [00:00<00:00, 281.11it/s]\n",
      " 50%|█████     | 4/8 [00:01<00:01,  3.19it/s]"
     ]
    },
    {
     "name": "stdout",
     "output_type": "stream",
     "text": [
      "-7.088382295408795\n",
      "<itertools.combinations object at 0x7f467d4812c0>\n",
      "[[0. 0. 0. 0. 0. 0. 0. 0. 0. 0. 0. 0.]\n",
      " [0. 0. 0. 0. 0. 0. 0. 0. 0. 0. 0. 0.]\n",
      " [0. 0. 0. 0. 0. 0. 0. 0. 0. 0. 0. 0.]\n",
      " [0. 0. 0. 0. 0. 0. 0. 0. 0. 0. 0. 0.]\n",
      " [0. 0. 0. 0. 0. 0. 0. 0. 0. 0. 0. 0.]\n",
      " [0. 0. 0. 0. 0. 0. 0. 0. 0. 0. 0. 0.]\n",
      " [0. 0. 0. 0. 0. 0. 0. 0. 0. 0. 0. 0.]\n",
      " [0. 0. 0. 0. 0. 0. 0. 0. 0. 0. 0. 0.]\n",
      " [0. 0. 0. 0. 0. 0. 0. 0. 0. 0. 0. 0.]\n",
      " [0. 0. 0. 0. 0. 0. 0. 0. 0. 0. 0. 0.]\n",
      " [0. 0. 0. 0. 0. 0. 0. 0. 0. 0. 0. 0.]\n",
      " [0. 0. 0. 0. 0. 0. 0. 0. 0. 0. 0. 0.]]\n",
      "  (0, 0)\t-6.429817402135953\n",
      "  (0, 1)\t1.0\n",
      "  (0, 8)\t-1.0\n",
      "  (0, 15)\t1.0\n",
      "  (0, 120)\t-1.0\n",
      "  (1, 0)\t1.0\n",
      "  (1, 1)\t-2.3686776905885543\n",
      "  (1, 2)\t1.0\n",
      "  (1, 5)\t1.0\n",
      "  (1, 11)\t-1.0\n",
      "  (1, 16)\t1.0\n",
      "  (1, 121)\t-1.0\n",
      "  (2, 1)\t1.0\n",
      "  (2, 2)\t-2.7072306296479995\n",
      "  (2, 3)\t1.0\n",
      "  (2, 6)\t1.0\n",
      "  (2, 13)\t-1.0\n",
      "  (2, 17)\t1.0\n",
      "  (2, 122)\t-1.0\n",
      "  (3, 2)\t1.0\n",
      "  (3, 3)\t-2.8085253547949467\n",
      "  (3, 4)\t1.0\n",
      "  (3, 7)\t1.0\n",
      "  (3, 14)\t-1.0\n",
      "  (3, 18)\t1.0\n",
      "  :\t:\n",
      "  (220, 222)\t1.0\n",
      "  (221, 56)\t-1.0\n",
      "  (221, 206)\t1.0\n",
      "  (221, 211)\t-1.0\n",
      "  (221, 218)\t1.0\n",
      "  (221, 220)\t1.0\n",
      "  (221, 221)\t-2.376308105103052\n",
      "  (221, 223)\t1.0\n",
      "  (222, 57)\t-1.0\n",
      "  (222, 207)\t1.0\n",
      "  (222, 220)\t1.0\n",
      "  (222, 222)\t-3.0964637679863474\n",
      "  (222, 223)\t1.0\n",
      "  (223, 58)\t-1.0\n",
      "  (223, 208)\t1.0\n",
      "  (223, 212)\t-1.0\n",
      "  (223, 221)\t1.0\n",
      "  (223, 222)\t1.0\n",
      "  (223, 223)\t-2.7148610441624976\n",
      "  (223, 224)\t1.0\n",
      "  (224, 59)\t-1.0\n",
      "  (224, 209)\t1.0\n",
      "  (224, 213)\t-1.0\n",
      "  (224, 223)\t1.0\n",
      "  (224, 224)\t-6.816155769309445\n",
      "[-9.63745256]\n"
     ]
    },
    {
     "name": "stderr",
     "output_type": "stream",
     "text": [
      "de=0.000000000000001: 100%|██████████| 50/50 [00:00<00:00, 237.47it/s]\n",
      " 62%|██████▎   | 5/8 [00:01<00:00,  3.10it/s]"
     ]
    },
    {
     "name": "stdout",
     "output_type": "stream",
     "text": [
      "-7.862047336225506\n",
      "<itertools.combinations object at 0x7f467d3b0c20>\n",
      "[[0. 0. 0. 0. 0. 0. 0. 0. 0. 0. 0. 0.]\n",
      " [0. 0. 0. 0. 0. 0. 0. 0. 0. 0. 0. 0.]\n",
      " [0. 0. 0. 0. 0. 0. 0. 0. 0. 0. 0. 0.]\n",
      " [0. 0. 0. 0. 0. 0. 0. 0. 0. 0. 0. 0.]\n",
      " [0. 0. 0. 0. 0. 0. 0. 0. 0. 0. 0. 0.]\n",
      " [0. 0. 0. 0. 0. 0. 0. 0. 0. 0. 0. 0.]\n",
      " [0. 0. 0. 0. 0. 0. 0. 0. 0. 0. 0. 0.]\n",
      " [0. 0. 0. 0. 0. 0. 0. 0. 0. 0. 0. 0.]\n",
      " [0. 0. 0. 0. 0. 0. 0. 0. 0. 0. 0. 0.]\n",
      " [0. 0. 0. 0. 0. 0. 0. 0. 0. 0. 0. 0.]\n",
      " [0. 0. 0. 0. 0. 0. 0. 0. 0. 0. 0. 0.]\n",
      " [0. 0. 0. 0. 0. 0. 0. 0. 0. 0. 0. 0.]]\n",
      "  (0, 0)\t-8.429817402135953\n",
      "  (0, 1)\t1.0\n",
      "  (0, 8)\t-1.0\n",
      "  (0, 15)\t1.0\n",
      "  (0, 120)\t-1.0\n",
      "  (1, 0)\t1.0\n",
      "  (1, 1)\t-3.3686776905885543\n",
      "  (1, 2)\t1.0\n",
      "  (1, 5)\t1.0\n",
      "  (1, 11)\t-1.0\n",
      "  (1, 16)\t1.0\n",
      "  (1, 121)\t-1.0\n",
      "  (2, 1)\t1.0\n",
      "  (2, 2)\t-3.7072306296479995\n",
      "  (2, 3)\t1.0\n",
      "  (2, 6)\t1.0\n",
      "  (2, 13)\t-1.0\n",
      "  (2, 17)\t1.0\n",
      "  (2, 122)\t-1.0\n",
      "  (3, 2)\t1.0\n",
      "  (3, 3)\t-3.8085253547949467\n",
      "  (3, 4)\t1.0\n",
      "  (3, 7)\t1.0\n",
      "  (3, 14)\t-1.0\n",
      "  (3, 18)\t1.0\n",
      "  :\t:\n",
      "  (220, 222)\t1.0\n",
      "  (221, 56)\t-1.0\n",
      "  (221, 206)\t1.0\n",
      "  (221, 211)\t-1.0\n",
      "  (221, 218)\t1.0\n",
      "  (221, 220)\t1.0\n",
      "  (221, 221)\t-3.376308105103052\n",
      "  (221, 223)\t1.0\n",
      "  (222, 57)\t-1.0\n",
      "  (222, 207)\t1.0\n",
      "  (222, 220)\t1.0\n",
      "  (222, 222)\t-4.096463767986347\n",
      "  (222, 223)\t1.0\n",
      "  (223, 58)\t-1.0\n",
      "  (223, 208)\t1.0\n",
      "  (223, 212)\t-1.0\n",
      "  (223, 221)\t1.0\n",
      "  (223, 222)\t1.0\n",
      "  (223, 223)\t-3.7148610441624976\n",
      "  (223, 224)\t1.0\n",
      "  (224, 59)\t-1.0\n",
      "  (224, 209)\t1.0\n",
      "  (224, 213)\t-1.0\n",
      "  (224, 223)\t1.0\n",
      "  (224, 224)\t-8.816155769309445\n",
      "[-11.24311455]\n"
     ]
    },
    {
     "name": "stderr",
     "output_type": "stream",
     "text": [
      "de=0.000000000000000: 100%|██████████| 50/50 [00:00<00:00, 277.67it/s]\n",
      " 75%|███████▌  | 6/8 [00:01<00:00,  3.14it/s]"
     ]
    },
    {
     "name": "stdout",
     "output_type": "stream",
     "text": [
      "-8.635712377042212\n",
      "<itertools.combinations object at 0x7f467d45ce50>\n",
      "[[0. 0. 0. 0. 0. 0. 0. 0. 0. 0. 0. 0.]\n",
      " [0. 0. 0. 0. 0. 0. 0. 0. 0. 0. 0. 0.]\n",
      " [0. 0. 0. 0. 0. 0. 0. 0. 0. 0. 0. 0.]\n",
      " [0. 0. 0. 0. 0. 0. 0. 0. 0. 0. 0. 0.]\n",
      " [0. 0. 0. 0. 0. 0. 0. 0. 0. 0. 0. 0.]\n",
      " [0. 0. 0. 0. 0. 0. 0. 0. 0. 0. 0. 0.]\n",
      " [0. 0. 0. 0. 0. 0. 0. 0. 0. 0. 0. 0.]\n",
      " [0. 0. 0. 0. 0. 0. 0. 0. 0. 0. 0. 0.]\n",
      " [0. 0. 0. 0. 0. 0. 0. 0. 0. 0. 0. 0.]\n",
      " [0. 0. 0. 0. 0. 0. 0. 0. 0. 0. 0. 0.]\n",
      " [0. 0. 0. 0. 0. 0. 0. 0. 0. 0. 0. 0.]\n",
      " [0. 0. 0. 0. 0. 0. 0. 0. 0. 0. 0. 0.]]\n",
      "  (0, 0)\t-10.429817402135953\n",
      "  (0, 1)\t1.0\n",
      "  (0, 8)\t-1.0\n",
      "  (0, 15)\t1.0\n",
      "  (0, 120)\t-1.0\n",
      "  (1, 0)\t1.0\n",
      "  (1, 1)\t-4.368677690588554\n",
      "  (1, 2)\t1.0\n",
      "  (1, 5)\t1.0\n",
      "  (1, 11)\t-1.0\n",
      "  (1, 16)\t1.0\n",
      "  (1, 121)\t-1.0\n",
      "  (2, 1)\t1.0\n",
      "  (2, 2)\t-4.7072306296479995\n",
      "  (2, 3)\t1.0\n",
      "  (2, 6)\t1.0\n",
      "  (2, 13)\t-1.0\n",
      "  (2, 17)\t1.0\n",
      "  (2, 122)\t-1.0\n",
      "  (3, 2)\t1.0\n",
      "  (3, 3)\t-4.808525354794947\n",
      "  (3, 4)\t1.0\n",
      "  (3, 7)\t1.0\n",
      "  (3, 14)\t-1.0\n",
      "  (3, 18)\t1.0\n",
      "  :\t:\n",
      "  (220, 222)\t1.0\n",
      "  (221, 56)\t-1.0\n",
      "  (221, 206)\t1.0\n",
      "  (221, 211)\t-1.0\n",
      "  (221, 218)\t1.0\n",
      "  (221, 220)\t1.0\n",
      "  (221, 221)\t-4.3763081051030515\n",
      "  (221, 223)\t1.0\n",
      "  (222, 57)\t-1.0\n",
      "  (222, 207)\t1.0\n",
      "  (222, 220)\t1.0\n",
      "  (222, 222)\t-5.096463767986347\n",
      "  (222, 223)\t1.0\n",
      "  (223, 58)\t-1.0\n",
      "  (223, 208)\t1.0\n",
      "  (223, 212)\t-1.0\n",
      "  (223, 221)\t1.0\n",
      "  (223, 222)\t1.0\n",
      "  (223, 223)\t-4.714861044162498\n",
      "  (223, 224)\t1.0\n",
      "  (224, 59)\t-1.0\n",
      "  (224, 209)\t1.0\n",
      "  (224, 213)\t-1.0\n",
      "  (224, 223)\t1.0\n",
      "  (224, 224)\t-10.816155769309445\n",
      "[-12.93818325]\n"
     ]
    },
    {
     "name": "stderr",
     "output_type": "stream",
     "text": [
      "de=0.000000000000000: 100%|██████████| 50/50 [00:00<00:00, 291.49it/s]\n",
      " 88%|████████▊ | 7/8 [00:02<00:00,  2.99it/s]"
     ]
    },
    {
     "name": "stdout",
     "output_type": "stream",
     "text": [
      "-9.409377417858922\n",
      "<itertools.combinations object at 0x7f467d2da6d0>\n",
      "[[0. 0. 0. 0. 0. 0. 0. 0. 0. 0. 0. 0.]\n",
      " [0. 0. 0. 0. 0. 0. 0. 0. 0. 0. 0. 0.]\n",
      " [0. 0. 0. 0. 0. 0. 0. 0. 0. 0. 0. 0.]\n",
      " [0. 0. 0. 0. 0. 0. 0. 0. 0. 0. 0. 0.]\n",
      " [0. 0. 0. 0. 0. 0. 0. 0. 0. 0. 0. 0.]\n",
      " [0. 0. 0. 0. 0. 0. 0. 0. 0. 0. 0. 0.]\n",
      " [0. 0. 0. 0. 0. 0. 0. 0. 0. 0. 0. 0.]\n",
      " [0. 0. 0. 0. 0. 0. 0. 0. 0. 0. 0. 0.]\n",
      " [0. 0. 0. 0. 0. 0. 0. 0. 0. 0. 0. 0.]\n",
      " [0. 0. 0. 0. 0. 0. 0. 0. 0. 0. 0. 0.]\n",
      " [0. 0. 0. 0. 0. 0. 0. 0. 0. 0. 0. 0.]\n",
      " [0. 0. 0. 0. 0. 0. 0. 0. 0. 0. 0. 0.]]\n",
      "  (0, 0)\t-12.429817402135953\n",
      "  (0, 1)\t1.0\n",
      "  (0, 8)\t-1.0\n",
      "  (0, 15)\t1.0\n",
      "  (0, 120)\t-1.0\n",
      "  (1, 0)\t1.0\n",
      "  (1, 1)\t-5.368677690588554\n",
      "  (1, 2)\t1.0\n",
      "  (1, 5)\t1.0\n",
      "  (1, 11)\t-1.0\n",
      "  (1, 16)\t1.0\n",
      "  (1, 121)\t-1.0\n",
      "  (2, 1)\t1.0\n",
      "  (2, 2)\t-5.7072306296479995\n",
      "  (2, 3)\t1.0\n",
      "  (2, 6)\t1.0\n",
      "  (2, 13)\t-1.0\n",
      "  (2, 17)\t1.0\n",
      "  (2, 122)\t-1.0\n",
      "  (3, 2)\t1.0\n",
      "  (3, 3)\t-5.808525354794947\n",
      "  (3, 4)\t1.0\n",
      "  (3, 7)\t1.0\n",
      "  (3, 14)\t-1.0\n",
      "  (3, 18)\t1.0\n",
      "  :\t:\n",
      "  (220, 222)\t1.0\n",
      "  (221, 56)\t-1.0\n",
      "  (221, 206)\t1.0\n",
      "  (221, 211)\t-1.0\n",
      "  (221, 218)\t1.0\n",
      "  (221, 220)\t1.0\n",
      "  (221, 221)\t-5.3763081051030515\n",
      "  (221, 223)\t1.0\n",
      "  (222, 57)\t-1.0\n",
      "  (222, 207)\t1.0\n",
      "  (222, 220)\t1.0\n",
      "  (222, 222)\t-6.096463767986347\n",
      "  (222, 223)\t1.0\n",
      "  (223, 58)\t-1.0\n",
      "  (223, 208)\t1.0\n",
      "  (223, 212)\t-1.0\n",
      "  (223, 221)\t1.0\n",
      "  (223, 222)\t1.0\n",
      "  (223, 223)\t-5.714861044162498\n",
      "  (223, 224)\t1.0\n",
      "  (224, 59)\t-1.0\n",
      "  (224, 209)\t1.0\n",
      "  (224, 213)\t-1.0\n",
      "  (224, 223)\t1.0\n",
      "  (224, 224)\t-12.816155769309445\n",
      "[-14.69986867]\n"
     ]
    },
    {
     "name": "stderr",
     "output_type": "stream",
     "text": [
      "de=0.000000000000000: 100%|██████████| 50/50 [00:00<00:00, 289.63it/s]\n",
      "100%|██████████| 8/8 [00:02<00:00,  3.09it/s]"
     ]
    },
    {
     "name": "stdout",
     "output_type": "stream",
     "text": [
      "-10.18304245867563\n"
     ]
    },
    {
     "name": "stderr",
     "output_type": "stream",
     "text": [
      "\n"
     ]
    }
   ],
   "source": [
    "egss=[]\n",
    "e_hf=[]\n",
    "\n",
    "t_range=tqdm(np.arange(8))\n",
    "v_ext = np.random.uniform(size=size_a)\n",
    "\n",
    "for u in t_range:\n",
    "\n",
    "    size_a = 6\n",
    "    size_b = 6\n",
    "    FHHamiltonian = FermiHubbardHamiltonian(\n",
    "        size_a=size_a, size_b=size_a, nparticles_a=2, nparticles_b=2\n",
    "    )\n",
    "\n",
    "    t = 1.0\n",
    "    \n",
    "\n",
    "    # define the local onsite potential\n",
    "    twobody_matrix: Dict = {}\n",
    "    for i in range(size_a):\n",
    "        twobody_matrix[(i, i + size_a, i + size_a, i)] = u\n",
    "        twobody_matrix[(i, i + size_a, i, i + size_a)] = -u\n",
    "        twobody_matrix[(i + size_a, i, i + size_a, i)] = -u\n",
    "        twobody_matrix[(i + size_a, i, i, i + size_a)] = u\n",
    "\n",
    "    kinetic_term: Dict = {}\n",
    "    adj_matrix = np.zeros((size_a + size_b, size_a + size_b))\n",
    "    for i in range(size_a):\n",
    "        kinetic_term[(i, (i + 1) % size_a)] = t\n",
    "        kinetic_term[(size_a + i, size_a + (i + 1) % size_a)] = t\n",
    "        adj_matrix[i, (i + 1) % size_a] = t\n",
    "        adj_matrix[(i + 1) % size_a, i] = t\n",
    "        adj_matrix[i, i] = -2 * t\n",
    "        adj_matrix[i + size_a, i + size_a] = -2 * t\n",
    "        adj_matrix[i + size_a, size_a + (i + 1) % size_a] = t\n",
    "        adj_matrix[size_a + (i + 1) % size_a, size_a + i] = t\n",
    "\n",
    "    print(adj_matrix - adj_matrix.T)\n",
    "    # %%\n",
    "\n",
    "    FHHamiltonian.get_external_potential(external_potential=np.append(v_ext, v_ext))\n",
    "    FHHamiltonian.get_kinetic_operator(adj_matrix=kinetic_term)\n",
    "    FHHamiltonian.get_twobody_interaction(twobody_dict=twobody_matrix)\n",
    "    FHHamiltonian.get_hamiltonian()\n",
    "\n",
    "    # print(FHHamiltonian.hamiltonian)\n",
    "    print(FHHamiltonian.hamiltonian)\n",
    "    # print(FHHamiltonian.twobody_operator)\n",
    "    # print(FHHamiltonian.kinetic_operator+FHHamiltonian.twobody_operator-FHHamiltonian.hamiltonian)\n",
    "    egs, psi0 = FHHamiltonian.get_spectrum(n_states=1)\n",
    "\n",
    "    print(egs)\n",
    "    egss.append(egs)\n",
    "\n",
    "    # %% Hartree fock initialization\n",
    "\n",
    "    HFclass = HartreeFock(size=size_a, nspecies=2)\n",
    "\n",
    "    HFclass.get_hamiltonian(\n",
    "        twobody_interaction=twobody_matrix,\n",
    "        kinetic_term=adj_matrix,\n",
    "        external_potential=np.append(v_ext, v_ext),\n",
    "    )\n",
    "\n",
    "    de, history_herm, ortho_history = HFclass.selfconsistent_computation(eta=1, epochs=50)\n",
    "\n",
    "    psi_hf = HFclass.create_hf_psi(FHHamiltonian.basis, nparticles=4)\n",
    "    print(psi_hf.conjugate().transpose() @ FHHamiltonian.hamiltonian @ psi_hf)\n",
    "\n",
    "    e_hf.append(psi_hf.conjugate().transpose() @ FHHamiltonian.hamiltonian @ psi_hf)"
   ]
  },
  {
   "cell_type": "code",
   "execution_count": 26,
   "metadata": {},
   "outputs": [
    {
     "data": {
      "image/png": "[encoded data removed]",
      "text/plain": [
       "<Figure size 720x720 with 1 Axes>"
      ]
     },
     "metadata": {
      "needs_background": "light"
     },
     "output_type": "display_data"
    }
   ],
   "source": [
    "u=np.arange(8)/4\n",
    "plt.figure(figsize=(10,10))\n",
    "plt.plot(u,egss,color='red',linewidth=3,label='exact')\n",
    "plt.scatter(u, egss, color=\"red\", s=30)\n",
    "\n",
    "plt.plot(u, e_hf, color=\"blue\", linewidth=3,label='HF')\n",
    "plt.scatter(u, e_hf, color=\"blue\", s=30)\n",
    "plt.tick_params(which='major',labelsize=40)\n",
    "plt.xlabel(r'$U [J]$',fontsize=40)\n",
    "plt.ylabel(\"energy\", fontsize=40)\n",
    "plt.legend(fontsize=40)\n",
    "plt.show()"
   ]
  },
  {
   "cell_type": "markdown",
   "metadata": {},
   "source": [
    "# Quantum Chemistry with Qiskit"
   ]
  },
  {
   "cell_type": "code",
   "execution_count": 3,
   "metadata": {},
   "outputs": [
    {
     "ename": "ImportError",
     "evalue": "cannot import name 'Aer' from 'qiskit' (/opt/anaconda3/envs/dft_env/lib/python3.9/site-packages/qiskit/__init__.py)",
     "output_type": "error",
     "traceback": [
      "\u001b[0;31m---------------------------------------------------------------------------\u001b[0m",
      "\u001b[0;31mImportError\u001b[0m                               Traceback (most recent call last)",
      "\u001b[0;32m/tmp/ipykernel_1539298/220840206.py\u001b[0m in \u001b[0;36m<module>\u001b[0;34m\u001b[0m\n\u001b[1;32m      1\u001b[0m \u001b[0;32mimport\u001b[0m \u001b[0mnumpy\u001b[0m \u001b[0;32mas\u001b[0m \u001b[0mnp\u001b[0m\u001b[0;34m\u001b[0m\u001b[0;34m\u001b[0m\u001b[0m\n\u001b[0;32m----> 2\u001b[0;31m \u001b[0;32mfrom\u001b[0m \u001b[0mqiskit\u001b[0m \u001b[0;32mimport\u001b[0m \u001b[0mAer\u001b[0m\u001b[0;34m\u001b[0m\u001b[0;34m\u001b[0m\u001b[0m\n\u001b[0m\u001b[1;32m      3\u001b[0m \u001b[0;32mfrom\u001b[0m \u001b[0mqiskit\u001b[0m\u001b[0;34m.\u001b[0m\u001b[0mutils\u001b[0m \u001b[0;32mimport\u001b[0m \u001b[0mQuantumInstance\u001b[0m\u001b[0;34m\u001b[0m\u001b[0;34m\u001b[0m\u001b[0m\n\u001b[1;32m      4\u001b[0m \u001b[0;32mfrom\u001b[0m \u001b[0mqiskit\u001b[0m\u001b[0;34m.\u001b[0m\u001b[0mopflow\u001b[0m \u001b[0;32mimport\u001b[0m \u001b[0mZ2Symmetries\u001b[0m\u001b[0;34m\u001b[0m\u001b[0;34m\u001b[0m\u001b[0m\n\u001b[1;32m      5\u001b[0m \u001b[0;32mfrom\u001b[0m \u001b[0mqiskit_nature\u001b[0m\u001b[0;34m.\u001b[0m\u001b[0moperators\u001b[0m\u001b[0;34m.\u001b[0m\u001b[0msecond_quantization\u001b[0m \u001b[0;32mimport\u001b[0m \u001b[0mFermionicOp\u001b[0m\u001b[0;34m\u001b[0m\u001b[0;34m\u001b[0m\u001b[0m\n",
      "\u001b[0;31mImportError\u001b[0m: cannot import name 'Aer' from 'qiskit' (/opt/anaconda3/envs/dft_env/lib/python3.9/site-packages/qiskit/__init__.py)"
     ]
    }
   ],
   "source": [
    "from math import pi\n",
    "\n",
    "import numpy as np\n",
    "import rustworkx as rx\n",
    "from qiskit_nature.second_q.hamiltonians.lattices import (\n",
    "    BoundaryCondition,\n",
    "    HyperCubicLattice,\n",
    "    Lattice,\n",
    "    LatticeDrawStyle,\n",
    "    LineLattice,\n",
    "    SquareLattice,\n",
    "    TriangularLattice,\n",
    ")\n",
    "from qiskit_nature.second_q.hamiltonians import FermiHubbardModel\n",
    "\n"
   ]
  }
 ],
 "metadata": {
  "kernelspec": {
   "display_name": "dft_env",
   "language": "python",
   "name": "python3"
  },
  "language_info": {
   "codemirror_mode": {
    "name": "ipython",
    "version": 3
   },
   "file_extension": ".py",
   "mimetype": "text/x-python",
   "name": "python",
   "nbconvert_exporter": "python",
   "pygments_lexer": "ipython3",
   "version": "3.9.7"
  }
 },
 "nbformat": 4,
 "nbformat_minor": 2
}
