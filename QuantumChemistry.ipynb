{
 "cells": [
  {
   "cell_type": "markdown",
   "metadata": {},
   "source": [
    "# Quantum Chemistry (on my own)"
   ]
  },
  {
   "cell_type": "code",
   "execution_count": 2,
   "metadata": {},
   "outputs": [],
   "source": [
    "from src.hartree_fock_library import HartreeFock,HartreeFockVariational\n",
    "from src.hamiltonian_utils import get_twobody_nuclearshell_model,FermiHubbardHamiltonian,SingleParticleState\n",
    "import numpy as np\n",
    "import torch\n",
    "from typing import Dict,List\n",
    "from src.qml_models import AdaptVQEFermiHubbard\n",
    "from src.qml_utils.train import Fit\n",
    "from src.qml_utils.utils import configuration\n",
    "import matplotlib.pyplot as plt\n",
    "from tqdm import tqdm\n"
   ]
  },
  {
   "cell_type": "code",
   "execution_count": 12,
   "metadata": {},
   "outputs": [],
   "source": [
    "class SpinConservation():\n",
    "    \n",
    "    def __init__(self,size:int):\n",
    "        \n",
    "        self.size=size\n",
    "\n",
    "    def spin_conservation(self,idxs:List):\n",
    "\n",
    "        l=len(idxs)\n",
    "\n",
    "        total_initial_spin=0.\n",
    "        for idx in idxs[:l//2]:\n",
    "            \n",
    "            if idx < self.size:\n",
    "                total_initial_spin+=1\n",
    "                \n",
    "        total_final_spin=0.\n",
    "        for idx in idxs[l//2:]:\n",
    "            \n",
    "            if idx < self.size:\n",
    "                total_final_spin+=1\n",
    "        return total_initial_spin==total_final_spin\n",
    "    \n",
    "    def local_interaction(self,idxs:List):\n",
    "        \n",
    "        condition=idxs[0]==idxs[-1] and idxs[1]==idxs[-2] and idxs[0]+self.size==idxs[1]\n",
    "        \n",
    "        return condition"
   ]
  },
  {
   "cell_type": "code",
   "execution_count": 13,
   "metadata": {},
   "outputs": [
    {
     "name": "stdout",
     "output_type": "stream",
     "text": [
      "<itertools.combinations object at 0x7f7a7ff7db70>\n",
      "<itertools.combinations object at 0x7f7a7ff7dbc0>\n",
      "[[0. 0. 0. 0. 0. 0. 0. 0. 0. 0. 0. 0.]\n",
      " [0. 0. 0. 0. 0. 0. 0. 0. 0. 0. 0. 0.]\n",
      " [0. 0. 0. 0. 0. 0. 0. 0. 0. 0. 0. 0.]\n",
      " [0. 0. 0. 0. 0. 0. 0. 0. 0. 0. 0. 0.]\n",
      " [0. 0. 0. 0. 0. 0. 0. 0. 0. 0. 0. 0.]\n",
      " [0. 0. 0. 0. 0. 0. 0. 0. 0. 0. 0. 0.]\n",
      " [0. 0. 0. 0. 0. 0. 0. 0. 0. 0. 0. 0.]\n",
      " [0. 0. 0. 0. 0. 0. 0. 0. 0. 0. 0. 0.]\n",
      " [0. 0. 0. 0. 0. 0. 0. 0. 0. 0. 0. 0.]\n",
      " [0. 0. 0. 0. 0. 0. 0. 0. 0. 0. 0. 0.]\n",
      " [0. 0. 0. 0. 0. 0. 0. 0. 0. 0. 0. 0.]\n",
      " [0. 0. 0. 0. 0. 0. 0. 0. 0. 0. 0. 0.]]\n",
      "[[1 1 1 ... 0 0 0]\n",
      " [1 1 1 ... 1 0 0]\n",
      " [1 1 1 ... 0 1 0]\n",
      " ...\n",
      " [0 0 0 ... 1 0 1]\n",
      " [0 0 0 ... 0 1 1]\n",
      " [0 0 0 ... 1 1 1]]\n",
      "  (0, 0)\t-12.0\n",
      "  (0, 1)\t-1.0\n",
      "  (0, 12)\t-1.0\n",
      "  (0, 20)\t-1.0\n",
      "  (0, 240)\t-1.0\n",
      "  (1, 0)\t-1.0\n",
      "  (1, 1)\t-8.0\n",
      "  (1, 2)\t-1.0\n",
      "  (1, 4)\t-1.0\n",
      "  (1, 14)\t-1.0\n",
      "  (1, 21)\t-1.0\n",
      "  (1, 241)\t-1.0\n",
      "  (2, 1)\t-1.0\n",
      "  (2, 2)\t-8.0\n",
      "  (2, 3)\t-1.0\n",
      "  (2, 5)\t-1.0\n",
      "  (2, 15)\t-1.0\n",
      "  (2, 22)\t-1.0\n",
      "  (2, 242)\t-1.0\n",
      "  (3, 2)\t-1.0\n",
      "  (3, 3)\t-8.0\n",
      "  (3, 6)\t-1.0\n",
      "  (3, 23)\t-1.0\n",
      "  (3, 243)\t-1.0\n",
      "  (4, 1)\t-1.0\n",
      "  :\t:\n",
      "  (395, 398)\t-1.0\n",
      "  (396, 156)\t-1.0\n",
      "  (396, 376)\t-1.0\n",
      "  (396, 393)\t-1.0\n",
      "  (396, 396)\t-8.0\n",
      "  (396, 397)\t-1.0\n",
      "  (397, 157)\t-1.0\n",
      "  (397, 377)\t-1.0\n",
      "  (397, 384)\t-1.0\n",
      "  (397, 394)\t-1.0\n",
      "  (397, 396)\t-1.0\n",
      "  (397, 397)\t-8.0\n",
      "  (397, 398)\t-1.0\n",
      "  (398, 158)\t-1.0\n",
      "  (398, 378)\t-1.0\n",
      "  (398, 385)\t-1.0\n",
      "  (398, 395)\t-1.0\n",
      "  (398, 397)\t-1.0\n",
      "  (398, 398)\t-8.0\n",
      "  (398, 399)\t-1.0\n",
      "  (399, 159)\t-1.0\n",
      "  (399, 379)\t-1.0\n",
      "  (399, 387)\t-1.0\n",
      "  (399, 398)\t-1.0\n",
      "  (399, 399)\t-12.0\n",
      "[-15.66870618]\n"
     ]
    }
   ],
   "source": [
    "size_a=6\n",
    "size_b=6\n",
    "FHHamiltonian=FermiHubbardHamiltonian(size_a=size_a,size_b=size_a,nparticles_a=3,nparticles_b=3)\n",
    "\n",
    "u=4.\n",
    "t=-1.\n",
    "v_ext=np.zeros(size_a)#np.random.uniform(size=size_a)\n",
    "\n",
    "# define the local onsite potential\n",
    "twobody_matrix:Dict={}\n",
    "for i in range(size_a):\n",
    "    twobody_matrix[(i,i+size_a,i+size_a,i)]=u\n",
    "    twobody_matrix[(i, i + size_a, i, i + size_a)] = -u\n",
    "    twobody_matrix[( i + size_a,i , i + size_a,i)] = -u\n",
    "    twobody_matrix[(i+size_a, i , i , i+size_a)] = u\n",
    "\n",
    "kinetic_term:Dict={}\n",
    "adj_matrix=np.zeros((size_a+size_b,size_a+size_b))\n",
    "for i in range(size_a):\n",
    "    kinetic_term[(i,(i+1) % size_a)]=t\n",
    "    kinetic_term[((i+1) % size_a,i)]=t\n",
    "    \n",
    "    kinetic_term[(size_a +i,size_a+(i+1) % size_a)]=t\n",
    "    kinetic_term[(size_a+(i+1) % size_a,size_a +i)]=t\n",
    "    \n",
    "    \n",
    "    # adj matrix for HF\n",
    "    adj_matrix[i,(i+1)%size_a]=t\n",
    "    adj_matrix[(i + 1) % size_a,i]=t\n",
    "    adj_matrix[i,i]=-2*t\n",
    "    adj_matrix[i+size_a,i+size_a]=-2*t\n",
    "    adj_matrix[i+size_a,size_a+ (i + 1) % size_a] = t\n",
    "    adj_matrix[size_a+(i + 1) % size_a,size_a+ i] = t\n",
    "\n",
    "\n",
    "print(adj_matrix-adj_matrix.T)\n",
    "# %%\n",
    "\n",
    "FHHamiltonian.get_external_potential(external_potential=np.append(v_ext,v_ext))\n",
    "FHHamiltonian.get_kinetic_operator(adj_matrix=kinetic_term)\n",
    "FHHamiltonian.get_twobody_interaction(twobody_dict=twobody_matrix)\n",
    "FHHamiltonian.get_hamiltonian()\n",
    "\n",
    "# print(FHHamiltonian.hamiltonian)\n",
    "print(FHHamiltonian.basis)\n",
    "print(FHHamiltonian.hamiltonian)\n",
    "# print(FHHamiltonian.twobody_operator)\n",
    "# print(FHHamiltonian.kinetic_operator+FHHamiltonian.twobody_operator-FHHamiltonian.hamiltonian)\n",
    "egs,psi0=FHHamiltonian.get_spectrum(n_states=1)\n",
    "\n",
    "print(egs)\n",
    "\n",
    "\n",
    "# # %% define the fit class\n",
    "\n",
    "# HFFit = FitHartreeFock(learning_rate=0.1, epochs=200)\n",
    "\n",
    "# history_hf = HFFit.run(HFE)\n",
    "# # %%\n",
    "# psi_hf = HFE.get_psi().detach().numpy()\n",
    "\n",
    "# print(psi_hf.conjugate().transpose().dot(FHHamiltonian.hamiltonian.dot(psi_hf)))"
   ]
  },
  {
   "cell_type": "code",
   "execution_count": 14,
   "metadata": {},
   "outputs": [
    {
     "name": "stderr",
     "output_type": "stream",
     "text": [
      "de=0.000000000000000: 100%|██████████| 50/50 [00:00<00:00, 878.56it/s]\n"
     ]
    }
   ],
   "source": [
    "# %% Hartree fock initialization\n",
    "\n",
    "HFclass = HartreeFock(size=size_a, nspecies=2)\n",
    "\n",
    "HFclass.get_hamiltonian(twobody_interaction=twobody_matrix, kinetic_term=adj_matrix,external_potential=np.append(v_ext,v_ext))\n",
    "\n",
    "de, history_herm, ortho_history = HFclass.selfconsistent_computation(eta=1, epochs=50)"
   ]
  },
  {
   "cell_type": "code",
   "execution_count": 15,
   "metadata": {},
   "outputs": [
    {
     "data": {
      "image/png": "[encoded data removed]",
      "text/plain": [
       "<Figure size 640x480 with 1 Axes>"
      ]
     },
     "metadata": {},
     "output_type": "display_data"
    },
    {
     "data": {
      "image/png": "[encoded data removed]",
      "text/plain": [
       "<Figure size 640x480 with 1 Axes>"
      ]
     },
     "metadata": {},
     "output_type": "display_data"
    },
    {
     "name": "stdout",
     "output_type": "stream",
     "text": [
      "18.000000000000018\n"
     ]
    }
   ],
   "source": [
    "plt.plot(history_herm)\n",
    "plt.show()\n",
    "\n",
    "plt.plot(ortho_history)\n",
    "plt.show()\n",
    "\n",
    "energy = HFclass.compute_energy()\n",
    "\n",
    "print(energy)"
   ]
  },
  {
   "cell_type": "code",
   "execution_count": 16,
   "metadata": {},
   "outputs": [
    {
     "name": "stdout",
     "output_type": "stream",
     "text": [
      "1.0\n",
      "0.001772465432422654\n"
     ]
    },
    {
     "data": {
      "image/png": "[encoded data removed]",
      "text/plain": [
       "<Figure size 640x480 with 1 Axes>"
      ]
     },
     "metadata": {},
     "output_type": "display_data"
    },
    {
     "data": {
      "image/png": "[encoded data removed]",
      "text/plain": [
       "<Figure size 640x480 with 2 Axes>"
      ]
     },
     "metadata": {},
     "output_type": "display_data"
    },
    {
     "data": {
      "image/png": "[encoded data removed]",
      "text/plain": [
       "<Figure size 640x480 with 2 Axes>"
      ]
     },
     "metadata": {},
     "output_type": "display_data"
    }
   ],
   "source": [
    "print(np.linalg.norm(HFclass.weights[:, 0]))\n",
    "print(np.sum(HFclass.weights[0, :].conj() * HFclass.weights[:, 1]))\n",
    "\n",
    "plt.plot(de)\n",
    "\n",
    "# plt.semilogy()\n",
    "# plt.ylim([0,0.001])\n",
    "plt.show()\n",
    "\n",
    "plt.imshow(np.real(HFclass.weights))\n",
    "plt.colorbar()\n",
    "plt.show()\n",
    "plt.imshow(np.imag(HFclass.weights))\n",
    "plt.colorbar()\n",
    "plt.show()\n"
   ]
  },
  {
   "cell_type": "code",
   "execution_count": 17,
   "metadata": {},
   "outputs": [
    {
     "name": "stdout",
     "output_type": "stream",
     "text": [
      "-14.0\n"
     ]
    }
   ],
   "source": [
    "psi_hf=HFclass.create_hf_psi(FHHamiltonian.basis,nparticles=6)\n",
    "print(psi_hf.conjugate().transpose() @ FHHamiltonian.hamiltonian @ psi_hf)"
   ]
  },
  {
   "cell_type": "code",
   "execution_count": 10,
   "metadata": {},
   "outputs": [
    {
     "name": "stdout",
     "output_type": "stream",
     "text": [
      "-3.0\n",
      "[1 1 1 0 0 0 1 1 1 0 0 0]\n"
     ]
    }
   ],
   "source": [
    "# old initialization works better than Hartree Fock\n",
    "min = 10000\n",
    "for i, b in enumerate(FHHamiltonian.basis):\n",
    "    psi = np.zeros(FHHamiltonian.basis.shape[0])\n",
    "    psi[i] = 1.0\n",
    "    value = np.conj(psi) @ FHHamiltonian.hamiltonian @ psi\n",
    "    if value < min:\n",
    "        min = value\n",
    "        print(value)\n",
    "        print(b)\n",
    "        psi_base = psi"
   ]
  },
  {
   "cell_type": "code",
   "execution_count": null,
   "metadata": {},
   "outputs": [],
   "source": []
  },
  {
   "cell_type": "code",
   "execution_count": 19,
   "metadata": {},
   "outputs": [
    {
     "name": "stdout",
     "output_type": "stream",
     "text": [
      "number of operators= 2220\n"
     ]
    },
    {
     "ename": "TypeError",
     "evalue": "AdaptVQEFermiHubbard.callback() takes 1 positional argument but 2 were given",
     "output_type": "error",
     "traceback": [
      "\u001b[0;31m---------------------------------------------------------------------------\u001b[0m",
      "\u001b[0;31mTypeError\u001b[0m                                 Traceback (most recent call last)",
      "Cell \u001b[0;32mIn[19], line 28\u001b[0m\n\u001b[1;32m     25\u001b[0m fit\u001b[38;5;241m.\u001b[39minit_model(model)\n\u001b[1;32m     27\u001b[0m \u001b[38;5;66;03m#%%\u001b[39;00m\n\u001b[0;32m---> 28\u001b[0m history,grad_history\u001b[38;5;241m=\u001b[39m\u001b[43mfit\u001b[49m\u001b[38;5;241;43m.\u001b[39;49m\u001b[43mrun\u001b[49m\u001b[43m(\u001b[49m\u001b[43m)\u001b[49m\n\u001b[1;32m     29\u001b[0m \u001b[38;5;66;03m# # %%\u001b[39;00m\n\u001b[1;32m     30\u001b[0m \u001b[38;5;28mprint\u001b[39m(model\u001b[38;5;241m.\u001b[39moperator_action_info)\n",
      "File \u001b[0;32m~/Quantum-Machine-Learning-on-Fermions/src/qml_utils/train.py:39\u001b[0m, in \u001b[0;36mFit.run\u001b[0;34m(self, epochs)\u001b[0m\n\u001b[1;32m     36\u001b[0m \u001b[38;5;28mself\u001b[39m\u001b[38;5;241m.\u001b[39mmodel\u001b[38;5;241m.\u001b[39mmodel_preparation()\n\u001b[1;32m     38\u001b[0m \u001b[38;5;66;03m# optimization algorithm\u001b[39;00m\n\u001b[0;32m---> 39\u001b[0m res \u001b[38;5;241m=\u001b[39m \u001b[43mminimize\u001b[49m\u001b[43m(\u001b[49m\n\u001b[1;32m     40\u001b[0m \u001b[43m    \u001b[49m\u001b[38;5;28;43mself\u001b[39;49m\u001b[38;5;241;43m.\u001b[39;49m\u001b[43mmodel\u001b[49m\u001b[38;5;241;43m.\u001b[39;49m\u001b[43mforward\u001b[49m\u001b[43m,\u001b[49m\n\u001b[1;32m     41\u001b[0m \u001b[43m    \u001b[49m\u001b[38;5;28;43mself\u001b[39;49m\u001b[38;5;241;43m.\u001b[39;49m\u001b[43mmodel\u001b[49m\u001b[38;5;241;43m.\u001b[39;49m\u001b[43mweights\u001b[49m\u001b[43m,\u001b[49m\n\u001b[1;32m     42\u001b[0m \u001b[43m    \u001b[49m\u001b[43margs\u001b[49m\u001b[38;5;241;43m=\u001b[39;49m\u001b[43m(\u001b[49m\u001b[43m)\u001b[49m\u001b[43m,\u001b[49m\n\u001b[1;32m     43\u001b[0m \u001b[43m    \u001b[49m\u001b[43mmethod\u001b[49m\u001b[38;5;241;43m=\u001b[39;49m\u001b[38;5;28;43mself\u001b[39;49m\u001b[38;5;241;43m.\u001b[39;49m\u001b[43mmethod\u001b[49m\u001b[43m,\u001b[49m\n\u001b[1;32m     44\u001b[0m \u001b[43m    \u001b[49m\u001b[43mjac\u001b[49m\u001b[38;5;241;43m=\u001b[39;49m\u001b[38;5;28;43mself\u001b[39;49m\u001b[38;5;241;43m.\u001b[39;49m\u001b[43mmodel\u001b[49m\u001b[38;5;241;43m.\u001b[39;49m\u001b[43mbackward\u001b[49m\u001b[43m,\u001b[49m\n\u001b[1;32m     45\u001b[0m \u001b[43m    \u001b[49m\u001b[43mtol\u001b[49m\u001b[38;5;241;43m=\u001b[39;49m\u001b[38;5;28;43mself\u001b[39;49m\u001b[38;5;241;43m.\u001b[39;49m\u001b[43mtolerance\u001b[49m\u001b[43m,\u001b[49m\n\u001b[1;32m     46\u001b[0m \u001b[43m    \u001b[49m\u001b[43mcallback\u001b[49m\u001b[38;5;241;43m=\u001b[39;49m\u001b[38;5;28;43mself\u001b[39;49m\u001b[38;5;241;43m.\u001b[39;49m\u001b[43mmodel\u001b[49m\u001b[38;5;241;43m.\u001b[39;49m\u001b[43mcallback\u001b[49m\u001b[43m,\u001b[49m\n\u001b[1;32m     47\u001b[0m \u001b[43m    \u001b[49m\u001b[43moptions\u001b[49m\u001b[38;5;241;43m=\u001b[39;49m\u001b[38;5;28;43;01mNone\u001b[39;49;00m\u001b[43m,\u001b[49m\n\u001b[1;32m     48\u001b[0m \u001b[43m\u001b[49m\u001b[43m)\u001b[49m\n\u001b[1;32m     49\u001b[0m \u001b[38;5;28mself\u001b[39m\u001b[38;5;241m.\u001b[39mmodel\u001b[38;5;241m.\u001b[39mweights \u001b[38;5;241m=\u001b[39m res\u001b[38;5;241m.\u001b[39mx\n\u001b[1;32m     50\u001b[0m energy \u001b[38;5;241m=\u001b[39m \u001b[38;5;28mself\u001b[39m\u001b[38;5;241m.\u001b[39mmodel\u001b[38;5;241m.\u001b[39mforward(\u001b[38;5;28mself\u001b[39m\u001b[38;5;241m.\u001b[39mmodel\u001b[38;5;241m.\u001b[39mweights)\n",
      "File \u001b[0;32m~/miniconda3/envs/dft_env/lib/python3.12/site-packages/scipy/optimize/_minimize.py:708\u001b[0m, in \u001b[0;36mminimize\u001b[0;34m(fun, x0, args, method, jac, hess, hessp, bounds, constraints, tol, callback, options)\u001b[0m\n\u001b[1;32m    706\u001b[0m     res \u001b[38;5;241m=\u001b[39m _minimize_cg(fun, x0, args, jac, callback, \u001b[38;5;241m*\u001b[39m\u001b[38;5;241m*\u001b[39moptions)\n\u001b[1;32m    707\u001b[0m \u001b[38;5;28;01melif\u001b[39;00m meth \u001b[38;5;241m==\u001b[39m \u001b[38;5;124m'\u001b[39m\u001b[38;5;124mbfgs\u001b[39m\u001b[38;5;124m'\u001b[39m:\n\u001b[0;32m--> 708\u001b[0m     res \u001b[38;5;241m=\u001b[39m \u001b[43m_minimize_bfgs\u001b[49m\u001b[43m(\u001b[49m\u001b[43mfun\u001b[49m\u001b[43m,\u001b[49m\u001b[43m \u001b[49m\u001b[43mx0\u001b[49m\u001b[43m,\u001b[49m\u001b[43m \u001b[49m\u001b[43margs\u001b[49m\u001b[43m,\u001b[49m\u001b[43m \u001b[49m\u001b[43mjac\u001b[49m\u001b[43m,\u001b[49m\u001b[43m \u001b[49m\u001b[43mcallback\u001b[49m\u001b[43m,\u001b[49m\u001b[43m \u001b[49m\u001b[38;5;241;43m*\u001b[39;49m\u001b[38;5;241;43m*\u001b[39;49m\u001b[43moptions\u001b[49m\u001b[43m)\u001b[49m\n\u001b[1;32m    709\u001b[0m \u001b[38;5;28;01melif\u001b[39;00m meth \u001b[38;5;241m==\u001b[39m \u001b[38;5;124m'\u001b[39m\u001b[38;5;124mnewton-cg\u001b[39m\u001b[38;5;124m'\u001b[39m:\n\u001b[1;32m    710\u001b[0m     res \u001b[38;5;241m=\u001b[39m _minimize_newtoncg(fun, x0, args, jac, hess, hessp, callback,\n\u001b[1;32m    711\u001b[0m                              \u001b[38;5;241m*\u001b[39m\u001b[38;5;241m*\u001b[39moptions)\n",
      "File \u001b[0;32m~/miniconda3/envs/dft_env/lib/python3.12/site-packages/scipy/optimize/_optimize.py:1524\u001b[0m, in \u001b[0;36m_minimize_bfgs\u001b[0;34m(fun, x0, args, jac, callback, gtol, norm, eps, maxiter, disp, return_all, finite_diff_rel_step, xrtol, c1, c2, hess_inv0, **unknown_options)\u001b[0m\n\u001b[1;32m   1522\u001b[0m k \u001b[38;5;241m+\u001b[39m\u001b[38;5;241m=\u001b[39m \u001b[38;5;241m1\u001b[39m\n\u001b[1;32m   1523\u001b[0m intermediate_result \u001b[38;5;241m=\u001b[39m OptimizeResult(x\u001b[38;5;241m=\u001b[39mxk, fun\u001b[38;5;241m=\u001b[39mold_fval)\n\u001b[0;32m-> 1524\u001b[0m \u001b[38;5;28;01mif\u001b[39;00m \u001b[43m_call_callback_maybe_halt\u001b[49m\u001b[43m(\u001b[49m\u001b[43mcallback\u001b[49m\u001b[43m,\u001b[49m\u001b[43m \u001b[49m\u001b[43mintermediate_result\u001b[49m\u001b[43m)\u001b[49m:\n\u001b[1;32m   1525\u001b[0m     \u001b[38;5;28;01mbreak\u001b[39;00m\n\u001b[1;32m   1526\u001b[0m gnorm \u001b[38;5;241m=\u001b[39m vecnorm(gfk, \u001b[38;5;28mord\u001b[39m\u001b[38;5;241m=\u001b[39mnorm)\n",
      "File \u001b[0;32m~/miniconda3/envs/dft_env/lib/python3.12/site-packages/scipy/optimize/_optimize.py:179\u001b[0m, in \u001b[0;36m_call_callback_maybe_halt\u001b[0;34m(callback, res)\u001b[0m\n\u001b[1;32m    177\u001b[0m     \u001b[38;5;28;01mreturn\u001b[39;00m \u001b[38;5;28;01mFalse\u001b[39;00m\n\u001b[1;32m    178\u001b[0m \u001b[38;5;28;01mtry\u001b[39;00m:\n\u001b[0;32m--> 179\u001b[0m     \u001b[43mcallback\u001b[49m\u001b[43m(\u001b[49m\u001b[43mres\u001b[49m\u001b[43m)\u001b[49m\n\u001b[1;32m    180\u001b[0m     \u001b[38;5;28;01mreturn\u001b[39;00m \u001b[38;5;28;01mFalse\u001b[39;00m\n\u001b[1;32m    181\u001b[0m \u001b[38;5;28;01mexcept\u001b[39;00m \u001b[38;5;167;01mStopIteration\u001b[39;00m:\n",
      "File \u001b[0;32m~/miniconda3/envs/dft_env/lib/python3.12/site-packages/scipy/optimize/_optimize.py:154\u001b[0m, in \u001b[0;36m_wrap_callback.<locals>.wrapped_callback\u001b[0;34m(res)\u001b[0m\n\u001b[1;32m    153\u001b[0m \u001b[38;5;28;01mdef\u001b[39;00m \u001b[38;5;21mwrapped_callback\u001b[39m(res):\n\u001b[0;32m--> 154\u001b[0m     \u001b[38;5;28;01mreturn\u001b[39;00m \u001b[43mcallback\u001b[49m\u001b[43m(\u001b[49m\u001b[43mnp\u001b[49m\u001b[38;5;241;43m.\u001b[39;49m\u001b[43mcopy\u001b[49m\u001b[43m(\u001b[49m\u001b[43mres\u001b[49m\u001b[38;5;241;43m.\u001b[39;49m\u001b[43mx\u001b[49m\u001b[43m)\u001b[49m\u001b[43m)\u001b[49m\n",
      "\u001b[0;31mTypeError\u001b[0m: AdaptVQEFermiHubbard.callback() takes 1 positional argument but 2 were given"
     ]
    }
   ],
   "source": [
    "spinconservation=SpinConservation(size=size_a)\n",
    "operator_pool:Dict={}\n",
    "\n",
    "operator_pool=FHHamiltonian.set_operator_pool(operator_pool=operator_pool,conditions=[spinconservation.spin_conservation],nbody='two')\n",
    "operator_pool=FHHamiltonian.set_operator_pool(operator_pool=operator_pool,conditions=[spinconservation.spin_conservation],nbody='one')\n",
    "#%%\n",
    "print('number of operators=',len(list(operator_pool.keys())))\n",
    "\n",
    "# %%\n",
    "random=False\n",
    "\n",
    "model=AdaptVQEFermiHubbard()\n",
    "\n",
    "model.set_hamiltonian(FHHamiltonian.hamiltonian)\n",
    "model.set_reference_psi(psi_hf)\n",
    "\n",
    "model.set_operators_pool(operator_pool=operator_pool,random=random)\n",
    "\n",
    "#%%\n",
    "\n",
    "\n",
    "fit=Fit(method='BFGS',tolerance_opt=10**-6,e_ref=egs)\n",
    "\n",
    "fit.configuration_checkpoint=configuration\n",
    "fit.init_model(model)\n",
    "\n",
    "#%%\n",
    "history,grad_history=fit.run()\n",
    "# # %%\n",
    "print(model.operator_action_info)\n",
    "print(model.energy-egs/egs)"
   ]
  },
  {
   "cell_type": "code",
   "execution_count": 11,
   "metadata": {},
   "outputs": [],
   "source": [
    "rel_error_hf = [np.abs((e_min - egs) / egs) for e_min in history]\n"
   ]
  },
  {
   "cell_type": "code",
   "execution_count": 10,
   "metadata": {},
   "outputs": [],
   "source": [
    "rel_error_base = [np.abs((e_min - egs) / egs) for e_min in history]"
   ]
  },
  {
   "cell_type": "code",
   "execution_count": 16,
   "metadata": {},
   "outputs": [
    {
     "data": {
      "image/png": "[encoded data removed]",
      "text/plain": [
       "<Figure size 720x720 with 1 Axes>"
      ]
     },
     "metadata": {
      "needs_background": "light"
     },
     "output_type": "display_data"
    },
    {
     "data": {
      "image/png": "[encoded data removed]",
      "text/plain": [
       "<Figure size 720x720 with 1 Axes>"
      ]
     },
     "metadata": {
      "needs_background": "light"
     },
     "output_type": "display_data"
    }
   ],
   "source": [
    "plt.figure(figsize=(10,10))\n",
    "plt.plot(rel_error_hf,linewidth=5,label='HF')\n",
    "plt.plot(rel_error_base, linewidth=5, label='Base state')\n",
    "plt.xlabel('layers',fontsize=40)\n",
    "plt.legend(fontsize=40)\n",
    "plt.semilogy()\n",
    "plt.ylabel(r'$\\Delta_r e$',fontsize=40)\n",
    "plt.tick_params(axis='both', which='major', labelsize=40)\n",
    "plt.tick_params(axis='both', which='minor', labelsize=30)\n",
    "plt.show()\n",
    "\n",
    "\n",
    "plt.figure(figsize=(10,10))\n",
    "plt.plot(grad_history,linewidth=5)\n",
    "plt.xlabel('epochs',fontsize=40)\n",
    "plt.semilogy()\n",
    "plt.ylabel(r'grad',fontsize=40)\n",
    "plt.tick_params(axis='both', which='major', labelsize=40)\n",
    "plt.tick_params(axis='both', which='minor', labelsize=30)\n",
    "plt.show()"
   ]
  },
  {
   "cell_type": "markdown",
   "metadata": {},
   "source": [
    "## Test Hartree Fock for different magnitude of the interaction U"
   ]
  },
  {
   "cell_type": "code",
   "execution_count": 4,
   "metadata": {},
   "outputs": [],
   "source": [
    "from src.hartree_fock_library import HartreeFock, HartreeFockVariational\n",
    "from src.hamiltonian_utils import (\n",
    "    get_twobody_nuclearshell_model,\n",
    "    FermiHubbardHamiltonian,\n",
    "    SingleParticleState,\n",
    ")\n",
    "import numpy as np\n",
    "import torch\n",
    "from typing import Dict, List\n",
    "from src.qml_models import AdaptVQEFermiHubbard\n",
    "from src.qml_utils.train import Fit\n",
    "from src.qml_utils.utils import configuration\n",
    "import matplotlib.pyplot as plt"
   ]
  },
  {
   "cell_type": "code",
   "execution_count": 23,
   "metadata": {},
   "outputs": [
    {
     "name": "stderr",
     "output_type": "stream",
     "text": [
      "  0%|          | 0/8 [00:00<?, ?it/s]"
     ]
    },
    {
     "name": "stdout",
     "output_type": "stream",
     "text": [
      "<itertools.combinations object at 0x7f467d4cd540>\n",
      "[[0. 0. 0. 0. 0. 0. 0. 0. 0. 0. 0. 0.]\n",
      " [0. 0. 0. 0. 0. 0. 0. 0. 0. 0. 0. 0.]\n",
      " [0. 0. 0. 0. 0. 0. 0. 0. 0. 0. 0. 0.]\n",
      " [0. 0. 0. 0. 0. 0. 0. 0. 0. 0. 0. 0.]\n",
      " [0. 0. 0. 0. 0. 0. 0. 0. 0. 0. 0. 0.]\n",
      " [0. 0. 0. 0. 0. 0. 0. 0. 0. 0. 0. 0.]\n",
      " [0. 0. 0. 0. 0. 0. 0. 0. 0. 0. 0. 0.]\n",
      " [0. 0. 0. 0. 0. 0. 0. 0. 0. 0. 0. 0.]\n",
      " [0. 0. 0. 0. 0. 0. 0. 0. 0. 0. 0. 0.]\n",
      " [0. 0. 0. 0. 0. 0. 0. 0. 0. 0. 0. 0.]\n",
      " [0. 0. 0. 0. 0. 0. 0. 0. 0. 0. 0. 0.]\n",
      " [0. 0. 0. 0. 0. 0. 0. 0. 0. 0. 0. 0.]]\n",
      "  (0, 0)\t1.5701825978640471\n",
      "  (0, 1)\t1.0\n",
      "  (0, 8)\t-1.0\n",
      "  (0, 15)\t1.0\n",
      "  (0, 120)\t-1.0\n",
      "  (1, 0)\t1.0\n",
      "  (1, 1)\t1.6313223094114457\n",
      "  (1, 2)\t1.0\n",
      "  (1, 5)\t1.0\n",
      "  (1, 11)\t-1.0\n",
      "  (1, 16)\t1.0\n",
      "  (1, 121)\t-1.0\n",
      "  (2, 1)\t1.0\n",
      "  (2, 2)\t1.2927693703520005\n",
      "  (2, 3)\t1.0\n",
      "  (2, 6)\t1.0\n",
      "  (2, 13)\t-1.0\n",
      "  (2, 17)\t1.0\n",
      "  (2, 122)\t-1.0\n",
      "  (3, 2)\t1.0\n",
      "  (3, 3)\t1.1914746452050533\n",
      "  (3, 4)\t1.0\n",
      "  (3, 7)\t1.0\n",
      "  (3, 14)\t-1.0\n",
      "  (3, 18)\t1.0\n",
      "  :\t:\n",
      "  (220, 222)\t1.0\n",
      "  (221, 56)\t-1.0\n",
      "  (221, 206)\t1.0\n",
      "  (221, 211)\t-1.0\n",
      "  (221, 218)\t1.0\n",
      "  (221, 220)\t1.0\n",
      "  (221, 221)\t1.623691894896948\n",
      "  (221, 223)\t1.0\n",
      "  (222, 57)\t-1.0\n",
      "  (222, 207)\t1.0\n",
      "  (222, 220)\t1.0\n",
      "  (222, 222)\t0.9035362320136529\n",
      "  (222, 223)\t1.0\n",
      "  (223, 58)\t-1.0\n",
      "  (223, 208)\t1.0\n",
      "  (223, 212)\t-1.0\n",
      "  (223, 221)\t1.0\n",
      "  (223, 222)\t1.0\n",
      "  (223, 223)\t1.2851389558375026\n",
      "  (223, 224)\t1.0\n",
      "  (224, 59)\t-1.0\n",
      "  (224, 209)\t1.0\n",
      "  (224, 213)\t-1.0\n",
      "  (224, 223)\t1.0\n",
      "  (224, 224)\t1.1838442306905557\n",
      "[-4.76738717]\n"
     ]
    },
    {
     "name": "stderr",
     "output_type": "stream",
     "text": [
      "de=0.000000000000000: 100%|██████████| 50/50 [00:00<00:00, 227.77it/s]\n",
      " 12%|█▎        | 1/8 [00:00<00:02,  2.98it/s]"
     ]
    },
    {
     "name": "stdout",
     "output_type": "stream",
     "text": [
      "-4.767387172958671\n",
      "<itertools.combinations object at 0x7f467d346c20>\n",
      "[[0. 0. 0. 0. 0. 0. 0. 0. 0. 0. 0. 0.]\n",
      " [0. 0. 0. 0. 0. 0. 0. 0. 0. 0. 0. 0.]\n",
      " [0. 0. 0. 0. 0. 0. 0. 0. 0. 0. 0. 0.]\n",
      " [0. 0. 0. 0. 0. 0. 0. 0. 0. 0. 0. 0.]\n",
      " [0. 0. 0. 0. 0. 0. 0. 0. 0. 0. 0. 0.]\n",
      " [0. 0. 0. 0. 0. 0. 0. 0. 0. 0. 0. 0.]\n",
      " [0. 0. 0. 0. 0. 0. 0. 0. 0. 0. 0. 0.]\n",
      " [0. 0. 0. 0. 0. 0. 0. 0. 0. 0. 0. 0.]\n",
      " [0. 0. 0. 0. 0. 0. 0. 0. 0. 0. 0. 0.]\n",
      " [0. 0. 0. 0. 0. 0. 0. 0. 0. 0. 0. 0.]\n",
      " [0. 0. 0. 0. 0. 0. 0. 0. 0. 0. 0. 0.]\n",
      " [0. 0. 0. 0. 0. 0. 0. 0. 0. 0. 0. 0.]]\n",
      "  (0, 0)\t-0.4298174021359529\n",
      "  (0, 1)\t1.0\n",
      "  (0, 8)\t-1.0\n",
      "  (0, 15)\t1.0\n",
      "  (0, 120)\t-1.0\n",
      "  (1, 0)\t1.0\n",
      "  (1, 1)\t0.6313223094114457\n",
      "  (1, 2)\t1.0\n",
      "  (1, 5)\t1.0\n",
      "  (1, 11)\t-1.0\n",
      "  (1, 16)\t1.0\n",
      "  (1, 121)\t-1.0\n",
      "  (2, 1)\t1.0\n",
      "  (2, 2)\t0.29276937035200046\n",
      "  (2, 3)\t1.0\n",
      "  (2, 6)\t1.0\n",
      "  (2, 13)\t-1.0\n",
      "  (2, 17)\t1.0\n",
      "  (2, 122)\t-1.0\n",
      "  (3, 2)\t1.0\n",
      "  (3, 3)\t0.1914746452050533\n",
      "  (3, 4)\t1.0\n",
      "  (3, 7)\t1.0\n",
      "  (3, 14)\t-1.0\n",
      "  (3, 18)\t1.0\n",
      "  :\t:\n",
      "  (220, 222)\t1.0\n",
      "  (221, 56)\t-1.0\n",
      "  (221, 206)\t1.0\n",
      "  (221, 211)\t-1.0\n",
      "  (221, 218)\t1.0\n",
      "  (221, 220)\t1.0\n",
      "  (221, 221)\t0.6236918948969481\n",
      "  (221, 223)\t1.0\n",
      "  (222, 57)\t-1.0\n",
      "  (222, 207)\t1.0\n",
      "  (222, 220)\t1.0\n",
      "  (222, 222)\t-0.09646376798634715\n",
      "  (222, 223)\t1.0\n",
      "  (223, 58)\t-1.0\n",
      "  (223, 208)\t1.0\n",
      "  (223, 212)\t-1.0\n",
      "  (223, 221)\t1.0\n",
      "  (223, 222)\t1.0\n",
      "  (223, 223)\t0.2851389558375026\n",
      "  (223, 224)\t1.0\n",
      "  (224, 59)\t-1.0\n",
      "  (224, 209)\t1.0\n",
      "  (224, 213)\t-1.0\n",
      "  (224, 223)\t1.0\n",
      "  (224, 224)\t-0.8161557693094443\n",
      "[-5.67242907]\n"
     ]
    },
    {
     "name": "stderr",
     "output_type": "stream",
     "text": [
      "de=0.000000000000000: 100%|██████████| 50/50 [00:00<00:00, 258.84it/s]\n",
      " 25%|██▌       | 2/8 [00:00<00:01,  3.02it/s]"
     ]
    },
    {
     "name": "stdout",
     "output_type": "stream",
     "text": [
      "-5.5410522137753775\n",
      "<itertools.combinations object at 0x7f467d346590>\n",
      "[[0. 0. 0. 0. 0. 0. 0. 0. 0. 0. 0. 0.]\n",
      " [0. 0. 0. 0. 0. 0. 0. 0. 0. 0. 0. 0.]\n",
      " [0. 0. 0. 0. 0. 0. 0. 0. 0. 0. 0. 0.]\n",
      " [0. 0. 0. 0. 0. 0. 0. 0. 0. 0. 0. 0.]\n",
      " [0. 0. 0. 0. 0. 0. 0. 0. 0. 0. 0. 0.]\n",
      " [0. 0. 0. 0. 0. 0. 0. 0. 0. 0. 0. 0.]\n",
      " [0. 0. 0. 0. 0. 0. 0. 0. 0. 0. 0. 0.]\n",
      " [0. 0. 0. 0. 0. 0. 0. 0. 0. 0. 0. 0.]\n",
      " [0. 0. 0. 0. 0. 0. 0. 0. 0. 0. 0. 0.]\n",
      " [0. 0. 0. 0. 0. 0. 0. 0. 0. 0. 0. 0.]\n",
      " [0. 0. 0. 0. 0. 0. 0. 0. 0. 0. 0. 0.]\n",
      " [0. 0. 0. 0. 0. 0. 0. 0. 0. 0. 0. 0.]]\n",
      "  (0, 0)\t-2.429817402135953\n",
      "  (0, 1)\t1.0\n",
      "  (0, 8)\t-1.0\n",
      "  (0, 15)\t1.0\n",
      "  (0, 120)\t-1.0\n",
      "  (1, 0)\t1.0\n",
      "  (1, 1)\t-0.36867769058855426\n",
      "  (1, 2)\t1.0\n",
      "  (1, 5)\t1.0\n",
      "  (1, 11)\t-1.0\n",
      "  (1, 16)\t1.0\n",
      "  (1, 121)\t-1.0\n",
      "  (2, 1)\t1.0\n",
      "  (2, 2)\t-0.7072306296479995\n",
      "  (2, 3)\t1.0\n",
      "  (2, 6)\t1.0\n",
      "  (2, 13)\t-1.0\n",
      "  (2, 17)\t1.0\n",
      "  (2, 122)\t-1.0\n",
      "  (3, 2)\t1.0\n",
      "  (3, 3)\t-0.8085253547949467\n",
      "  (3, 4)\t1.0\n",
      "  (3, 7)\t1.0\n",
      "  (3, 14)\t-1.0\n",
      "  (3, 18)\t1.0\n",
      "  :\t:\n",
      "  (220, 222)\t1.0\n",
      "  (221, 56)\t-1.0\n",
      "  (221, 206)\t1.0\n",
      "  (221, 211)\t-1.0\n",
      "  (221, 218)\t1.0\n",
      "  (221, 220)\t1.0\n",
      "  (221, 221)\t-0.3763081051030519\n",
      "  (221, 223)\t1.0\n",
      "  (222, 57)\t-1.0\n",
      "  (222, 207)\t1.0\n",
      "  (222, 220)\t1.0\n",
      "  (222, 222)\t-1.0964637679863471\n",
      "  (222, 223)\t1.0\n",
      "  (223, 58)\t-1.0\n",
      "  (223, 208)\t1.0\n",
      "  (223, 212)\t-1.0\n",
      "  (223, 221)\t1.0\n",
      "  (223, 222)\t1.0\n",
      "  (223, 223)\t-0.7148610441624974\n",
      "  (223, 224)\t1.0\n",
      "  (224, 59)\t-1.0\n",
      "  (224, 209)\t1.0\n",
      "  (224, 213)\t-1.0\n",
      "  (224, 223)\t1.0\n",
      "  (224, 224)\t-2.8161557693094443\n",
      "[-6.81515963]\n"
     ]
    },
    {
     "name": "stderr",
     "output_type": "stream",
     "text": [
      "de=0.000000000000000: 100%|██████████| 50/50 [00:00<00:00, 280.07it/s]\n",
      " 38%|███▊      | 3/8 [00:00<00:01,  3.12it/s]"
     ]
    },
    {
     "name": "stdout",
     "output_type": "stream",
     "text": [
      "-6.314717254592087\n",
      "<itertools.combinations object at 0x7f467d0f8040>\n",
      "[[0. 0. 0. 0. 0. 0. 0. 0. 0. 0. 0. 0.]\n",
      " [0. 0. 0. 0. 0. 0. 0. 0. 0. 0. 0. 0.]\n",
      " [0. 0. 0. 0. 0. 0. 0. 0. 0. 0. 0. 0.]\n",
      " [0. 0. 0. 0. 0. 0. 0. 0. 0. 0. 0. 0.]\n",
      " [0. 0. 0. 0. 0. 0. 0. 0. 0. 0. 0. 0.]\n",
      " [0. 0. 0. 0. 0. 0. 0. 0. 0. 0. 0. 0.]\n",
      " [0. 0. 0. 0. 0. 0. 0. 0. 0. 0. 0. 0.]\n",
      " [0. 0. 0. 0. 0. 0. 0. 0. 0. 0. 0. 0.]\n",
      " [0. 0. 0. 0. 0. 0. 0. 0. 0. 0. 0. 0.]\n",
      " [0. 0. 0. 0. 0. 0. 0. 0. 0. 0. 0. 0.]\n",
      " [0. 0. 0. 0. 0. 0. 0. 0. 0. 0. 0. 0.]\n",
      " [0. 0. 0. 0. 0. 0. 0. 0. 0. 0. 0. 0.]]\n",
      "  (0, 0)\t-4.429817402135953\n",
      "  (0, 1)\t1.0\n",
      "  (0, 8)\t-1.0\n",
      "  (0, 15)\t1.0\n",
      "  (0, 120)\t-1.0\n",
      "  (1, 0)\t1.0\n",
      "  (1, 1)\t-1.3686776905885543\n",
      "  (1, 2)\t1.0\n",
      "  (1, 5)\t1.0\n",
      "  (1, 11)\t-1.0\n",
      "  (1, 16)\t1.0\n",
      "  (1, 121)\t-1.0\n",
      "  (2, 1)\t1.0\n",
      "  (2, 2)\t-1.7072306296479995\n",
      "  (2, 3)\t1.0\n",
      "  (2, 6)\t1.0\n",
      "  (2, 13)\t-1.0\n",
      "  (2, 17)\t1.0\n",
      "  (2, 122)\t-1.0\n",
      "  (3, 2)\t1.0\n",
      "  (3, 3)\t-1.8085253547949467\n",
      "  (3, 4)\t1.0\n",
      "  (3, 7)\t1.0\n",
      "  (3, 14)\t-1.0\n",
      "  (3, 18)\t1.0\n",
      "  :\t:\n",
      "  (220, 222)\t1.0\n",
      "  (221, 56)\t-1.0\n",
      "  (221, 206)\t1.0\n",
      "  (221, 211)\t-1.0\n",
      "  (221, 218)\t1.0\n",
      "  (221, 220)\t1.0\n",
      "  (221, 221)\t-1.376308105103052\n",
      "  (221, 223)\t1.0\n",
      "  (222, 57)\t-1.0\n",
      "  (222, 207)\t1.0\n",
      "  (222, 220)\t1.0\n",
      "  (222, 222)\t-2.0964637679863474\n",
      "  (222, 223)\t1.0\n",
      "  (223, 58)\t-1.0\n",
      "  (223, 208)\t1.0\n",
      "  (223, 212)\t-1.0\n",
      "  (223, 221)\t1.0\n",
      "  (223, 222)\t1.0\n",
      "  (223, 223)\t-1.7148610441624974\n",
      "  (223, 224)\t1.0\n",
      "  (224, 59)\t-1.0\n",
      "  (224, 209)\t1.0\n",
      "  (224, 213)\t-1.0\n",
      "  (224, 223)\t1.0\n",
      "  (224, 224)\t-4.816155769309445\n",
      "[-8.1500447]\n"
     ]
    },
    {
     "name": "stderr",
     "output_type": "stream",
     "text": [
      "de=0.000000000000000: 100%|██████████| 50/50 [00:00<00:00, 281.11it/s]\n",
      " 50%|█████     | 4/8 [00:01<00:01,  3.19it/s]"
     ]
    },
    {
     "name": "stdout",
     "output_type": "stream",
     "text": [
      "-7.088382295408795\n",
      "<itertools.combinations object at 0x7f467d4812c0>\n",
      "[[0. 0. 0. 0. 0. 0. 0. 0. 0. 0. 0. 0.]\n",
      " [0. 0. 0. 0. 0. 0. 0. 0. 0. 0. 0. 0.]\n",
      " [0. 0. 0. 0. 0. 0. 0. 0. 0. 0. 0. 0.]\n",
      " [0. 0. 0. 0. 0. 0. 0. 0. 0. 0. 0. 0.]\n",
      " [0. 0. 0. 0. 0. 0. 0. 0. 0. 0. 0. 0.]\n",
      " [0. 0. 0. 0. 0. 0. 0. 0. 0. 0. 0. 0.]\n",
      " [0. 0. 0. 0. 0. 0. 0. 0. 0. 0. 0. 0.]\n",
      " [0. 0. 0. 0. 0. 0. 0. 0. 0. 0. 0. 0.]\n",
      " [0. 0. 0. 0. 0. 0. 0. 0. 0. 0. 0. 0.]\n",
      " [0. 0. 0. 0. 0. 0. 0. 0. 0. 0. 0. 0.]\n",
      " [0. 0. 0. 0. 0. 0. 0. 0. 0. 0. 0. 0.]\n",
      " [0. 0. 0. 0. 0. 0. 0. 0. 0. 0. 0. 0.]]\n",
      "  (0, 0)\t-6.429817402135953\n",
      "  (0, 1)\t1.0\n",
      "  (0, 8)\t-1.0\n",
      "  (0, 15)\t1.0\n",
      "  (0, 120)\t-1.0\n",
      "  (1, 0)\t1.0\n",
      "  (1, 1)\t-2.3686776905885543\n",
      "  (1, 2)\t1.0\n",
      "  (1, 5)\t1.0\n",
      "  (1, 11)\t-1.0\n",
      "  (1, 16)\t1.0\n",
      "  (1, 121)\t-1.0\n",
      "  (2, 1)\t1.0\n",
      "  (2, 2)\t-2.7072306296479995\n",
      "  (2, 3)\t1.0\n",
      "  (2, 6)\t1.0\n",
      "  (2, 13)\t-1.0\n",
      "  (2, 17)\t1.0\n",
      "  (2, 122)\t-1.0\n",
      "  (3, 2)\t1.0\n",
      "  (3, 3)\t-2.8085253547949467\n",
      "  (3, 4)\t1.0\n",
      "  (3, 7)\t1.0\n",
      "  (3, 14)\t-1.0\n",
      "  (3, 18)\t1.0\n",
      "  :\t:\n",
      "  (220, 222)\t1.0\n",
      "  (221, 56)\t-1.0\n",
      "  (221, 206)\t1.0\n",
      "  (221, 211)\t-1.0\n",
      "  (221, 218)\t1.0\n",
      "  (221, 220)\t1.0\n",
      "  (221, 221)\t-2.376308105103052\n",
      "  (221, 223)\t1.0\n",
      "  (222, 57)\t-1.0\n",
      "  (222, 207)\t1.0\n",
      "  (222, 220)\t1.0\n",
      "  (222, 222)\t-3.0964637679863474\n",
      "  (222, 223)\t1.0\n",
      "  (223, 58)\t-1.0\n",
      "  (223, 208)\t1.0\n",
      "  (223, 212)\t-1.0\n",
      "  (223, 221)\t1.0\n",
      "  (223, 222)\t1.0\n",
      "  (223, 223)\t-2.7148610441624976\n",
      "  (223, 224)\t1.0\n",
      "  (224, 59)\t-1.0\n",
      "  (224, 209)\t1.0\n",
      "  (224, 213)\t-1.0\n",
      "  (224, 223)\t1.0\n",
      "  (224, 224)\t-6.816155769309445\n",
      "[-9.63745256]\n"
     ]
    },
    {
     "name": "stderr",
     "output_type": "stream",
     "text": [
      "de=0.000000000000001: 100%|██████████| 50/50 [00:00<00:00, 237.47it/s]\n",
      " 62%|██████▎   | 5/8 [00:01<00:00,  3.10it/s]"
     ]
    },
    {
     "name": "stdout",
     "output_type": "stream",
     "text": [
      "-7.862047336225506\n",
      "<itertools.combinations object at 0x7f467d3b0c20>\n",
      "[[0. 0. 0. 0. 0. 0. 0. 0. 0. 0. 0. 0.]\n",
      " [0. 0. 0. 0. 0. 0. 0. 0. 0. 0. 0. 0.]\n",
      " [0. 0. 0. 0. 0. 0. 0. 0. 0. 0. 0. 0.]\n",
      " [0. 0. 0. 0. 0. 0. 0. 0. 0. 0. 0. 0.]\n",
      " [0. 0. 0. 0. 0. 0. 0. 0. 0. 0. 0. 0.]\n",
      " [0. 0. 0. 0. 0. 0. 0. 0. 0. 0. 0. 0.]\n",
      " [0. 0. 0. 0. 0. 0. 0. 0. 0. 0. 0. 0.]\n",
      " [0. 0. 0. 0. 0. 0. 0. 0. 0. 0. 0. 0.]\n",
      " [0. 0. 0. 0. 0. 0. 0. 0. 0. 0. 0. 0.]\n",
      " [0. 0. 0. 0. 0. 0. 0. 0. 0. 0. 0. 0.]\n",
      " [0. 0. 0. 0. 0. 0. 0. 0. 0. 0. 0. 0.]\n",
      " [0. 0. 0. 0. 0. 0. 0. 0. 0. 0. 0. 0.]]\n",
      "  (0, 0)\t-8.429817402135953\n",
      "  (0, 1)\t1.0\n",
      "  (0, 8)\t-1.0\n",
      "  (0, 15)\t1.0\n",
      "  (0, 120)\t-1.0\n",
      "  (1, 0)\t1.0\n",
      "  (1, 1)\t-3.3686776905885543\n",
      "  (1, 2)\t1.0\n",
      "  (1, 5)\t1.0\n",
      "  (1, 11)\t-1.0\n",
      "  (1, 16)\t1.0\n",
      "  (1, 121)\t-1.0\n",
      "  (2, 1)\t1.0\n",
      "  (2, 2)\t-3.7072306296479995\n",
      "  (2, 3)\t1.0\n",
      "  (2, 6)\t1.0\n",
      "  (2, 13)\t-1.0\n",
      "  (2, 17)\t1.0\n",
      "  (2, 122)\t-1.0\n",
      "  (3, 2)\t1.0\n",
      "  (3, 3)\t-3.8085253547949467\n",
      "  (3, 4)\t1.0\n",
      "  (3, 7)\t1.0\n",
      "  (3, 14)\t-1.0\n",
      "  (3, 18)\t1.0\n",
      "  :\t:\n",
      "  (220, 222)\t1.0\n",
      "  (221, 56)\t-1.0\n",
      "  (221, 206)\t1.0\n",
      "  (221, 211)\t-1.0\n",
      "  (221, 218)\t1.0\n",
      "  (221, 220)\t1.0\n",
      "  (221, 221)\t-3.376308105103052\n",
      "  (221, 223)\t1.0\n",
      "  (222, 57)\t-1.0\n",
      "  (222, 207)\t1.0\n",
      "  (222, 220)\t1.0\n",
      "  (222, 222)\t-4.096463767986347\n",
      "  (222, 223)\t1.0\n",
      "  (223, 58)\t-1.0\n",
      "  (223, 208)\t1.0\n",
      "  (223, 212)\t-1.0\n",
      "  (223, 221)\t1.0\n",
      "  (223, 222)\t1.0\n",
      "  (223, 223)\t-3.7148610441624976\n",
      "  (223, 224)\t1.0\n",
      "  (224, 59)\t-1.0\n",
      "  (224, 209)\t1.0\n",
      "  (224, 213)\t-1.0\n",
      "  (224, 223)\t1.0\n",
      "  (224, 224)\t-8.816155769309445\n",
      "[-11.24311455]\n"
     ]
    },
    {
     "name": "stderr",
     "output_type": "stream",
     "text": [
      "de=0.000000000000000: 100%|██████████| 50/50 [00:00<00:00, 277.67it/s]\n",
      " 75%|███████▌  | 6/8 [00:01<00:00,  3.14it/s]"
     ]
    },
    {
     "name": "stdout",
     "output_type": "stream",
     "text": [
      "-8.635712377042212\n",
      "<itertools.combinations object at 0x7f467d45ce50>\n",
      "[[0. 0. 0. 0. 0. 0. 0. 0. 0. 0. 0. 0.]\n",
      " [0. 0. 0. 0. 0. 0. 0. 0. 0. 0. 0. 0.]\n",
      " [0. 0. 0. 0. 0. 0. 0. 0. 0. 0. 0. 0.]\n",
      " [0. 0. 0. 0. 0. 0. 0. 0. 0. 0. 0. 0.]\n",
      " [0. 0. 0. 0. 0. 0. 0. 0. 0. 0. 0. 0.]\n",
      " [0. 0. 0. 0. 0. 0. 0. 0. 0. 0. 0. 0.]\n",
      " [0. 0. 0. 0. 0. 0. 0. 0. 0. 0. 0. 0.]\n",
      " [0. 0. 0. 0. 0. 0. 0. 0. 0. 0. 0. 0.]\n",
      " [0. 0. 0. 0. 0. 0. 0. 0. 0. 0. 0. 0.]\n",
      " [0. 0. 0. 0. 0. 0. 0. 0. 0. 0. 0. 0.]\n",
      " [0. 0. 0. 0. 0. 0. 0. 0. 0. 0. 0. 0.]\n",
      " [0. 0. 0. 0. 0. 0. 0. 0. 0. 0. 0. 0.]]\n",
      "  (0, 0)\t-10.429817402135953\n",
      "  (0, 1)\t1.0\n",
      "  (0, 8)\t-1.0\n",
      "  (0, 15)\t1.0\n",
      "  (0, 120)\t-1.0\n",
      "  (1, 0)\t1.0\n",
      "  (1, 1)\t-4.368677690588554\n",
      "  (1, 2)\t1.0\n",
      "  (1, 5)\t1.0\n",
      "  (1, 11)\t-1.0\n",
      "  (1, 16)\t1.0\n",
      "  (1, 121)\t-1.0\n",
      "  (2, 1)\t1.0\n",
      "  (2, 2)\t-4.7072306296479995\n",
      "  (2, 3)\t1.0\n",
      "  (2, 6)\t1.0\n",
      "  (2, 13)\t-1.0\n",
      "  (2, 17)\t1.0\n",
      "  (2, 122)\t-1.0\n",
      "  (3, 2)\t1.0\n",
      "  (3, 3)\t-4.808525354794947\n",
      "  (3, 4)\t1.0\n",
      "  (3, 7)\t1.0\n",
      "  (3, 14)\t-1.0\n",
      "  (3, 18)\t1.0\n",
      "  :\t:\n",
      "  (220, 222)\t1.0\n",
      "  (221, 56)\t-1.0\n",
      "  (221, 206)\t1.0\n",
      "  (221, 211)\t-1.0\n",
      "  (221, 218)\t1.0\n",
      "  (221, 220)\t1.0\n",
      "  (221, 221)\t-4.3763081051030515\n",
      "  (221, 223)\t1.0\n",
      "  (222, 57)\t-1.0\n",
      "  (222, 207)\t1.0\n",
      "  (222, 220)\t1.0\n",
      "  (222, 222)\t-5.096463767986347\n",
      "  (222, 223)\t1.0\n",
      "  (223, 58)\t-1.0\n",
      "  (223, 208)\t1.0\n",
      "  (223, 212)\t-1.0\n",
      "  (223, 221)\t1.0\n",
      "  (223, 222)\t1.0\n",
      "  (223, 223)\t-4.714861044162498\n",
      "  (223, 224)\t1.0\n",
      "  (224, 59)\t-1.0\n",
      "  (224, 209)\t1.0\n",
      "  (224, 213)\t-1.0\n",
      "  (224, 223)\t1.0\n",
      "  (224, 224)\t-10.816155769309445\n",
      "[-12.93818325]\n"
     ]
    },
    {
     "name": "stderr",
     "output_type": "stream",
     "text": [
      "de=0.000000000000000: 100%|██████████| 50/50 [00:00<00:00, 291.49it/s]\n",
      " 88%|████████▊ | 7/8 [00:02<00:00,  2.99it/s]"
     ]
    },
    {
     "name": "stdout",
     "output_type": "stream",
     "text": [
      "-9.409377417858922\n",
      "<itertools.combinations object at 0x7f467d2da6d0>\n",
      "[[0. 0. 0. 0. 0. 0. 0. 0. 0. 0. 0. 0.]\n",
      " [0. 0. 0. 0. 0. 0. 0. 0. 0. 0. 0. 0.]\n",
      " [0. 0. 0. 0. 0. 0. 0. 0. 0. 0. 0. 0.]\n",
      " [0. 0. 0. 0. 0. 0. 0. 0. 0. 0. 0. 0.]\n",
      " [0. 0. 0. 0. 0. 0. 0. 0. 0. 0. 0. 0.]\n",
      " [0. 0. 0. 0. 0. 0. 0. 0. 0. 0. 0. 0.]\n",
      " [0. 0. 0. 0. 0. 0. 0. 0. 0. 0. 0. 0.]\n",
      " [0. 0. 0. 0. 0. 0. 0. 0. 0. 0. 0. 0.]\n",
      " [0. 0. 0. 0. 0. 0. 0. 0. 0. 0. 0. 0.]\n",
      " [0. 0. 0. 0. 0. 0. 0. 0. 0. 0. 0. 0.]\n",
      " [0. 0. 0. 0. 0. 0. 0. 0. 0. 0. 0. 0.]\n",
      " [0. 0. 0. 0. 0. 0. 0. 0. 0. 0. 0. 0.]]\n",
      "  (0, 0)\t-12.429817402135953\n",
      "  (0, 1)\t1.0\n",
      "  (0, 8)\t-1.0\n",
      "  (0, 15)\t1.0\n",
      "  (0, 120)\t-1.0\n",
      "  (1, 0)\t1.0\n",
      "  (1, 1)\t-5.368677690588554\n",
      "  (1, 2)\t1.0\n",
      "  (1, 5)\t1.0\n",
      "  (1, 11)\t-1.0\n",
      "  (1, 16)\t1.0\n",
      "  (1, 121)\t-1.0\n",
      "  (2, 1)\t1.0\n",
      "  (2, 2)\t-5.7072306296479995\n",
      "  (2, 3)\t1.0\n",
      "  (2, 6)\t1.0\n",
      "  (2, 13)\t-1.0\n",
      "  (2, 17)\t1.0\n",
      "  (2, 122)\t-1.0\n",
      "  (3, 2)\t1.0\n",
      "  (3, 3)\t-5.808525354794947\n",
      "  (3, 4)\t1.0\n",
      "  (3, 7)\t1.0\n",
      "  (3, 14)\t-1.0\n",
      "  (3, 18)\t1.0\n",
      "  :\t:\n",
      "  (220, 222)\t1.0\n",
      "  (221, 56)\t-1.0\n",
      "  (221, 206)\t1.0\n",
      "  (221, 211)\t-1.0\n",
      "  (221, 218)\t1.0\n",
      "  (221, 220)\t1.0\n",
      "  (221, 221)\t-5.3763081051030515\n",
      "  (221, 223)\t1.0\n",
      "  (222, 57)\t-1.0\n",
      "  (222, 207)\t1.0\n",
      "  (222, 220)\t1.0\n",
      "  (222, 222)\t-6.096463767986347\n",
      "  (222, 223)\t1.0\n",
      "  (223, 58)\t-1.0\n",
      "  (223, 208)\t1.0\n",
      "  (223, 212)\t-1.0\n",
      "  (223, 221)\t1.0\n",
      "  (223, 222)\t1.0\n",
      "  (223, 223)\t-5.714861044162498\n",
      "  (223, 224)\t1.0\n",
      "  (224, 59)\t-1.0\n",
      "  (224, 209)\t1.0\n",
      "  (224, 213)\t-1.0\n",
      "  (224, 223)\t1.0\n",
      "  (224, 224)\t-12.816155769309445\n",
      "[-14.69986867]\n"
     ]
    },
    {
     "name": "stderr",
     "output_type": "stream",
     "text": [
      "de=0.000000000000000: 100%|██████████| 50/50 [00:00<00:00, 289.63it/s]\n",
      "100%|██████████| 8/8 [00:02<00:00,  3.09it/s]"
     ]
    },
    {
     "name": "stdout",
     "output_type": "stream",
     "text": [
      "-10.18304245867563\n"
     ]
    },
    {
     "name": "stderr",
     "output_type": "stream",
     "text": [
      "\n"
     ]
    }
   ],
   "source": [
    "egss=[]\n",
    "e_hf=[]\n",
    "\n",
    "t_range=tqdm(np.arange(8))\n",
    "v_ext = np.random.uniform(size=size_a)\n",
    "\n",
    "for u in t_range:\n",
    "\n",
    "    size_a = 6\n",
    "    size_b = 6\n",
    "    FHHamiltonian = FermiHubbardHamiltonian(\n",
    "        size_a=size_a, size_b=size_a, nparticles_a=2, nparticles_b=2\n",
    "    )\n",
    "\n",
    "    t = -1.0\n",
    "    \n",
    "\n",
    "    # define the local onsite potential\n",
    "    twobody_matrix:Dict={}\n",
    "    for i in range(size_a):\n",
    "        twobody_matrix[(i,i+size_a,i+size_a,i)]=u\n",
    "        twobody_matrix[(i, i + size_a, i, i + size_a)] = -u\n",
    "        twobody_matrix[( i + size_a,i , i + size_a,i)] = -u\n",
    "        twobody_matrix[(i+size_a, i , i , i+size_a)] = u\n",
    "\n",
    "    kinetic_term:Dict={}\n",
    "    adj_matrix=np.zeros((size_a+size_b,size_a+size_b))\n",
    "    for i in range(size_a):\n",
    "        kinetic_term[(i,(i+1) % size_a)]=t\n",
    "        kinetic_term[((i+1) % size_a,i)]=t\n",
    "        \n",
    "        kinetic_term[(size_a +i,size_a+(i+1) % size_a)]=t\n",
    "        kinetic_term[(size_a+(i+1) % size_a,size_a +i)]=t\n",
    "        \n",
    "        \n",
    "        # adj matrix for HF\n",
    "        adj_matrix[i,(i+1)%size_a]=t\n",
    "        adj_matrix[(i + 1) % size_a,i]=t\n",
    "        adj_matrix[i,i]=-2*t\n",
    "        adj_matrix[i+size_a,i+size_a]=-2*t\n",
    "        adj_matrix[i+size_a,size_a+ (i + 1) % size_a] = t\n",
    "        adj_matrix[size_a+(i + 1) % size_a,size_a+ i] = t\n",
    "\n",
    "    print(adj_matrix - adj_matrix.T)\n",
    "    # %%\n",
    "\n",
    "    FHHamiltonian.get_external_potential(external_potential=np.append(v_ext, v_ext))\n",
    "    FHHamiltonian.get_kinetic_operator(adj_matrix=kinetic_term)\n",
    "    FHHamiltonian.get_twobody_interaction(twobody_dict=twobody_matrix)\n",
    "    FHHamiltonian.get_hamiltonian()\n",
    "\n",
    "    # print(FHHamiltonian.hamiltonian)\n",
    "    print(FHHamiltonian.hamiltonian)\n",
    "    # print(FHHamiltonian.twobody_operator)\n",
    "    # print(FHHamiltonian.kinetic_operator+FHHamiltonian.twobody_operator-FHHamiltonian.hamiltonian)\n",
    "    egs, psi0 = FHHamiltonian.get_spectrum(n_states=1)\n",
    "\n",
    "    print(egs)\n",
    "    egss.append(egs)\n",
    "\n",
    "    # %% Hartree fock initialization\n",
    "\n",
    "    HFclass = HartreeFock(size=size_a, nspecies=2)\n",
    "\n",
    "    HFclass.get_hamiltonian(\n",
    "        twobody_interaction=twobody_matrix,\n",
    "        kinetic_term=adj_matrix,\n",
    "        external_potential=np.append(v_ext, v_ext),\n",
    "    )\n",
    "\n",
    "    de, history_herm, ortho_history = HFclass.selfconsistent_computation(eta=1, epochs=50)\n",
    "\n",
    "    psi_hf = HFclass.create_hf_psi(FHHamiltonian.basis, nparticles=4)\n",
    "    print(psi_hf.conjugate().transpose() @ FHHamiltonian.hamiltonian @ psi_hf)\n",
    "\n",
    "    e_hf.append(psi_hf.conjugate().transpose() @ FHHamiltonian.hamiltonian @ psi_hf)"
   ]
  },
  {
   "cell_type": "code",
   "execution_count": 26,
   "metadata": {},
   "outputs": [
    {
     "data": {
      "image/png": "[encoded data removed]",
      "text/plain": [
       "<Figure size 720x720 with 1 Axes>"
      ]
     },
     "metadata": {
      "needs_background": "light"
     },
     "output_type": "display_data"
    }
   ],
   "source": [
    "u=np.arange(8)/4\n",
    "plt.figure(figsize=(10,10))\n",
    "plt.plot(u,egss,color='red',linewidth=3,label='exact')\n",
    "plt.scatter(u, egss, color=\"red\", s=30)\n",
    "\n",
    "plt.plot(u, e_hf, color=\"blue\", linewidth=3,label='HF')\n",
    "plt.scatter(u, e_hf, color=\"blue\", s=30)\n",
    "plt.tick_params(which='major',labelsize=40)\n",
    "plt.xlabel(r'$U [J]$',fontsize=40)\n",
    "plt.ylabel(\"energy\", fontsize=40)\n",
    "plt.legend(fontsize=40)\n",
    "plt.show()"
   ]
  },
  {
   "cell_type": "markdown",
   "metadata": {},
   "source": [
    "# Quantum Chemistry with Qiskit"
   ]
  },
  {
   "cell_type": "code",
   "execution_count": 1,
   "metadata": {},
   "outputs": [],
   "source": [
    "\n",
    "\n",
    "\n",
    "from math import pi\n",
    "\n",
    "import numpy as np\n",
    "import rustworkx as rx\n",
    "from qiskit_nature.second_q.hamiltonians.lattices import (\n",
    "    BoundaryCondition,\n",
    "    HyperCubicLattice,\n",
    "    Lattice,\n",
    "    LatticeDrawStyle,\n",
    "    LineLattice,\n",
    "    SquareLattice,\n",
    "    TriangularLattice,\n",
    ")\n",
    "from qiskit_nature.second_q.hamiltonians import FermiHubbardModel\n",
    "from qiskit_nature.second_q.algorithms import GroundStateEigensolver\n",
    "from qiskit_nature.second_q.mappers import JordanWignerMapper,ParityMapper\n",
    "from qiskit_algorithms import NumPyMinimumEigensolver\n",
    "from qiskit_nature.second_q.problems import LatticeModelProblem\n"
   ]
  },
  {
   "cell_type": "markdown",
   "metadata": {},
   "source": [
    "#### Create a Fermi-Hubbard Hamiltonian"
   ]
  },
  {
   "cell_type": "markdown",
   "metadata": {},
   "source": [
    "Lattice"
   ]
  },
  {
   "cell_type": "code",
   "execution_count": 2,
   "metadata": {},
   "outputs": [
    {
     "data": {
      "image/png": "[encoded data removed]",
      "text/plain": [
       "<Figure size 640x480 with 1 Axes>"
      ]
     },
     "metadata": {},
     "output_type": "display_data"
    }
   ],
   "source": [
    "sites=3\n",
    "boundary_condition = (\n",
    "    BoundaryCondition.PERIODIC,\n",
    ")  # open in the x-direction, periodic in the y-direction\n",
    "#square_lattice = SquareLattice(rows=rows, cols=cols, boundary_condition=boundary_condition)\n",
    "line_lattice=LineLattice(num_nodes=sites,boundary_condition=boundary_condition)\n",
    "\n",
    "line_lattice.draw()"
   ]
  },
  {
   "cell_type": "markdown",
   "metadata": {},
   "source": [
    "Hamiltonian\n"
   ]
  },
  {
   "cell_type": "code",
   "execution_count": 6,
   "metadata": {},
   "outputs": [
    {
     "ename": "AttributeError",
     "evalue": "'FermionicOp' object has no attribute 'to_matrix'",
     "output_type": "error",
     "traceback": [
      "\u001b[0;31m---------------------------------------------------------------------------\u001b[0m",
      "\u001b[0;31mAttributeError\u001b[0m                            Traceback (most recent call last)",
      "Cell \u001b[0;32mIn[6], line 16\u001b[0m\n\u001b[1;32m      7\u001b[0m fhm \u001b[38;5;241m=\u001b[39m FermiHubbardModel(\n\u001b[1;32m      8\u001b[0m     line_lattice\u001b[38;5;241m.\u001b[39muniform_parameters(\n\u001b[1;32m      9\u001b[0m         uniform_interaction\u001b[38;5;241m=\u001b[39mt,\n\u001b[0;32m   (...)\u001b[0m\n\u001b[1;32m     12\u001b[0m     onsite_interaction\u001b[38;5;241m=\u001b[39m\u001b[38;5;241m0\u001b[39m,\n\u001b[1;32m     13\u001b[0m )\n\u001b[1;32m     15\u001b[0m ham \u001b[38;5;241m=\u001b[39m fhm\u001b[38;5;241m.\u001b[39msecond_q_op()\n\u001b[0;32m---> 16\u001b[0m \u001b[38;5;28mprint\u001b[39m(\u001b[43mham\u001b[49m\u001b[38;5;241;43m.\u001b[39;49m\u001b[43mto_matrix\u001b[49m)\n\u001b[1;32m     17\u001b[0m lmp \u001b[38;5;241m=\u001b[39m LatticeModelProblem(fhm)\n",
      "\u001b[0;31mAttributeError\u001b[0m: 'FermionicOp' object has no attribute 'to_matrix'"
     ]
    }
   ],
   "source": [
    "\n",
    "t = -1.0  # the interaction parameter\n",
    "v = 0.0  # the onsite potential\n",
    "u = 5.0  # the interaction parameter U\n",
    "n_up=2\n",
    "n_down=2\n",
    "\n",
    "fhm = FermiHubbardModel(\n",
    "    line_lattice.uniform_parameters(\n",
    "        uniform_interaction=t,\n",
    "        uniform_onsite_potential=v,\n",
    "    ),\n",
    "    onsite_interaction=0,\n",
    ")\n",
    "\n",
    "ham = fhm.second_q_op()\n",
    "print(ham.to_matrix)\n",
    "lmp = LatticeModelProblem(fhm)\n",
    "\n"
   ]
  },
  {
   "cell_type": "markdown",
   "metadata": {},
   "source": [
    "#### Get the GS fixing the number of particles"
   ]
  },
  {
   "cell_type": "code",
   "execution_count": 4,
   "metadata": {},
   "outputs": [
    {
     "name": "stdout",
     "output_type": "stream",
     "text": [
      "SparsePauliOp(['IIXX', 'IIYY', 'ZXZI', 'IYII', 'ZXXX', 'IYXY', 'IZXZ', 'IIYI', 'XXII', 'YYII', 'XXXZ', 'YXYI'],\n",
      "              coeffs=[-0.5+0.j,  0.5+0.j, -0.5+0.j,  0.5+0.j, -0.5+0.j, -0.5+0.j, -0.5+0.j,\n",
      "  0.5+0.j,  0.5+0.j,  0.5+0.j,  0.5+0.j, -0.5+0.j])\n",
      "{   'aux_operators_evaluated': None,\n",
      "    'eigenstate': Statevector([-0.28810567-0.00998194j,  0.07200559-0.05119526j,\n",
      "             -0.07384583+0.04496393j, -0.34481116+0.02599262j,\n",
      "             -0.42226967+0.25150145j, -0.06209862-0.03458295j,\n",
      "              0.07350639+0.07792364j, -0.12703801+0.22993249j,\n",
      "              0.34405116-0.18415676j,  0.02092468+0.09510427j,\n",
      "              0.24457032-0.18854034j,  0.12237185-0.18005488j,\n",
      "             -0.1714768 +0.02282804j, -0.226052  +0.02648263j,\n",
      "              0.13578329-0.04345119j, -0.21164062+0.0598099j ],\n",
      "            dims=(2, 2, 2, 2)),\n",
      "    'eigenvalue': -3.043622485320761}\n"
     ]
    }
   ],
   "source": [
    "mapper = ParityMapper(num_particles=(1,0))\n",
    "#mapper=JordanWignerMapper()\n",
    "qubit_hamiltonian = mapper.map(ham)\n",
    "print(qubit_hamiltonian)\n",
    "\n",
    "solver=NumPyMinimumEigensolver()\n",
    "\n",
    "res=solver.compute_minimum_eigenvalue(qubit_hamiltonian)\n",
    "print(res)\n"
   ]
  },
  {
   "cell_type": "markdown",
   "metadata": {},
   "source": []
  }
 ],
 "metadata": {
  "kernelspec": {
   "display_name": "dft_env",
   "language": "python",
   "name": "python3"
  },
  "language_info": {
   "codemirror_mode": {
    "name": "ipython",
    "version": 3
   },
   "file_extension": ".py",
   "mimetype": "text/x-python",
   "name": "python",
   "nbconvert_exporter": "python",
   "pygments_lexer": "ipython3",
   "version": "3.12.1"
  }
 },
 "nbformat": 4,
 "nbformat_minor": 2
}
