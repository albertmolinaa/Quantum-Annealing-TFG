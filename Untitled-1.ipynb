{
 "cells": [
  {
   "cell_type": "code",
   "execution_count": 2,
   "metadata": {},
   "outputs": [],
   "source": [
    "from src.hartree_fock_library import HartreeFockEnergy,FitHartreeFock\n",
    "from src.hamiltonian_utils import get_twobody_nuclearshell_model,FermiHubbardHamiltonian,SingleParticleState\n",
    "import numpy as np\n",
    "import torch\n",
    "from typing import Dict,List\n",
    "#from src.qml_models import AdaptVQEFermiHubbard\n",
    "from src.qml_utils.train import Fit\n",
    "from src.qml_utils.utils import configuration\n",
    "from src.qml_models import AdaptVQEFermiHubbard\n",
    "import matplotlib.pyplot as plt"
   ]
  },
  {
   "cell_type": "code",
   "execution_count": 3,
   "metadata": {},
   "outputs": [],
   "source": [
    "class SpinConservation():\n",
    "    \n",
    "    def __init__(self,size:int):\n",
    "        \n",
    "        self.size=size\n",
    "\n",
    "    def spin_conservation(self,idxs:List):\n",
    "\n",
    "        l=len(idxs)\n",
    "\n",
    "        total_initial_spin=0.\n",
    "        for idx in idxs[:l]:\n",
    "            \n",
    "            if idx < self.size:\n",
    "                total_initial_spin+=1\n",
    "                \n",
    "        total_final_spin=0.\n",
    "        for idx in idxs[l:]:\n",
    "            \n",
    "            if idx < self.size:\n",
    "                total_final_spin+=1\n",
    "        \n",
    "        return total_initial_spin==total_final_spin\n",
    "    \n",
    "    def local_interaction(self,idxs:List):\n",
    "        \n",
    "        condition=idxs[0]==idxs[-1] and idxs[1]==idxs[-2] and idxs[0]+self.size==idxs[1]\n",
    "        \n",
    "        return condition"
   ]
  },
  {
   "cell_type": "code",
   "execution_count": 4,
   "metadata": {},
   "outputs": [
    {
     "name": "stdout",
     "output_type": "stream",
     "text": [
      "<itertools.combinations object at 0x7f3c1c56aea0>\n",
      "TWO BODY OPERATORRR=   (0, 0)\t-1.5\n",
      "  (1, 1)\t-0.75\n",
      "  (2, 2)\t-0.75\n",
      "  (3, 3)\t-0.75\n",
      "  (4, 4)\t-0.75\n",
      "  (5, 5)\t-0.75\n",
      "  (6, 6)\t-0.75\n",
      "  (7, 7)\t-0.75\n",
      "  (8, 8)\t-0.75\n",
      "  (15, 15)\t-0.75\n",
      "  (16, 16)\t-1.5\n",
      "  (17, 17)\t-0.75\n",
      "  (18, 18)\t-0.75\n",
      "  (19, 19)\t-0.75\n",
      "  (20, 20)\t-0.75\n",
      "  (24, 24)\t-0.75\n",
      "  (25, 25)\t-0.75\n",
      "  (26, 26)\t-0.75\n",
      "  (30, 30)\t-0.75\n",
      "  (31, 31)\t-0.75\n",
      "  (32, 32)\t-1.5\n",
      "  (33, 33)\t-0.75\n",
      "  (34, 34)\t-0.75\n",
      "  (36, 36)\t-0.75\n",
      "  (39, 39)\t-0.75\n",
      "  :\t:\n",
      "  (186, 186)\t-0.75\n",
      "  (187, 187)\t-0.75\n",
      "  (189, 189)\t-0.75\n",
      "  (190, 190)\t-0.75\n",
      "  (192, 192)\t-1.5\n",
      "  (193, 193)\t-0.75\n",
      "  (194, 194)\t-0.75\n",
      "  (197, 197)\t-0.75\n",
      "  (199, 199)\t-0.75\n",
      "  (201, 201)\t-0.75\n",
      "  (203, 203)\t-0.75\n",
      "  (204, 204)\t-0.75\n",
      "  (206, 206)\t-0.75\n",
      "  (207, 207)\t-0.75\n",
      "  (208, 208)\t-1.5\n",
      "  (209, 209)\t-0.75\n",
      "  (213, 213)\t-0.75\n",
      "  (214, 214)\t-0.75\n",
      "  (217, 217)\t-0.75\n",
      "  (218, 218)\t-0.75\n",
      "  (220, 220)\t-0.75\n",
      "  (221, 221)\t-0.75\n",
      "  (222, 222)\t-0.75\n",
      "  (223, 223)\t-0.75\n",
      "  (224, 224)\t-1.5\n",
      "[-6.68826959]\n"
     ]
    }
   ],
   "source": [
    "size_a=6\n",
    "FHHamiltonian=FermiHubbardHamiltonian(size_a=size_a,size_b=size_a,nparticles_a=2,nparticles_b=2)\n",
    "\n",
    "u=3.\n",
    "t=1.\n",
    "v_ext=np.zeros(size_a)\n",
    "\n",
    "# define the local onsite potential\n",
    "twobody_matrix:Dict={}\n",
    "for i in range(size_a):\n",
    "    twobody_matrix[(i,i+size_a,i+size_a,i)]=u\n",
    "\n",
    "kinetic_term:Dict={}\n",
    "for i in range(size_a):\n",
    "    kinetic_term[(i,(i+1) % size_a)]=t\n",
    "    kinetic_term[(size_a +i,size_a+(i+1) % size_a)]=t\n",
    "\n",
    "\n",
    "#%%\n",
    "\n",
    "FHHamiltonian.get_external_potential(external_potential=np.append(v_ext,v_ext))\n",
    "FHHamiltonian.get_twobody_interaction(twobody_dict=twobody_matrix)\n",
    "FHHamiltonian.get_kinetic_operator(adj_matrix=kinetic_term)\n",
    "FHHamiltonian.get_hamiltonain()\n",
    "\n",
    "\n",
    "print('TWO BODY OPERATORRR=',FHHamiltonian.twobody_operator)\n",
    "\n",
    "egs,psi0=FHHamiltonian.get_spectrum(n_states=1)\n",
    "\n",
    "print(egs)"
   ]
  },
  {
   "cell_type": "code",
   "execution_count": 5,
   "metadata": {},
   "outputs": [
    {
     "name": "stderr",
     "output_type": "stream",
     "text": [
      "/home/ecosta/Quantum-Machine-Learning-on-Fermions/src/hartree_fock_library.py:41: UserWarning: Creating a tensor from a list of numpy.ndarrays is extremely slow. Please consider converting the list to a single numpy.ndarray with numpy.array() before converting to a tensor. (Triggered internally at  /opt/conda/conda-bld/pytorch_1639180487213/work/torch/csrc/utils/tensor_new.cpp:201.)\n",
      "  indices = torch.tensor([hamiltonian.row, hamiltonian.col], dtype=torch.long)\n",
      "  0%|          | 0/1000 [00:00<?, ?it/s]"
     ]
    },
    {
     "name": "stderr",
     "output_type": "stream",
     "text": [
      "/home/ecosta/Quantum-Machine-Learning-on-Fermions/src/hartree_fock_library.py:68: UserWarning: Casting complex values to real discards the imaginary part (Triggered internally at  /opt/conda/conda-bld/pytorch_1639180487213/work/aten/src/ATen/native/Copy.cpp:244.)\n",
      "  hf_psi[i]=value_a*value_b\n",
      "energy=-6.626687: 100%|██████████| 1000/1000 [00:56<00:00, 17.61it/s]"
     ]
    },
    {
     "name": "stdout",
     "output_type": "stream",
     "text": [
      "-6.626684752662028\n"
     ]
    },
    {
     "name": "stderr",
     "output_type": "stream",
     "text": [
      "\n"
     ]
    }
   ],
   "source": [
    "HFE=HartreeFockEnergy(nparticles=4,size=2*size_a,basis=FHHamiltonian.basis)\n",
    "\n",
    "HFE.get_hamiltonian(hamiltonian=FHHamiltonian.hamiltonian)\n",
    "\n",
    "# %% define the fit class\n",
    "\n",
    "HFFit=FitHartreeFock(learning_rate=0.1,epochs=1000)\n",
    "\n",
    "history_hf=HFFit.run(HFE)\n",
    "# %%\n",
    "psi_hf=HFE.get_psi().detach().numpy()\n",
    "\n",
    "print(psi_hf.conjugate().transpose().dot(FHHamiltonian.hamiltonian.dot(psi_hf)))"
   ]
  },
  {
   "cell_type": "code",
   "execution_count": 12,
   "metadata": {},
   "outputs": [
    {
     "data": {
      "image/png": "[encoded data removed]",
      "text/plain": [
       "<Figure size 720x720 with 1 Axes>"
      ]
     },
     "metadata": {
      "needs_background": "light"
     },
     "output_type": "display_data"
    }
   ],
   "source": [
    "rel_error=[np.abs((e_min-egs)/egs) for e_min in history_hf]\n",
    "\n",
    "plt.figure(figsize=(10,10))\n",
    "plt.plot(rel_error,linewidth=5)\n",
    "plt.xlabel('epochs',fontsize=40)\n",
    "plt.semilogy()\n",
    "plt.ylabel(r'$\\Delta_r e$',fontsize=40)\n",
    "plt.tick_params(axis='both', which='major', labelsize=40)\n",
    "plt.show()"
   ]
  },
  {
   "cell_type": "code",
   "execution_count": 13,
   "metadata": {},
   "outputs": [
    {
     "data": {
      "image/png": "[encoded data removed]",
      "text/plain": [
       "<Figure size 432x288 with 2 Axes>"
      ]
     },
     "metadata": {
      "needs_background": "light"
     },
     "output_type": "display_data"
    },
    {
     "data": {
      "image/png": "[encoded data removed]",
      "text/plain": [
       "<Figure size 432x288 with 2 Axes>"
      ]
     },
     "metadata": {
      "needs_background": "light"
     },
     "output_type": "display_data"
    }
   ],
   "source": [
    "mutual_info=FHHamiltonian.mutual_info(psi_hf)\n",
    "\n",
    "\n",
    "plt.imshow(mutual_info)\n",
    "plt.colorbar()\n",
    "\n",
    "plt.show()\n",
    "\n",
    "mutual_info=FHHamiltonian.mutual_info(psi0)\n",
    "\n",
    "\n",
    "plt.imshow(mutual_info)\n",
    "plt.colorbar()\n",
    "\n",
    "plt.show()"
   ]
  },
  {
   "cell_type": "code",
   "execution_count": 14,
   "metadata": {},
   "outputs": [
    {
     "name": "stdout",
     "output_type": "stream",
     "text": [
      "[0.98343406]\n"
     ]
    }
   ],
   "source": [
    "# FIDELITY\n",
    "\n",
    "print(psi_hf.conjugate().dot(psi0)**2)"
   ]
  },
  {
   "cell_type": "code",
   "execution_count": 16,
   "metadata": {},
   "outputs": [
    {
     "name": "stdout",
     "output_type": "stream",
     "text": [
      "number of operators= 1010\n"
     ]
    },
    {
     "name": "stderr",
     "output_type": "stream",
     "text": [
      "  3%|▎         | 3/100 [00:00<00:04, 23.41it/s]"
     ]
    },
    {
     "name": "stdout",
     "output_type": "stream",
     "text": [
      "Optimization Success= True\n",
      "energy=-6.62780\n",
      "average gradient=0.000000005797856 \n",
      "\n",
      "grad tolerance=0.404408709833022 \n",
      "\n",
      "Optimization Success= True\n",
      "energy=-6.62860\n",
      "average gradient=0.000000000814845 \n",
      "\n",
      "grad tolerance=0.354897144161403 \n",
      "\n",
      "Optimization Success= True\n",
      "energy=-6.62924\n",
      "average gradient=0.000000000579521 \n",
      "\n",
      "grad tolerance=0.304269128887802 \n",
      "\n",
      "Optimization Success= True\n",
      "energy=-6.62969\n",
      "average gradient=0.000000012991637 \n",
      "\n",
      "grad tolerance=0.263684065059432 \n",
      "\n",
      "Optimization Success= True\n",
      "energy=-6.62995\n",
      "average gradient=0.000000001543671 \n",
      "\n",
      "grad tolerance=0.218061867742599 \n",
      "\n"
     ]
    },
    {
     "name": "stderr",
     "output_type": "stream",
     "text": [
      "  6%|▌         | 6/100 [00:00<00:08, 11.35it/s]"
     ]
    },
    {
     "name": "stdout",
     "output_type": "stream",
     "text": [
      "Optimization Success= True\n",
      "energy=-6.63029\n",
      "average gradient=0.000000001756761 \n",
      "\n",
      "grad tolerance=0.201498456407678 \n",
      "\n",
      "Optimization Success= True\n",
      "energy=-6.63048\n",
      "average gradient=0.000000001804274 \n",
      "\n",
      "grad tolerance=0.163867339053750 \n",
      "\n"
     ]
    },
    {
     "name": "stderr",
     "output_type": "stream",
     "text": [
      "  8%|▊         | 8/100 [00:00<00:11,  7.70it/s]"
     ]
    },
    {
     "name": "stdout",
     "output_type": "stream",
     "text": [
      "Optimization Success= True\n",
      "energy=-6.63054\n",
      "average gradient=0.000000041276330 \n",
      "\n",
      "grad tolerance=0.140211605804524 \n",
      "\n",
      "Optimization Success= True\n",
      "energy=-6.63064\n",
      "average gradient=0.000000034516883 \n",
      "\n",
      "grad tolerance=0.128428768921740 \n",
      "\n"
     ]
    },
    {
     "name": "stderr",
     "output_type": "stream",
     "text": [
      " 10%|█         | 10/100 [00:01<00:16,  5.40it/s]"
     ]
    },
    {
     "name": "stdout",
     "output_type": "stream",
     "text": [
      "Optimization Success= True\n",
      "energy=-6.63069\n",
      "average gradient=0.000000033680613 \n",
      "\n",
      "grad tolerance=0.114657754508540 \n",
      "\n"
     ]
    },
    {
     "name": "stderr",
     "output_type": "stream",
     "text": [
      " 11%|█         | 11/100 [00:01<00:19,  4.46it/s]"
     ]
    },
    {
     "name": "stdout",
     "output_type": "stream",
     "text": [
      "Optimization Success= True\n",
      "energy=-6.63074\n",
      "average gradient=0.000000006389646 \n",
      "\n",
      "grad tolerance=0.098218446016613 \n",
      "\n"
     ]
    },
    {
     "name": "stderr",
     "output_type": "stream",
     "text": [
      " 12%|█▏        | 12/100 [00:02<00:22,  3.86it/s]"
     ]
    },
    {
     "name": "stdout",
     "output_type": "stream",
     "text": [
      "Optimization Success= True\n",
      "energy=-6.63080\n",
      "average gradient=0.000000032525214 \n",
      "\n",
      "grad tolerance=0.091080846758190 \n",
      "\n"
     ]
    },
    {
     "name": "stderr",
     "output_type": "stream",
     "text": [
      " 13%|█▎        | 13/100 [00:02<00:27,  3.18it/s]"
     ]
    },
    {
     "name": "stdout",
     "output_type": "stream",
     "text": [
      "Optimization Success= True\n",
      "energy=-6.63085\n",
      "average gradient=0.000000019159453 \n",
      "\n",
      "grad tolerance=0.075667158104103 \n",
      "\n"
     ]
    },
    {
     "name": "stderr",
     "output_type": "stream",
     "text": [
      " 14%|█▍        | 14/100 [00:03<00:31,  2.72it/s]"
     ]
    },
    {
     "name": "stdout",
     "output_type": "stream",
     "text": [
      "Optimization Success= True\n",
      "energy=-6.63088\n",
      "average gradient=0.000000027761950 \n",
      "\n",
      "grad tolerance=0.056293736508573 \n",
      "\n"
     ]
    },
    {
     "name": "stderr",
     "output_type": "stream",
     "text": [
      " 15%|█▌        | 15/100 [00:03<00:35,  2.38it/s]"
     ]
    },
    {
     "name": "stdout",
     "output_type": "stream",
     "text": [
      "Optimization Success= True\n",
      "energy=-6.63090\n",
      "average gradient=0.000000023112839 \n",
      "\n",
      "grad tolerance=0.039776037077925 \n",
      "\n"
     ]
    },
    {
     "name": "stderr",
     "output_type": "stream",
     "text": [
      " 16%|█▌        | 16/100 [00:04<00:41,  2.04it/s]"
     ]
    },
    {
     "name": "stdout",
     "output_type": "stream",
     "text": [
      "Optimization Success= True\n",
      "energy=-6.63091\n",
      "average gradient=0.000000004818769 \n",
      "\n",
      "grad tolerance=0.033565038167670 \n",
      "\n"
     ]
    },
    {
     "name": "stderr",
     "output_type": "stream",
     "text": [
      " 17%|█▋        | 17/100 [00:05<00:45,  1.84it/s]"
     ]
    },
    {
     "name": "stdout",
     "output_type": "stream",
     "text": [
      "Optimization Success= True\n",
      "energy=-6.63092\n",
      "average gradient=0.000000038797898 \n",
      "\n",
      "grad tolerance=0.026994850280649 \n",
      "\n"
     ]
    },
    {
     "name": "stderr",
     "output_type": "stream",
     "text": [
      " 18%|█▊        | 18/100 [00:05<00:49,  1.65it/s]"
     ]
    },
    {
     "name": "stdout",
     "output_type": "stream",
     "text": [
      "Optimization Success= True\n",
      "energy=-6.63093\n",
      "average gradient=0.000000017643949 \n",
      "\n",
      "grad tolerance=0.022337105050468 \n",
      "\n"
     ]
    },
    {
     "name": "stderr",
     "output_type": "stream",
     "text": [
      " 19%|█▉        | 19/100 [00:06<00:53,  1.51it/s]"
     ]
    },
    {
     "name": "stdout",
     "output_type": "stream",
     "text": [
      "Optimization Success= True\n",
      "energy=-6.63093\n",
      "average gradient=0.000000026872422 \n",
      "\n",
      "grad tolerance=0.019470378883191 \n",
      "\n"
     ]
    },
    {
     "name": "stderr",
     "output_type": "stream",
     "text": [
      " 20%|██        | 20/100 [00:07<00:58,  1.37it/s]"
     ]
    },
    {
     "name": "stdout",
     "output_type": "stream",
     "text": [
      "Optimization Success= True\n",
      "energy=-6.63094\n",
      "average gradient=0.000000015529219 \n",
      "\n",
      "grad tolerance=0.016872932402340 \n",
      "\n"
     ]
    },
    {
     "name": "stderr",
     "output_type": "stream",
     "text": [
      " 21%|██        | 21/100 [00:08<01:02,  1.26it/s]"
     ]
    },
    {
     "name": "stdout",
     "output_type": "stream",
     "text": [
      "Optimization Success= True\n",
      "energy=-6.63094\n",
      "average gradient=0.000000019334613 \n",
      "\n",
      "grad tolerance=0.007579928404845 \n",
      "\n"
     ]
    },
    {
     "name": "stderr",
     "output_type": "stream",
     "text": [
      " 22%|██▏       | 22/100 [00:09<01:07,  1.15it/s]"
     ]
    },
    {
     "name": "stdout",
     "output_type": "stream",
     "text": [
      "Optimization Success= True\n",
      "energy=-6.63094\n",
      "average gradient=0.000000029688271 \n",
      "\n",
      "grad tolerance=0.005493635137595 \n",
      "\n"
     ]
    },
    {
     "name": "stderr",
     "output_type": "stream",
     "text": [
      " 23%|██▎       | 23/100 [00:10<01:16,  1.01it/s]"
     ]
    },
    {
     "name": "stdout",
     "output_type": "stream",
     "text": [
      "Optimization Success= True\n",
      "energy=-6.63094\n",
      "average gradient=0.000000013675210 \n",
      "\n",
      "grad tolerance=0.002827556369997 \n",
      "\n"
     ]
    },
    {
     "name": "stderr",
     "output_type": "stream",
     "text": [
      " 24%|██▍       | 24/100 [00:12<01:21,  1.07s/it]"
     ]
    },
    {
     "name": "stdout",
     "output_type": "stream",
     "text": [
      "Optimization Success= True\n",
      "energy=-6.63094\n",
      "average gradient=0.000000029446780 \n",
      "\n",
      "grad tolerance=0.001152267346207 \n",
      "\n"
     ]
    },
    {
     "name": "stderr",
     "output_type": "stream",
     "text": [
      " 25%|██▌       | 25/100 [00:13<01:24,  1.12s/it]"
     ]
    },
    {
     "name": "stdout",
     "output_type": "stream",
     "text": [
      "Optimization Success= True\n",
      "energy=-6.63094\n",
      "average gradient=0.000000013552759 \n",
      "\n",
      "grad tolerance=0.000468710238193 \n",
      "\n"
     ]
    },
    {
     "name": "stderr",
     "output_type": "stream",
     "text": [
      " 26%|██▌       | 26/100 [00:14<01:26,  1.17s/it]"
     ]
    },
    {
     "name": "stdout",
     "output_type": "stream",
     "text": [
      "Optimization Success= True\n",
      "energy=-6.63094\n",
      "average gradient=0.000000027486989 \n",
      "\n",
      "grad tolerance=0.000284641077621 \n",
      "\n"
     ]
    },
    {
     "name": "stderr",
     "output_type": "stream",
     "text": [
      " 27%|██▋       | 27/100 [00:15<01:18,  1.07s/it]"
     ]
    },
    {
     "name": "stdout",
     "output_type": "stream",
     "text": [
      "Optimization Success= True\n",
      "energy=-6.63094\n",
      "average gradient=0.000000021511288 \n",
      "\n",
      "grad tolerance=0.000011593923940 \n",
      "\n"
     ]
    },
    {
     "name": "stderr",
     "output_type": "stream",
     "text": [
      " 29%|██▉       | 29/100 [00:16<00:46,  1.54it/s]"
     ]
    },
    {
     "name": "stdout",
     "output_type": "stream",
     "text": [
      "Optimization Success= True\n",
      "energy=-6.63094\n",
      "average gradient=0.000000021401770 \n",
      "\n",
      "grad tolerance=0.000001004435252 \n",
      "\n",
      "Optimization Success= True\n",
      "energy=-6.63094\n",
      "average gradient=0.000000023129408 \n",
      "\n",
      "grad tolerance=0.000000631158201 \n",
      "\n"
     ]
    },
    {
     "name": "stderr",
     "output_type": "stream",
     "text": [
      " 31%|███       | 31/100 [00:16<00:28,  2.42it/s]"
     ]
    },
    {
     "name": "stdout",
     "output_type": "stream",
     "text": [
      "Optimization Success= True\n",
      "energy=-6.63094\n",
      "average gradient=0.000000024741870 \n",
      "\n",
      "grad tolerance=0.000000631158201 \n",
      "\n",
      "Optimization Success= True\n",
      "energy=-6.63094\n",
      "average gradient=0.000000026250303 \n",
      "\n",
      "grad tolerance=0.000000631158201 \n",
      "\n"
     ]
    },
    {
     "name": "stderr",
     "output_type": "stream",
     "text": [
      " 33%|███▎      | 33/100 [00:16<00:20,  3.31it/s]"
     ]
    },
    {
     "name": "stdout",
     "output_type": "stream",
     "text": [
      "Optimization Success= True\n",
      "energy=-6.63094\n",
      "average gradient=0.000000027664459 \n",
      "\n",
      "grad tolerance=0.000000631158201 \n",
      "\n",
      "Optimization Success= True\n",
      "energy=-6.63094\n",
      "average gradient=0.000000028992908 \n",
      "\n",
      "grad tolerance=0.000000631158201 \n",
      "\n"
     ]
    },
    {
     "name": "stderr",
     "output_type": "stream",
     "text": [
      " 34%|███▍      | 34/100 [00:17<00:17,  3.69it/s]"
     ]
    },
    {
     "name": "stdout",
     "output_type": "stream",
     "text": [
      "Optimization Success= True\n",
      "energy=-6.63094\n",
      "average gradient=0.000000030243213 \n",
      "\n",
      "grad tolerance=0.000000631158201 \n",
      "\n"
     ]
    },
    {
     "name": "stderr",
     "output_type": "stream",
     "text": [
      " 35%|███▌      | 35/100 [00:17<00:16,  3.99it/s]"
     ]
    },
    {
     "name": "stdout",
     "output_type": "stream",
     "text": [
      "Optimization Success= True\n",
      "energy=-6.63094\n",
      "average gradient=0.000000031422072 \n",
      "\n",
      "grad tolerance=0.000000631158201 \n",
      "\n"
     ]
    },
    {
     "name": "stderr",
     "output_type": "stream",
     "text": [
      " 36%|███▌      | 36/100 [00:17<00:15,  4.21it/s]"
     ]
    },
    {
     "name": "stdout",
     "output_type": "stream",
     "text": [
      "Optimization Success= True\n",
      "energy=-6.63094\n",
      "average gradient=0.000000032535439 \n",
      "\n",
      "grad tolerance=0.000000631158201 \n",
      "\n"
     ]
    },
    {
     "name": "stderr",
     "output_type": "stream",
     "text": [
      " 37%|███▋      | 37/100 [00:17<00:14,  4.35it/s]"
     ]
    },
    {
     "name": "stdout",
     "output_type": "stream",
     "text": [
      "Optimization Success= True\n",
      "energy=-6.63094\n",
      "average gradient=0.000000033588624 \n",
      "\n",
      "grad tolerance=0.000000631158201 \n",
      "\n"
     ]
    },
    {
     "name": "stderr",
     "output_type": "stream",
     "text": [
      " 38%|███▊      | 38/100 [00:17<00:13,  4.44it/s]"
     ]
    },
    {
     "name": "stdout",
     "output_type": "stream",
     "text": [
      "Optimization Success= True\n",
      "energy=-6.63094\n",
      "average gradient=0.000000034586378 \n",
      "\n",
      "grad tolerance=0.000000631158201 \n",
      "\n"
     ]
    },
    {
     "name": "stderr",
     "output_type": "stream",
     "text": [
      " 39%|███▉      | 39/100 [00:18<00:13,  4.49it/s]"
     ]
    },
    {
     "name": "stdout",
     "output_type": "stream",
     "text": [
      "Optimization Success= True\n",
      "energy=-6.63094\n",
      "average gradient=0.000000035532965 \n",
      "\n",
      "grad tolerance=0.000000631158201 \n",
      "\n"
     ]
    },
    {
     "name": "stderr",
     "output_type": "stream",
     "text": [
      " 40%|████      | 40/100 [00:18<00:13,  4.49it/s]"
     ]
    },
    {
     "name": "stdout",
     "output_type": "stream",
     "text": [
      "Optimization Success= True\n",
      "energy=-6.63094\n",
      "average gradient=0.000000036432223 \n",
      "\n",
      "grad tolerance=0.000000631158201 \n",
      "\n"
     ]
    },
    {
     "name": "stderr",
     "output_type": "stream",
     "text": [
      " 41%|████      | 41/100 [00:18<00:13,  4.45it/s]"
     ]
    },
    {
     "name": "stdout",
     "output_type": "stream",
     "text": [
      "Optimization Success= True\n",
      "energy=-6.63094\n",
      "average gradient=0.000000037287615 \n",
      "\n",
      "grad tolerance=0.000000631158201 \n",
      "\n"
     ]
    },
    {
     "name": "stderr",
     "output_type": "stream",
     "text": [
      " 42%|████▏     | 42/100 [00:18<00:13,  4.39it/s]"
     ]
    },
    {
     "name": "stdout",
     "output_type": "stream",
     "text": [
      "Optimization Success= True\n",
      "energy=-6.63094\n",
      "average gradient=0.000000038102274 \n",
      "\n",
      "grad tolerance=0.000000631158201 \n",
      "\n"
     ]
    },
    {
     "name": "stderr",
     "output_type": "stream",
     "text": [
      " 43%|████▎     | 43/100 [00:18<00:13,  4.36it/s]"
     ]
    },
    {
     "name": "stdout",
     "output_type": "stream",
     "text": [
      "Optimization Success= True\n",
      "energy=-6.63094\n",
      "average gradient=0.000000038879041 \n",
      "\n",
      "grad tolerance=0.000000631158201 \n",
      "\n"
     ]
    },
    {
     "name": "stderr",
     "output_type": "stream",
     "text": [
      " 44%|████▍     | 44/100 [00:19<00:13,  4.30it/s]"
     ]
    },
    {
     "name": "stdout",
     "output_type": "stream",
     "text": [
      "Optimization Success= True\n",
      "energy=-6.63094\n",
      "average gradient=0.000000039620501 \n",
      "\n",
      "grad tolerance=0.000000631158201 \n",
      "\n"
     ]
    },
    {
     "name": "stderr",
     "output_type": "stream",
     "text": [
      " 45%|████▌     | 45/100 [00:19<00:12,  4.24it/s]"
     ]
    },
    {
     "name": "stdout",
     "output_type": "stream",
     "text": [
      "Optimization Success= True\n",
      "energy=-6.63094\n",
      "average gradient=0.000000040329008 \n",
      "\n",
      "grad tolerance=0.000000631158201 \n",
      "\n"
     ]
    },
    {
     "name": "stderr",
     "output_type": "stream",
     "text": [
      " 46%|████▌     | 46/100 [00:19<00:12,  4.18it/s]"
     ]
    },
    {
     "name": "stdout",
     "output_type": "stream",
     "text": [
      "Optimization Success= True\n",
      "energy=-6.63094\n",
      "average gradient=0.000000041006709 \n",
      "\n",
      "grad tolerance=0.000000631158201 \n",
      "\n"
     ]
    },
    {
     "name": "stderr",
     "output_type": "stream",
     "text": [
      " 47%|████▋     | 47/100 [00:19<00:12,  4.09it/s]"
     ]
    },
    {
     "name": "stdout",
     "output_type": "stream",
     "text": [
      "Optimization Success= True\n",
      "energy=-6.63094\n",
      "average gradient=0.000000041655572 \n",
      "\n",
      "grad tolerance=0.000000631158201 \n",
      "\n"
     ]
    },
    {
     "name": "stderr",
     "output_type": "stream",
     "text": [
      " 48%|████▊     | 48/100 [00:20<00:12,  4.03it/s]"
     ]
    },
    {
     "name": "stdout",
     "output_type": "stream",
     "text": [
      "Optimization Success= True\n",
      "energy=-6.63094\n",
      "average gradient=0.000000042277400 \n",
      "\n",
      "grad tolerance=0.000000631158201 \n",
      "\n"
     ]
    },
    {
     "name": "stderr",
     "output_type": "stream",
     "text": [
      " 49%|████▉     | 49/100 [00:20<00:12,  3.98it/s]"
     ]
    },
    {
     "name": "stdout",
     "output_type": "stream",
     "text": [
      "Optimization Success= True\n",
      "energy=-6.63094\n",
      "average gradient=0.000000042873846 \n",
      "\n",
      "grad tolerance=0.000000631158201 \n",
      "\n"
     ]
    },
    {
     "name": "stderr",
     "output_type": "stream",
     "text": [
      " 50%|█████     | 50/100 [00:20<00:12,  3.93it/s]"
     ]
    },
    {
     "name": "stdout",
     "output_type": "stream",
     "text": [
      "Optimization Success= True\n",
      "energy=-6.63094\n",
      "average gradient=0.000000043446435 \n",
      "\n",
      "grad tolerance=0.000000631158201 \n",
      "\n"
     ]
    },
    {
     "name": "stderr",
     "output_type": "stream",
     "text": [
      " 51%|█████     | 51/100 [00:21<00:12,  3.87it/s]"
     ]
    },
    {
     "name": "stdout",
     "output_type": "stream",
     "text": [
      "Optimization Success= True\n",
      "energy=-6.63094\n",
      "average gradient=0.000000043996569 \n",
      "\n",
      "grad tolerance=0.000000631158201 \n",
      "\n"
     ]
    },
    {
     "name": "stderr",
     "output_type": "stream",
     "text": [
      " 52%|█████▏    | 52/100 [00:21<00:12,  3.80it/s]"
     ]
    },
    {
     "name": "stdout",
     "output_type": "stream",
     "text": [
      "Optimization Success= True\n",
      "energy=-6.63094\n",
      "average gradient=0.000000044525545 \n",
      "\n",
      "grad tolerance=0.000000631158201 \n",
      "\n"
     ]
    },
    {
     "name": "stderr",
     "output_type": "stream",
     "text": [
      " 53%|█████▎    | 53/100 [00:21<00:12,  3.76it/s]"
     ]
    },
    {
     "name": "stdout",
     "output_type": "stream",
     "text": [
      "Optimization Success= True\n",
      "energy=-6.63094\n",
      "average gradient=0.000000045034558 \n",
      "\n",
      "grad tolerance=0.000000631158201 \n",
      "\n"
     ]
    },
    {
     "name": "stderr",
     "output_type": "stream",
     "text": [
      " 54%|█████▍    | 54/100 [00:21<00:12,  3.69it/s]"
     ]
    },
    {
     "name": "stdout",
     "output_type": "stream",
     "text": [
      "Optimization Success= True\n",
      "energy=-6.63094\n",
      "average gradient=0.000000045524720 \n",
      "\n",
      "grad tolerance=0.000000631158201 \n",
      "\n"
     ]
    },
    {
     "name": "stderr",
     "output_type": "stream",
     "text": [
      " 55%|█████▌    | 55/100 [00:22<00:12,  3.66it/s]"
     ]
    },
    {
     "name": "stdout",
     "output_type": "stream",
     "text": [
      "Optimization Success= True\n",
      "energy=-6.63094\n",
      "average gradient=0.000000045997057 \n",
      "\n",
      "grad tolerance=0.000000631158201 \n",
      "\n"
     ]
    },
    {
     "name": "stderr",
     "output_type": "stream",
     "text": [
      " 56%|█████▌    | 56/100 [00:22<00:12,  3.63it/s]"
     ]
    },
    {
     "name": "stdout",
     "output_type": "stream",
     "text": [
      "Optimization Success= True\n",
      "energy=-6.63094\n",
      "average gradient=0.000000046452526 \n",
      "\n",
      "grad tolerance=0.000000631158201 \n",
      "\n"
     ]
    },
    {
     "name": "stderr",
     "output_type": "stream",
     "text": [
      " 57%|█████▋    | 57/100 [00:22<00:11,  3.60it/s]"
     ]
    },
    {
     "name": "stdout",
     "output_type": "stream",
     "text": [
      "Optimization Success= True\n",
      "energy=-6.63094\n",
      "average gradient=0.000000046892013 \n",
      "\n",
      "grad tolerance=0.000000631158201 \n",
      "\n"
     ]
    },
    {
     "name": "stderr",
     "output_type": "stream",
     "text": [
      " 58%|█████▊    | 58/100 [00:22<00:11,  3.56it/s]"
     ]
    },
    {
     "name": "stdout",
     "output_type": "stream",
     "text": [
      "Optimization Success= True\n",
      "energy=-6.63094\n",
      "average gradient=0.000000047316345 \n",
      "\n",
      "grad tolerance=0.000000631158201 \n",
      "\n"
     ]
    },
    {
     "name": "stderr",
     "output_type": "stream",
     "text": [
      " 59%|█████▉    | 59/100 [00:23<00:11,  3.52it/s]"
     ]
    },
    {
     "name": "stdout",
     "output_type": "stream",
     "text": [
      "Optimization Success= True\n",
      "energy=-6.63094\n",
      "average gradient=0.000000047726293 \n",
      "\n",
      "grad tolerance=0.000000631158201 \n",
      "\n"
     ]
    },
    {
     "name": "stderr",
     "output_type": "stream",
     "text": [
      " 60%|██████    | 60/100 [00:23<00:11,  3.48it/s]"
     ]
    },
    {
     "name": "stdout",
     "output_type": "stream",
     "text": [
      "Optimization Success= True\n",
      "energy=-6.63094\n",
      "average gradient=0.000000048122576 \n",
      "\n",
      "grad tolerance=0.000000631158201 \n",
      "\n"
     ]
    },
    {
     "name": "stderr",
     "output_type": "stream",
     "text": [
      " 61%|██████    | 61/100 [00:23<00:11,  3.44it/s]"
     ]
    },
    {
     "name": "stdout",
     "output_type": "stream",
     "text": [
      "Optimization Success= True\n",
      "energy=-6.63094\n",
      "average gradient=0.000000048505866 \n",
      "\n",
      "grad tolerance=0.000000631158201 \n",
      "\n"
     ]
    },
    {
     "name": "stderr",
     "output_type": "stream",
     "text": [
      " 62%|██████▏   | 62/100 [00:24<00:11,  3.39it/s]"
     ]
    },
    {
     "name": "stdout",
     "output_type": "stream",
     "text": [
      "Optimization Success= True\n",
      "energy=-6.63094\n",
      "average gradient=0.000000048876793 \n",
      "\n",
      "grad tolerance=0.000000631158201 \n",
      "\n"
     ]
    },
    {
     "name": "stderr",
     "output_type": "stream",
     "text": [
      " 63%|██████▎   | 63/100 [00:24<00:11,  3.34it/s]"
     ]
    },
    {
     "name": "stdout",
     "output_type": "stream",
     "text": [
      "Optimization Success= True\n",
      "energy=-6.63094\n",
      "average gradient=0.000000049235943 \n",
      "\n",
      "grad tolerance=0.000000631158201 \n",
      "\n"
     ]
    },
    {
     "name": "stderr",
     "output_type": "stream",
     "text": [
      " 64%|██████▍   | 64/100 [00:24<00:10,  3.30it/s]"
     ]
    },
    {
     "name": "stdout",
     "output_type": "stream",
     "text": [
      "Optimization Success= True\n",
      "energy=-6.63094\n",
      "average gradient=0.000000049583870 \n",
      "\n",
      "grad tolerance=0.000000631158201 \n",
      "\n"
     ]
    },
    {
     "name": "stderr",
     "output_type": "stream",
     "text": [
      " 65%|██████▌   | 65/100 [00:25<00:10,  3.27it/s]"
     ]
    },
    {
     "name": "stdout",
     "output_type": "stream",
     "text": [
      "Optimization Success= True\n",
      "energy=-6.63094\n",
      "average gradient=0.000000049921092 \n",
      "\n",
      "grad tolerance=0.000000631158201 \n",
      "\n"
     ]
    },
    {
     "name": "stderr",
     "output_type": "stream",
     "text": [
      " 66%|██████▌   | 66/100 [00:25<00:10,  3.23it/s]"
     ]
    },
    {
     "name": "stdout",
     "output_type": "stream",
     "text": [
      "Optimization Success= True\n",
      "energy=-6.63094\n",
      "average gradient=0.000000050248095 \n",
      "\n",
      "grad tolerance=0.000000631158201 \n",
      "\n"
     ]
    },
    {
     "name": "stderr",
     "output_type": "stream",
     "text": [
      " 67%|██████▋   | 67/100 [00:25<00:10,  3.17it/s]"
     ]
    },
    {
     "name": "stdout",
     "output_type": "stream",
     "text": [
      "Optimization Success= True\n",
      "energy=-6.63094\n",
      "average gradient=0.000000050565337 \n",
      "\n",
      "grad tolerance=0.000000631158201 \n",
      "\n"
     ]
    },
    {
     "name": "stderr",
     "output_type": "stream",
     "text": [
      " 68%|██████▊   | 68/100 [00:26<00:10,  3.12it/s]"
     ]
    },
    {
     "name": "stdout",
     "output_type": "stream",
     "text": [
      "Optimization Success= True\n",
      "energy=-6.63094\n",
      "average gradient=0.000000050873247 \n",
      "\n",
      "grad tolerance=0.000000631158201 \n",
      "\n"
     ]
    },
    {
     "name": "stderr",
     "output_type": "stream",
     "text": [
      " 69%|██████▉   | 69/100 [00:26<00:10,  3.10it/s]"
     ]
    },
    {
     "name": "stdout",
     "output_type": "stream",
     "text": [
      "Optimization Success= True\n",
      "energy=-6.63094\n",
      "average gradient=0.000000051172233 \n",
      "\n",
      "grad tolerance=0.000000631158201 \n",
      "\n"
     ]
    },
    {
     "name": "stderr",
     "output_type": "stream",
     "text": [
      " 70%|███████   | 70/100 [00:26<00:09,  3.07it/s]"
     ]
    },
    {
     "name": "stdout",
     "output_type": "stream",
     "text": [
      "Optimization Success= True\n",
      "energy=-6.63094\n",
      "average gradient=0.000000051462677 \n",
      "\n",
      "grad tolerance=0.000000631158201 \n",
      "\n"
     ]
    },
    {
     "name": "stderr",
     "output_type": "stream",
     "text": [
      " 71%|███████   | 71/100 [00:27<00:09,  3.04it/s]"
     ]
    },
    {
     "name": "stdout",
     "output_type": "stream",
     "text": [
      "Optimization Success= True\n",
      "energy=-6.63094\n",
      "average gradient=0.000000051744939 \n",
      "\n",
      "grad tolerance=0.000000631158201 \n",
      "\n"
     ]
    },
    {
     "name": "stderr",
     "output_type": "stream",
     "text": [
      " 72%|███████▏  | 72/100 [00:27<00:09,  3.01it/s]"
     ]
    },
    {
     "name": "stdout",
     "output_type": "stream",
     "text": [
      "Optimization Success= True\n",
      "energy=-6.63094\n",
      "average gradient=0.000000052019361 \n",
      "\n",
      "grad tolerance=0.000000631158201 \n",
      "\n"
     ]
    },
    {
     "name": "stderr",
     "output_type": "stream",
     "text": [
      " 73%|███████▎  | 73/100 [00:27<00:09,  2.98it/s]"
     ]
    },
    {
     "name": "stdout",
     "output_type": "stream",
     "text": [
      "Optimization Success= True\n",
      "energy=-6.63094\n",
      "average gradient=0.000000052286264 \n",
      "\n",
      "grad tolerance=0.000000631158201 \n",
      "\n"
     ]
    },
    {
     "name": "stderr",
     "output_type": "stream",
     "text": [
      " 74%|███████▍  | 74/100 [00:28<00:08,  2.95it/s]"
     ]
    },
    {
     "name": "stdout",
     "output_type": "stream",
     "text": [
      "Optimization Success= True\n",
      "energy=-6.63094\n",
      "average gradient=0.000000052545953 \n",
      "\n",
      "grad tolerance=0.000000631158201 \n",
      "\n"
     ]
    },
    {
     "name": "stderr",
     "output_type": "stream",
     "text": [
      " 75%|███████▌  | 75/100 [00:28<00:08,  2.92it/s]"
     ]
    },
    {
     "name": "stdout",
     "output_type": "stream",
     "text": [
      "Optimization Success= True\n",
      "energy=-6.63094\n",
      "average gradient=0.000000052798717 \n",
      "\n",
      "grad tolerance=0.000000631158201 \n",
      "\n"
     ]
    },
    {
     "name": "stderr",
     "output_type": "stream",
     "text": [
      " 76%|███████▌  | 76/100 [00:28<00:08,  2.89it/s]"
     ]
    },
    {
     "name": "stdout",
     "output_type": "stream",
     "text": [
      "Optimization Success= True\n",
      "energy=-6.63094\n",
      "average gradient=0.000000053044830 \n",
      "\n",
      "grad tolerance=0.000000631158201 \n",
      "\n"
     ]
    },
    {
     "name": "stderr",
     "output_type": "stream",
     "text": [
      " 77%|███████▋  | 77/100 [00:29<00:08,  2.86it/s]"
     ]
    },
    {
     "name": "stdout",
     "output_type": "stream",
     "text": [
      "Optimization Success= True\n",
      "energy=-6.63094\n",
      "average gradient=0.000000053284550 \n",
      "\n",
      "grad tolerance=0.000000631158201 \n",
      "\n"
     ]
    },
    {
     "name": "stderr",
     "output_type": "stream",
     "text": [
      " 78%|███████▊  | 78/100 [00:29<00:07,  2.83it/s]"
     ]
    },
    {
     "name": "stdout",
     "output_type": "stream",
     "text": [
      "Optimization Success= True\n",
      "energy=-6.63094\n",
      "average gradient=0.000000053518124 \n",
      "\n",
      "grad tolerance=0.000000631158201 \n",
      "\n"
     ]
    },
    {
     "name": "stderr",
     "output_type": "stream",
     "text": [
      " 79%|███████▉  | 79/100 [00:29<00:07,  2.79it/s]"
     ]
    },
    {
     "name": "stdout",
     "output_type": "stream",
     "text": [
      "Optimization Success= True\n",
      "energy=-6.63094\n",
      "average gradient=0.000000053745784 \n",
      "\n",
      "grad tolerance=0.000000631158201 \n",
      "\n"
     ]
    },
    {
     "name": "stderr",
     "output_type": "stream",
     "text": [
      " 80%|████████  | 80/100 [00:30<00:07,  2.76it/s]"
     ]
    },
    {
     "name": "stdout",
     "output_type": "stream",
     "text": [
      "Optimization Success= True\n",
      "energy=-6.63094\n",
      "average gradient=0.000000053967753 \n",
      "\n",
      "grad tolerance=0.000000631158201 \n",
      "\n"
     ]
    },
    {
     "name": "stderr",
     "output_type": "stream",
     "text": [
      " 81%|████████  | 81/100 [00:30<00:06,  2.73it/s]"
     ]
    },
    {
     "name": "stdout",
     "output_type": "stream",
     "text": [
      "Optimization Success= True\n",
      "energy=-6.63094\n",
      "average gradient=0.000000054184241 \n",
      "\n",
      "grad tolerance=0.000000631158201 \n",
      "\n"
     ]
    },
    {
     "name": "stderr",
     "output_type": "stream",
     "text": [
      " 82%|████████▏ | 82/100 [00:31<00:06,  2.71it/s]"
     ]
    },
    {
     "name": "stdout",
     "output_type": "stream",
     "text": [
      "Optimization Success= True\n",
      "energy=-6.63094\n",
      "average gradient=0.000000054395449 \n",
      "\n",
      "grad tolerance=0.000000631158201 \n",
      "\n"
     ]
    },
    {
     "name": "stderr",
     "output_type": "stream",
     "text": [
      " 83%|████████▎ | 83/100 [00:31<00:06,  2.68it/s]"
     ]
    },
    {
     "name": "stdout",
     "output_type": "stream",
     "text": [
      "Optimization Success= True\n",
      "energy=-6.63094\n",
      "average gradient=0.000000054601567 \n",
      "\n",
      "grad tolerance=0.000000631158201 \n",
      "\n"
     ]
    },
    {
     "name": "stderr",
     "output_type": "stream",
     "text": [
      " 84%|████████▍ | 84/100 [00:31<00:06,  2.66it/s]"
     ]
    },
    {
     "name": "stdout",
     "output_type": "stream",
     "text": [
      "Optimization Success= True\n",
      "energy=-6.63094\n",
      "average gradient=0.000000054802778 \n",
      "\n",
      "grad tolerance=0.000000631158201 \n",
      "\n"
     ]
    },
    {
     "name": "stderr",
     "output_type": "stream",
     "text": [
      " 85%|████████▌ | 85/100 [00:32<00:05,  2.63it/s]"
     ]
    },
    {
     "name": "stdout",
     "output_type": "stream",
     "text": [
      "Optimization Success= True\n",
      "energy=-6.63094\n",
      "average gradient=0.000000054999254 \n",
      "\n",
      "grad tolerance=0.000000631158201 \n",
      "\n"
     ]
    },
    {
     "name": "stderr",
     "output_type": "stream",
     "text": [
      " 86%|████████▌ | 86/100 [00:32<00:05,  2.61it/s]"
     ]
    },
    {
     "name": "stdout",
     "output_type": "stream",
     "text": [
      "Optimization Success= True\n",
      "energy=-6.63094\n",
      "average gradient=0.000000055191162 \n",
      "\n",
      "grad tolerance=0.000000631158201 \n",
      "\n"
     ]
    },
    {
     "name": "stderr",
     "output_type": "stream",
     "text": [
      " 87%|████████▋ | 87/100 [00:32<00:05,  2.58it/s]"
     ]
    },
    {
     "name": "stdout",
     "output_type": "stream",
     "text": [
      "Optimization Success= True\n",
      "energy=-6.63094\n",
      "average gradient=0.000000055378657 \n",
      "\n",
      "grad tolerance=0.000000631158201 \n",
      "\n"
     ]
    },
    {
     "name": "stderr",
     "output_type": "stream",
     "text": [
      " 88%|████████▊ | 88/100 [00:33<00:04,  2.55it/s]"
     ]
    },
    {
     "name": "stdout",
     "output_type": "stream",
     "text": [
      "Optimization Success= True\n",
      "energy=-6.63094\n",
      "average gradient=0.000000055561892 \n",
      "\n",
      "grad tolerance=0.000000631158201 \n",
      "\n"
     ]
    },
    {
     "name": "stderr",
     "output_type": "stream",
     "text": [
      " 89%|████████▉ | 89/100 [00:33<00:04,  2.52it/s]"
     ]
    },
    {
     "name": "stdout",
     "output_type": "stream",
     "text": [
      "Optimization Success= True\n",
      "energy=-6.63094\n",
      "average gradient=0.000000055741008 \n",
      "\n",
      "grad tolerance=0.000000631158201 \n",
      "\n"
     ]
    },
    {
     "name": "stderr",
     "output_type": "stream",
     "text": [
      " 90%|█████████ | 90/100 [00:34<00:03,  2.51it/s]"
     ]
    },
    {
     "name": "stdout",
     "output_type": "stream",
     "text": [
      "Optimization Success= True\n",
      "energy=-6.63094\n",
      "average gradient=0.000000055916145 \n",
      "\n",
      "grad tolerance=0.000000631158201 \n",
      "\n"
     ]
    },
    {
     "name": "stderr",
     "output_type": "stream",
     "text": [
      " 91%|█████████ | 91/100 [00:34<00:03,  2.47it/s]"
     ]
    },
    {
     "name": "stdout",
     "output_type": "stream",
     "text": [
      "Optimization Success= True\n",
      "energy=-6.63094\n",
      "average gradient=0.000000056087432 \n",
      "\n",
      "grad tolerance=0.000000631158201 \n",
      "\n"
     ]
    },
    {
     "name": "stderr",
     "output_type": "stream",
     "text": [
      " 92%|█████████▏| 92/100 [00:35<00:03,  2.46it/s]"
     ]
    },
    {
     "name": "stdout",
     "output_type": "stream",
     "text": [
      "Optimization Success= True\n",
      "energy=-6.63094\n",
      "average gradient=0.000000056254996 \n",
      "\n",
      "grad tolerance=0.000000631158201 \n",
      "\n"
     ]
    },
    {
     "name": "stderr",
     "output_type": "stream",
     "text": [
      " 93%|█████████▎| 93/100 [00:35<00:02,  2.44it/s]"
     ]
    },
    {
     "name": "stdout",
     "output_type": "stream",
     "text": [
      "Optimization Success= True\n",
      "energy=-6.63094\n",
      "average gradient=0.000000056418956 \n",
      "\n",
      "grad tolerance=0.000000631158201 \n",
      "\n"
     ]
    },
    {
     "name": "stderr",
     "output_type": "stream",
     "text": [
      " 94%|█████████▍| 94/100 [00:35<00:02,  2.42it/s]"
     ]
    },
    {
     "name": "stdout",
     "output_type": "stream",
     "text": [
      "Optimization Success= True\n",
      "energy=-6.63094\n",
      "average gradient=0.000000056579427 \n",
      "\n",
      "grad tolerance=0.000000631158201 \n",
      "\n"
     ]
    },
    {
     "name": "stderr",
     "output_type": "stream",
     "text": [
      " 95%|█████████▌| 95/100 [00:36<00:02,  2.40it/s]"
     ]
    },
    {
     "name": "stdout",
     "output_type": "stream",
     "text": [
      "Optimization Success= True\n",
      "energy=-6.63094\n",
      "average gradient=0.000000056736520 \n",
      "\n",
      "grad tolerance=0.000000631158201 \n",
      "\n"
     ]
    },
    {
     "name": "stderr",
     "output_type": "stream",
     "text": [
      " 96%|█████████▌| 96/100 [00:36<00:01,  2.37it/s]"
     ]
    },
    {
     "name": "stdout",
     "output_type": "stream",
     "text": [
      "Optimization Success= True\n",
      "energy=-6.63094\n",
      "average gradient=0.000000056890341 \n",
      "\n",
      "grad tolerance=0.000000631158201 \n",
      "\n"
     ]
    },
    {
     "name": "stderr",
     "output_type": "stream",
     "text": [
      " 97%|█████████▋| 97/100 [00:37<00:01,  2.36it/s]"
     ]
    },
    {
     "name": "stdout",
     "output_type": "stream",
     "text": [
      "Optimization Success= True\n",
      "energy=-6.63094\n",
      "average gradient=0.000000057040990 \n",
      "\n",
      "grad tolerance=0.000000631158201 \n",
      "\n"
     ]
    },
    {
     "name": "stderr",
     "output_type": "stream",
     "text": [
      " 98%|█████████▊| 98/100 [00:37<00:00,  2.34it/s]"
     ]
    },
    {
     "name": "stdout",
     "output_type": "stream",
     "text": [
      "Optimization Success= True\n",
      "energy=-6.63094\n",
      "average gradient=0.000000057188564 \n",
      "\n",
      "grad tolerance=0.000000631158201 \n",
      "\n"
     ]
    },
    {
     "name": "stderr",
     "output_type": "stream",
     "text": [
      " 99%|█████████▉| 99/100 [00:38<00:00,  2.32it/s]"
     ]
    },
    {
     "name": "stdout",
     "output_type": "stream",
     "text": [
      "Optimization Success= True\n",
      "energy=-6.63094\n",
      "average gradient=0.000000057333157 \n",
      "\n",
      "grad tolerance=0.000000631158201 \n",
      "\n"
     ]
    },
    {
     "name": "stderr",
     "output_type": "stream",
     "text": [
      "100%|██████████| 100/100 [00:38<00:00,  2.60it/s]"
     ]
    },
    {
     "name": "stdout",
     "output_type": "stream",
     "text": [
      "Optimization Success= True\n",
      "energy=-6.63094\n",
      "average gradient=0.000000057474859 \n",
      "\n",
      "grad tolerance=0.000000631158201 \n",
      "\n",
      "[(11, 6, 7, 10), (7, 10, 8, 9), (8, 11, 7, 6), (10, 9, 11, 8), (6, 10, 9, 6), (11, 10, 9, 6), (6, 9, 8, 7), (7, 11, 11, 8), (8, 11, 11, 9), (6, 9, 8, 10), (6, 9, 10, 7), (6, 8, 9, 7), (8, 11, 10, 11), (7, 9, 7, 6), (8, 11, 8, 6), (7, 11, 10, 8), (7, 11, 8, 7), (9, 7, 10, 7), (6, 10, 9, 10), (9, 7, 9, 11), (9, 6, 8, 11), (9, 11, 10, 6), (11, 7, 10, 7), (10, 6, 7, 11), (11, 6, 8, 11), (11, 8, 8, 9), (8, 11, 6, 10), (10, 7, 6, 8), (8, 10, 9, 11), (11, 9, 8, 10), (8, 10, 9, 11), (11, 9, 8, 10), (8, 10, 9, 11), (11, 9, 8, 10), (8, 10, 9, 11), (11, 9, 8, 10), (8, 10, 9, 11), (11, 9, 8, 10), (8, 10, 9, 11), (11, 9, 8, 10), (8, 10, 9, 11), (11, 9, 8, 10), (8, 10, 9, 11), (11, 9, 8, 10), (8, 10, 9, 11), (11, 9, 8, 10), (8, 10, 9, 11), (11, 9, 8, 10), (8, 10, 9, 11), (11, 9, 8, 10), (8, 10, 9, 11), (11, 9, 8, 10), (8, 10, 9, 11), (11, 9, 8, 10), (8, 10, 9, 11), (11, 9, 8, 10), (8, 10, 9, 11), (11, 9, 8, 10), (8, 10, 9, 11), (11, 9, 8, 10), (8, 10, 9, 11), (11, 9, 8, 10), (8, 10, 9, 11), (11, 9, 8, 10), (8, 10, 9, 11), (11, 9, 8, 10), (8, 10, 9, 11), (11, 9, 8, 10), (8, 10, 9, 11), (11, 9, 8, 10), (8, 10, 9, 11), (11, 9, 8, 10), (8, 10, 9, 11), (11, 9, 8, 10), (8, 10, 9, 11), (11, 9, 8, 10), (8, 10, 9, 11), (11, 9, 8, 10), (8, 10, 9, 11), (11, 9, 8, 10), (8, 10, 9, 11), (11, 9, 8, 10), (8, 10, 9, 11), (11, 9, 8, 10), (8, 10, 9, 11), (11, 9, 8, 10), (8, 10, 9, 11), (11, 9, 8, 10), (8, 10, 9, 11), (11, 9, 8, 10), (8, 10, 9, 11), (11, 9, 8, 10), (8, 10, 9, 11), (11, 9, 8, 10), (8, 10, 9, 11), (11, 9, 8, 10), (8, 10, 9, 11), (11, 9, 8, 10), (8, 10, 9, 11), (11, 9, 8, 10)]\n",
      "[-1.]\n"
     ]
    },
    {
     "name": "stderr",
     "output_type": "stream",
     "text": [
      "\n"
     ]
    }
   ],
   "source": [
    "spinconservation=SpinConservation(size=size_a)\n",
    "operator_pool:Dict={}\n",
    "\n",
    "operator_pool=FHHamiltonian.set_operator_pool(operator_pool=operator_pool,n_new_operators=2000,conditions=[spinconservation.spin_conservation],nbody='two')\n",
    "\n",
    "#operator_pool=FHHamiltonian.set_operator_pool(operator_pool=operator_pool,n_new_operators=300,conditions=[spinconservation.spin_conservation],nbody='one')\n",
    "#%%\n",
    "print('number of operators=',len(list(operator_pool.keys())))\n",
    "\n",
    "# %%\n",
    "random=False\n",
    "\n",
    "model=AdaptVQEFermiHubbard()\n",
    "\n",
    "model.set_hamiltonian(FHHamiltonian.hamiltonian)\n",
    "model.set_reference_psi(psi_hf)\n",
    "model.set_operators_pool(operator_pool=operator_pool,random=random)\n",
    "\n",
    "#%%\n",
    "\n",
    "fit=Fit(method='BFGS',tolerance_opt=10**-7,e_ref=egs)\n",
    "\n",
    "fit.configuration_checkpoint=configuration\n",
    "fit.init_model(model)\n",
    "\n",
    "#%%\n",
    "history,grad_history=fit.run(epochs=100)\n",
    "# # %%\n",
    "print(model.operator_action_info)\n",
    "print(model.energy-egs/egs)"
   ]
  },
  {
   "cell_type": "code",
   "execution_count": 19,
   "metadata": {},
   "outputs": [
    {
     "data": {
      "image/png": "[encoded data removed]",
      "text/plain": [
       "<Figure size 720x720 with 1 Axes>"
      ]
     },
     "metadata": {
      "needs_background": "light"
     },
     "output_type": "display_data"
    }
   ],
   "source": [
    "rel_error=[np.abs((e_min-egs)/egs) for e_min in history]\n",
    "\n",
    "plt.figure(figsize=(10,10))\n",
    "plt.plot(rel_error,linewidth=5)\n",
    "plt.xlabel('epochs',fontsize=40)\n",
    "plt.semilogy()\n",
    "plt.ylabel(r'$\\Delta_r e$',fontsize=40)\n",
    "plt.tick_params(axis='both', which='major', labelsize=40)\n",
    "plt.tick_params(axis='both', which='minor', labelsize=30)\n",
    "plt.show()\n",
    "\n",
    "\n",
    "plt.figure(figsize=(10,10))\n",
    "plt.plot(grad_history,linewidth=5)\n",
    "plt.xlabel('epochs',fontsize=40)\n",
    "plt.semilogy()\n",
    "plt.ylabel(r'$\\Delta_r e$',fontsize=40)\n",
    "plt.tick_params(axis='both', which='major', labelsize=40)\n",
    "plt.tick_params(axis='both', which='minor', labelsize=30)\n",
    "plt.show()\n"
   ]
  }
 ],
 "metadata": {
  "kernelspec": {
   "display_name": "dft_env",
   "language": "python",
   "name": "python3"
  },
  "language_info": {
   "codemirror_mode": {
    "name": "ipython",
    "version": 3
   },
   "file_extension": ".py",
   "mimetype": "text/x-python",
   "name": "python",
   "nbconvert_exporter": "python",
   "pygments_lexer": "ipython3",
   "version": "3.9.7"
  }
 },
 "nbformat": 4,
 "nbformat_minor": 2
}
