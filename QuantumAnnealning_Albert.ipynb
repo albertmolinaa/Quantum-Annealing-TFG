{
 "cells": [
  {
   "cell_type": "markdown",
   "id": "12586f01",
   "metadata": {},
   "source": [
    "# Quantum annealing time evolution\n",
    "## Albert Molina"
   ]
  },
  {
   "cell_type": "markdown",
   "id": "8382c0b4",
   "metadata": {},
   "source": [
    "Here I will be coding my Hamiltonians and time evolution"
   ]
  },
  {
   "cell_type": "code",
   "execution_count": 4,
   "id": "dff91a5a",
   "metadata": {},
   "outputs": [],
   "source": [
    "import scipy as sp\n",
    "import numpy as np\n",
    "from scipy.sparse.linalg import eigsh, expm_multiply\n",
    "import matplotlib.pyplot as plt"
   ]
  },
  {
   "cell_type": "code",
   "execution_count": null,
   "id": "e7e2d501",
   "metadata": {},
   "outputs": [],
   "source": []
  }
 ],
 "metadata": {
  "kernelspec": {
   "display_name": "base",
   "language": "python",
   "name": "python3"
  },
  "language_info": {
   "codemirror_mode": {
    "name": "ipython",
    "version": 3
   },
   "file_extension": ".py",
   "mimetype": "text/x-python",
   "name": "python",
   "nbconvert_exporter": "python",
   "pygments_lexer": "ipython3",
   "version": "3.11.5"
  }
 },
 "nbformat": 4,
 "nbformat_minor": 5
}
