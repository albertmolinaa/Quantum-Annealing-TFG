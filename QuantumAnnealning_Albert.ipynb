{
 "cells": [
  {
   "cell_type": "markdown",
   "id": "12586f01",
   "metadata": {},
   "source": [
    "# Quantum annealing time evolution\n",
    "## Albert Molina"
   ]
  },
  {
   "cell_type": "markdown",
   "id": "8382c0b4",
   "metadata": {},
   "source": [
    "Here I will be coding my Hamiltonians and time evolution"
   ]
  },
  {
   "cell_type": "code",
   "execution_count": 1,
   "id": "dff91a5a",
   "metadata": {},
   "outputs": [],
   "source": [
    "import scipy as sp\n",
    "import numpy as np\n",
    "from scipy.sparse.linalg import eigsh, expm_multiply\n",
    "import matplotlib.pyplot as plt\n",
    "from src.hamiltonian_utils import FermiHubbardHamiltonian # the many-body Hamiltonian class\n",
    "from src.nuclear_physics_utils import SingleParticleState,J2operator,get_twobody_nuclearshell_model # routines and class useful for the nuclear part"
   ]
  },
  {
   "cell_type": "code",
   "execution_count": 4,
   "id": "e7e2d501",
   "metadata": {},
   "outputs": [
    {
     "name": "stdout",
     "output_type": "stream",
     "text": [
      "single particle energies = [1.63 1.63 1.63 1.63 2.27 2.27 1.63 1.63 1.63 1.63 2.27 2.27]\n",
      "mapping between nucleon modes a and quantum numbers: [(0, 1, 1.5, -1.5, 0.5, 0.5), (0, 1, 1.5, -0.5, 0.5, 0.5), (0, 1, 1.5, 0.5, 0.5, 0.5), (0, 1, 1.5, 1.5, 0.5, 0.5), (0, 1, 0.5, -0.5, 0.5, 0.5), (0, 1, 0.5, 0.5, 0.5, 0.5), (0, 1, 1.5, -1.5, 0.5, -0.5), (0, 1, 1.5, -0.5, 0.5, -0.5), (0, 1, 1.5, 0.5, 0.5, -0.5), (0, 1, 1.5, 1.5, 0.5, -0.5), (0, 1, 0.5, -0.5, 0.5, -0.5), (0, 1, 0.5, 0.5, 0.5, -0.5)]\n"
     ]
    }
   ],
   "source": [
    "p_shell = 'data/cki'\n",
    "\n",
    "SPS = SingleParticleState(file_name = p_shell)\n",
    "\n",
    "# Let's print the single particle energies\n",
    "print('single particle energies =', SPS.energies)\n",
    "print('mapping between nucleon modes a and quantum numbers:', SPS.state_encoding)\n",
    "\n",
    "nuc_modes_per_i = SPS.energies.shape[0] // 2   # counting per species!!\n",
    "\n",
    "# Let's start with 8-Be (2 protons and 2 neutrons in p-shell):\n",
    "p = 2\n",
    "n = 2\n"
   ]
  },
  {
   "cell_type": "markdown",
   "id": "a04ad236",
   "metadata": {},
   "source": [
    "Now, let us initialize our Target Hamiltonian $\\rightarrow$ NSM Hamiltonian for $^{8}Be$"
   ]
  },
  {
   "cell_type": "code",
   "execution_count": 26,
   "id": "233a5d1e",
   "metadata": {},
   "outputs": [
    {
     "name": "stdout",
     "output_type": "stream",
     "text": [
      "Computing the matrix, pls wait... (u_u) \n",
      "\n"
     ]
    },
    {
     "name": "stderr",
     "output_type": "stream",
     "text": [
      "100%|██████████| 12/12 [00:01<00:00,  8.10it/s]\n",
      "1424it [00:02, 606.08it/s]"
     ]
    },
    {
     "name": "stdout",
     "output_type": "stream",
     "text": [
      "GS energy = -30.295 MeV\n",
      "  (0, 0)\t-6.582989999999999\n",
      "  (0, 1)\t2.002499032786363\n",
      "  (0, 2)\t-2.315995000000001\n",
      "  (0, 3)\t0.17580399459981977\n",
      "  (0, 4)\t-0.10150048360681718\n",
      "  (0, 5)\t-1.052265\n",
      "  (0, 6)\t1.9530200000000002\n",
      "  (0, 8)\t1.9009985491795476\n",
      "  (0, 10)\t2.002499032786366\n",
      "  (0, 11)\t-1.7096958900278656\n",
      "  (0, 12)\t-0.10150048360681718\n",
      "  (0, 13)\t0.5966341818903774\n",
      "  (0, 14)\t2.054162795550007\n",
      "  (0, 15)\t1.9530199999999995\n",
      "  (0, 16)\t-1.0522650000000002\n",
      "  (0, 18)\t-1.9009985491795478\n",
      "  (0, 20)\t-0.9007550000000002\n",
      "  (0, 23)\t0.17580399459982032\n",
      "  (0, 24)\t1.3652289845057242\n",
      "  (0, 25)\t0.5966341818903769\n",
      "  (0, 26)\t1.9009985491795474\n",
      "  (0, 27)\t-1.9009985491795478\n",
      "  (0, 29)\t-2.3986297010721485\n",
      "  (1, 0)\t2.002499032786363\n",
      "  (1, 1)\t-5.3826374999999995\n",
      "  :\t:\n",
      "  (49, 49)\t-3.0554875000000017\n",
      "  (49, 50)\t1.1102230246251565e-16\n",
      "  (50, 9)\t-3.763858685577873\n",
      "  (50, 11)\t-2.3986297010721485\n",
      "  (50, 13)\t0.5966341818903769\n",
      "  (50, 14)\t1.3652289845057242\n",
      "  (50, 19)\t3.763858685577873\n",
      "  (50, 24)\t2.054162795550007\n",
      "  (50, 25)\t0.5966341818903774\n",
      "  (50, 28)\t-0.6889338110442829\n",
      "  (50, 29)\t-1.7096958900278656\n",
      "  (50, 30)\t2.7755575615628914e-17\n",
      "  (50, 35)\t-1.7096958900278656\n",
      "  (50, 36)\t-0.6889338110442831\n",
      "  (50, 37)\t-2.7755575615628914e-17\n",
      "  (50, 39)\t0.5966341818903771\n",
      "  (50, 40)\t2.054162795550007\n",
      "  (50, 42)\t1.3652289845057242\n",
      "  (50, 43)\t0.5966341818903775\n",
      "  (50, 45)\t-2.3986297010721485\n",
      "  (50, 46)\t-3.7638586855778717\n",
      "  (50, 47)\t3.7638586855778717\n",
      "  (50, 48)\t-1.942890293094024e-16\n",
      "  (50, 49)\t1.1102230246251565e-16\n",
      "  (50, 50)\t-2.6712999999999933\n"
     ]
    },
    {
     "name": "stderr",
     "output_type": "stream",
     "text": [
      "\n"
     ]
    }
   ],
   "source": [
    "NSM_H = FermiHubbardHamiltonian(size_a=nuc_modes_per_i, size_b=nuc_modes_per_i, nparticles_a=p, nparticles_b=n, \n",
    "                                symmetries=[SPS.total_M_zero]) # we force M=0 so we don't get the full manybody basis\n",
    "# Also, I changed Ema's code where a was neutrons and b protons, since they're just numbers (and the same in this case)\n",
    "\n",
    "NSM_H.get_external_potential(external_potential=SPS.energies)\n",
    "twobody_dict, _ = get_twobody_nuclearshell_model(file_name=p_shell)\n",
    "\n",
    "NSM_H.get_twobody_interaction(twobody_dict)\n",
    "NSM_H.get_hamiltonian() # Now we have the Target Hamiltonian ready\n",
    "\n",
    "egs, psigs = NSM_H.get_spectrum(n_states=1) # just the ground state (energy in MeV's)\n",
    "print(f'GS energy = {egs[0]:.5} MeV')\n",
    "print(NSM_H.hamiltonian)\n"
   ]
  },
  {
   "cell_type": "markdown",
   "id": "2294533e",
   "metadata": {},
   "source": [
    "Now, let's get our Driver Hamiltonian.\n",
    "\n",
    "We have to consider the initial state, which in this case is the minimum energy Slater determinant."
   ]
  },
  {
   "cell_type": "code",
   "execution_count": null,
   "id": "bd700d56",
   "metadata": {},
   "outputs": [
    {
     "name": "stdout",
     "output_type": "stream",
     "text": [
      "[1 0 0 1 0 0 1 0 0 1 0 0]\n"
     ]
    }
   ],
   "source": [
    "# We select the product state of the basis that minimizes the Hamiltonian\n",
    "min = 10000\n",
    "min_b = 0.\n",
    "\n",
    "for i, b in enumerate(NSM_H.basis):\n",
    "    psi = np.zeros(NSM_H.basis.shape[0]) # we initialize the state\n",
    "    psi[i] = 1.0\n",
    "    val = np.conj(psi) @ NSM_H.hamiltonian @ psi\n",
    "    if val < min:\n",
    "        min = val # Minimum energy!\n",
    "        psi_base = psi \n",
    "        min_b = b\n",
    "print(min_b) # THIS is the minimum energy Slater determinant"
   ]
  },
  {
   "cell_type": "markdown",
   "id": "1fe4e2c2",
   "metadata": {},
   "source": [
    "Then we define our external potential, following the description from the paper"
   ]
  },
  {
   "cell_type": "code",
   "execution_count": 28,
   "id": "951e016e",
   "metadata": {},
   "outputs": [],
   "source": [
    "ext_pot = np.zeros(2 * nuc_modes_per_i)\n",
    "ext_pot = (min / (p + n)) * min_b"
   ]
  },
  {
   "cell_type": "markdown",
   "id": "73a809a0",
   "metadata": {},
   "source": [
    "We can initialize our Driver Hamiltonian"
   ]
  },
  {
   "cell_type": "code",
   "execution_count": 30,
   "id": "f8fdd97a",
   "metadata": {},
   "outputs": [
    {
     "name": "stdout",
     "output_type": "stream",
     "text": [
      "  (0, 0)\t-7.702854999999998\n",
      "  (1, 1)\t-7.702854999999998\n",
      "  (2, 2)\t-7.702854999999998\n",
      "  (3, 3)\t-3.851427499999999\n",
      "  (4, 4)\t-7.702854999999998\n",
      "  (5, 5)\t-15.405709999999996\n",
      "  (6, 6)\t-7.702854999999998\n",
      "  (7, 7)\t-7.702854999999998\n",
      "  (8, 8)\t-7.702854999999998\n",
      "  (9, 9)\t-7.702854999999998\n",
      "  (10, 10)\t-7.702854999999998\n",
      "  (11, 11)\t-7.702854999999998\n",
      "  (12, 12)\t-7.702854999999998\n",
      "  (13, 13)\t-3.851427499999999\n",
      "  (14, 14)\t-7.702854999999998\n",
      "  (15, 15)\t-7.702854999999998\n",
      "  (20, 20)\t-7.702854999999998\n",
      "  (21, 21)\t-7.702854999999998\n",
      "  (22, 22)\t-3.851427499999999\n",
      "  (23, 23)\t-3.851427499999999\n",
      "  (25, 25)\t-3.851427499999999\n",
      "  (26, 26)\t-7.702854999999998\n",
      "  (31, 31)\t-7.702854999999998\n",
      "  (32, 32)\t-7.702854999999998\n",
      "  (33, 33)\t-7.702854999999998\n",
      "  (38, 38)\t-3.851427499999999\n",
      "  (39, 39)\t-3.851427499999999\n",
      "  (41, 41)\t-7.702854999999998\n",
      "  (42, 42)\t-7.702854999999998\n",
      "  (43, 43)\t-3.851427499999999\n",
      "  (44, 44)\t-7.702854999999998\n",
      "  (45, 45)\t-7.702854999999998\n",
      "  (46, 46)\t-7.702854999999998\n"
     ]
    }
   ],
   "source": [
    "Driver_H = FermiHubbardHamiltonian(size_a=nuc_modes_per_i, size_b=nuc_modes_per_i, nparticles_a=p, nparticles_b=n, \n",
    "                                   symmetries=[SPS.total_M_zero])\n",
    "Driver_H.get_external_potential(ext_pot)\n",
    "Driver_H.get_hamiltonian()\n",
    "print(Driver_H.hamiltonian)"
   ]
  },
  {
   "cell_type": "markdown",
   "id": "ca3fd217",
   "metadata": {},
   "source": [
    "Now, let's perform the adiabatic evolution"
   ]
  },
  {
   "cell_type": "code",
   "execution_count": 45,
   "id": "760029d3",
   "metadata": {},
   "outputs": [
    {
     "name": "stdout",
     "output_type": "stream",
     "text": [
      "(100, 51, 6)\n",
      "-30.291376100358363\n"
     ]
    },
    {
     "name": "stderr",
     "output_type": "stream",
     "text": [
      "c:\\Users\\alber\\anaconda3\\Lib\\site-packages\\matplotlib\\cbook\\__init__.py:1340: ComplexWarning: Casting complex values to real discards the imaginary part\n",
      "  return np.asarray(x, float)\n"
     ]
    },
    {
     "data": {
      "image/png": "[encoded data removed]",
      "text/plain": [
       "<Figure size 640x480 with 1 Axes>"
      ]
     },
     "metadata": {},
     "output_type": "display_data"
    }
   ],
   "source": [
    "tf = 10\n",
    "tsteps = 100\n",
    "dt = tf / tsteps\n",
    "time = np.linspace(0, tf, tsteps)\n",
    "\n",
    "psi = psi_ini.copy()\n",
    "energy = []\n",
    "spectrum_t = []\n",
    "\n",
    "for i, t in enumerate(time):\n",
    "    H_t = (1 - t/tf) * Driver_H.hamiltonian + (t/tf) * NSM_H.hamiltonian\n",
    "    energy.append(psi.conjugate().transpose().dot(H_t.dot(psi))) # we append <psi|H(t)|psi>\n",
    "    eigvec, eigval = eigsh(H_t)\n",
    "    spectrum_t.append(eigval)\n",
    "    psi = expm_multiply(-1j * dt * H_t,psi)\n",
    "spectrum_arr = np.asarray(spectrum_t)\n",
    "print(spectrum_arr.shape)\n",
    "\n",
    "# We plot the energy along time\n",
    "plt.figure()\n",
    "plt.plot(time, energy)\n",
    "plt.xlabel('t')\n",
    "plt.ylabel('E (MeV)')\n",
    "print(np.real(energy[tsteps-1]))"
   ]
  },
  {
   "cell_type": "markdown",
   "id": "edf73fd3",
   "metadata": {},
   "source": [
    "We see that the energy at the end of the process is the same as the GS energy of the NSM $\\rightarrow$ well executed!"
   ]
  }
 ],
 "metadata": {
  "kernelspec": {
   "display_name": "base",
   "language": "python",
   "name": "python3"
  },
  "language_info": {
   "codemirror_mode": {
    "name": "ipython",
    "version": 3
   },
   "file_extension": ".py",
   "mimetype": "text/x-python",
   "name": "python",
   "nbconvert_exporter": "python",
   "pygments_lexer": "ipython3",
   "version": "3.11.5"
  }
 },
 "nbformat": 4,
 "nbformat_minor": 5
}
