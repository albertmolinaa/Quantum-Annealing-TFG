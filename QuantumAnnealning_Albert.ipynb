{
 "cells": [
  {
   "cell_type": "markdown",
   "id": "12586f01",
   "metadata": {},
   "source": [
    "# Quantum annealing time evolution\n",
    "## Albert Molina"
   ]
  },
  {
   "cell_type": "markdown",
   "id": "8382c0b4",
   "metadata": {},
   "source": [
    "Here I will be coding my Hamiltonians and time evolution for the p-shell nuclei studied in the paper ($^{8}Be, ^{10}Be, ^{12}Be$)"
   ]
  },
  {
   "cell_type": "code",
   "execution_count": 387,
   "id": "dff91a5a",
   "metadata": {},
   "outputs": [],
   "source": [
    "import scipy as sp\n",
    "import numpy as np\n",
    "from scipy.sparse.linalg import eigsh, expm_multiply\n",
    "from scipy.linalg import eigvalsh \n",
    "import matplotlib.pyplot as plt\n",
    "from src.hamiltonian_utils import FermiHubbardHamiltonian # the many-body Hamiltonian class\n",
    "from src.nuclear_physics_utils import SingleParticleState,J2operator,get_twobody_nuclearshell_model # routines and class useful for the nuclear part"
   ]
  },
  {
   "cell_type": "code",
   "execution_count": 388,
   "id": "e7e2d501",
   "metadata": {},
   "outputs": [
    {
     "name": "stdout",
     "output_type": "stream",
     "text": [
      "single particle energies = [1.63 1.63 1.63 1.63 2.27 2.27 1.63 1.63 1.63 1.63 2.27 2.27]\n",
      "mapping between nucleon modes a and quantum numbers: [(0, 1, 1.5, -1.5, 0.5, 0.5), (0, 1, 1.5, -0.5, 0.5, 0.5), (0, 1, 1.5, 0.5, 0.5, 0.5), (0, 1, 1.5, 1.5, 0.5, 0.5), (0, 1, 0.5, -0.5, 0.5, 0.5), (0, 1, 0.5, 0.5, 0.5, 0.5), (0, 1, 1.5, -1.5, 0.5, -0.5), (0, 1, 1.5, -0.5, 0.5, -0.5), (0, 1, 1.5, 0.5, 0.5, -0.5), (0, 1, 1.5, 1.5, 0.5, -0.5), (0, 1, 0.5, -0.5, 0.5, -0.5), (0, 1, 0.5, 0.5, 0.5, -0.5)]\n"
     ]
    }
   ],
   "source": [
    "p_shell = 'data/cki'\n",
    "\n",
    "SPS = SingleParticleState(file_name = p_shell)\n",
    "\n",
    "# Let's print the single particle energies\n",
    "print('single particle energies =', SPS.energies)\n",
    "print('mapping between nucleon modes a and quantum numbers:', SPS.state_encoding)\n",
    "\n",
    "nuc_modes_per_i = SPS.energies.shape[0] // 2   # counting per species!!"
   ]
  },
  {
   "cell_type": "markdown",
   "id": "a04ad236",
   "metadata": {},
   "source": [
    "## $^{8}Be$\n",
    "\n",
    "Now, let us initialize our Target Hamiltonian $\\rightarrow$ NSM Hamiltonian for $^{8}Be$"
   ]
  },
  {
   "cell_type": "code",
   "execution_count": 389,
   "id": "233a5d1e",
   "metadata": {},
   "outputs": [
    {
     "name": "stdout",
     "output_type": "stream",
     "text": [
      "Computing the matrix, pls wait... (u_u) \n",
      "\n"
     ]
    },
    {
     "name": "stderr",
     "output_type": "stream",
     "text": [
      "100%|██████████| 12/12 [00:01<00:00,  7.95it/s]\n",
      "1424it [00:02, 575.80it/s]"
     ]
    },
    {
     "name": "stdout",
     "output_type": "stream",
     "text": [
      "GS energy = -30.295 MeV\n",
      "  (0, 0)\t-6.582989999999999\n",
      "  (0, 1)\t2.002499032786363\n",
      "  (0, 2)\t-2.315995000000001\n",
      "  (0, 3)\t0.17580399459981977\n",
      "  (0, 4)\t-0.10150048360681718\n",
      "  (0, 5)\t-1.052265\n",
      "  (0, 6)\t1.9530200000000002\n",
      "  (0, 8)\t1.9009985491795476\n",
      "  (0, 10)\t2.002499032786366\n",
      "  (0, 11)\t-1.7096958900278656\n",
      "  (0, 12)\t-0.10150048360681718\n",
      "  (0, 13)\t0.5966341818903774\n",
      "  (0, 14)\t2.054162795550007\n",
      "  (0, 15)\t1.9530199999999995\n",
      "  (0, 16)\t-1.0522650000000002\n",
      "  (0, 18)\t-1.9009985491795478\n",
      "  (0, 20)\t-0.9007550000000002\n",
      "  (0, 23)\t0.17580399459982032\n",
      "  (0, 24)\t1.3652289845057242\n",
      "  (0, 25)\t0.5966341818903769\n",
      "  (0, 26)\t1.9009985491795474\n",
      "  (0, 27)\t-1.9009985491795478\n",
      "  (0, 29)\t-2.3986297010721485\n",
      "  (1, 0)\t2.002499032786363\n",
      "  (1, 1)\t-5.3826374999999995\n",
      "  :\t:\n",
      "  (49, 49)\t-3.0554875000000017\n",
      "  (49, 50)\t1.1102230246251565e-16\n",
      "  (50, 9)\t-3.763858685577873\n",
      "  (50, 11)\t-2.3986297010721485\n",
      "  (50, 13)\t0.5966341818903769\n",
      "  (50, 14)\t1.3652289845057242\n",
      "  (50, 19)\t3.763858685577873\n",
      "  (50, 24)\t2.054162795550007\n",
      "  (50, 25)\t0.5966341818903774\n",
      "  (50, 28)\t-0.6889338110442829\n",
      "  (50, 29)\t-1.7096958900278656\n",
      "  (50, 30)\t2.7755575615628914e-17\n",
      "  (50, 35)\t-1.7096958900278656\n",
      "  (50, 36)\t-0.6889338110442831\n",
      "  (50, 37)\t-2.7755575615628914e-17\n",
      "  (50, 39)\t0.5966341818903771\n",
      "  (50, 40)\t2.054162795550007\n",
      "  (50, 42)\t1.3652289845057242\n",
      "  (50, 43)\t0.5966341818903775\n",
      "  (50, 45)\t-2.3986297010721485\n",
      "  (50, 46)\t-3.7638586855778717\n",
      "  (50, 47)\t3.7638586855778717\n",
      "  (50, 48)\t-1.942890293094024e-16\n",
      "  (50, 49)\t1.1102230246251565e-16\n",
      "  (50, 50)\t-2.6712999999999933\n"
     ]
    },
    {
     "name": "stderr",
     "output_type": "stream",
     "text": [
      "\n"
     ]
    }
   ],
   "source": [
    "# Let's start with 8-Be (2 protons and 2 neutrons in p-shell):\n",
    "p = 2\n",
    "n_eight = 2\n",
    "\n",
    "NSM_H_eight = FermiHubbardHamiltonian(size_a=nuc_modes_per_i, size_b=nuc_modes_per_i, nparticles_a=p, nparticles_b=n_eight, \n",
    "                                symmetries=[SPS.total_M_zero]) # we force M=0 so we don't get the full manybody basis\n",
    "# Also, I changed Ema's code where a was neutrons and b protons, since they're just numbers (and the same in this case)\n",
    "\n",
    "NSM_H_eight.get_external_potential(external_potential=SPS.energies)\n",
    "twobody_dict_eight, _ = get_twobody_nuclearshell_model(file_name=p_shell)\n",
    "\n",
    "NSM_H_eight.get_twobody_interaction(twobody_dict_eight)\n",
    "NSM_H_eight.get_hamiltonian() # Now we have the Target Hamiltonian ready\n",
    "\n",
    "egs_eight, psigs_eight = NSM_H_eight.get_spectrum(n_states=1) # just the ground state (energy in MeV's)\n",
    "print(f'GS energy = {egs_eight[0]:.5} MeV')\n",
    "print(NSM_H_eight.hamiltonian)\n"
   ]
  },
  {
   "cell_type": "markdown",
   "id": "2294533e",
   "metadata": {},
   "source": [
    "Now, let's get our Driver Hamiltonian.\n",
    "\n",
    "We have to consider the initial state, which in this case is the minimum energy Slater determinant."
   ]
  },
  {
   "cell_type": "code",
   "execution_count": 390,
   "id": "bd700d56",
   "metadata": {},
   "outputs": [
    {
     "name": "stdout",
     "output_type": "stream",
     "text": [
      "MINIMUM BASIS: [1 0 0 1 0 0 1 0 0 1 0 0]\n"
     ]
    }
   ],
   "source": [
    "# We select the product state of the basis that minimizes the Hamiltonian\n",
    "min = 10000\n",
    "min_b_eight = 0.\n",
    "\n",
    "for i, b in enumerate(NSM_H_eight.basis):\n",
    "    psi = np.zeros(NSM_H_eight.basis.shape[0]) # we initialize the state\n",
    "    psi[i] = 1.0\n",
    "    val = np.conj(psi) @ NSM_H_eight.hamiltonian @ psi\n",
    "    if val < min:\n",
    "        min = val # Minimum energy!\n",
    "        psi_base = psi \n",
    "        min_b_eight = b\n",
    "print('MINIMUM BASIS:',min_b_eight) # THIS is the minimum energy Slater determinant\n",
    "psi_ini_eight = psi_base.copy()"
   ]
  },
  {
   "cell_type": "markdown",
   "id": "1fe4e2c2",
   "metadata": {},
   "source": [
    "Then we define our external potential, following the description from the paper"
   ]
  },
  {
   "cell_type": "code",
   "execution_count": 391,
   "id": "951e016e",
   "metadata": {},
   "outputs": [],
   "source": [
    "ext_pot_eight = np.zeros(2 * nuc_modes_per_i)\n",
    "ext_pot_eight = (min / (p + n_eight)) * min_b_eight"
   ]
  },
  {
   "cell_type": "markdown",
   "id": "73a809a0",
   "metadata": {},
   "source": [
    "We can initialize our Driver Hamiltonian"
   ]
  },
  {
   "cell_type": "code",
   "execution_count": 392,
   "id": "f8fdd97a",
   "metadata": {},
   "outputs": [
    {
     "name": "stdout",
     "output_type": "stream",
     "text": [
      "  (0, 0)\t-7.702854999999998\n",
      "  (1, 1)\t-7.702854999999998\n",
      "  (2, 2)\t-7.702854999999998\n",
      "  (3, 3)\t-3.851427499999999\n",
      "  (4, 4)\t-7.702854999999998\n",
      "  (5, 5)\t-15.405709999999996\n",
      "  (6, 6)\t-7.702854999999998\n",
      "  (7, 7)\t-7.702854999999998\n",
      "  (8, 8)\t-7.702854999999998\n",
      "  (9, 9)\t-7.702854999999998\n",
      "  (10, 10)\t-7.702854999999998\n",
      "  (11, 11)\t-7.702854999999998\n",
      "  (12, 12)\t-7.702854999999998\n",
      "  (13, 13)\t-3.851427499999999\n",
      "  (14, 14)\t-7.702854999999998\n",
      "  (15, 15)\t-7.702854999999998\n",
      "  (20, 20)\t-7.702854999999998\n",
      "  (21, 21)\t-7.702854999999998\n",
      "  (22, 22)\t-3.851427499999999\n",
      "  (23, 23)\t-3.851427499999999\n",
      "  (25, 25)\t-3.851427499999999\n",
      "  (26, 26)\t-7.702854999999998\n",
      "  (31, 31)\t-7.702854999999998\n",
      "  (32, 32)\t-7.702854999999998\n",
      "  (33, 33)\t-7.702854999999998\n",
      "  (38, 38)\t-3.851427499999999\n",
      "  (39, 39)\t-3.851427499999999\n",
      "  (41, 41)\t-7.702854999999998\n",
      "  (42, 42)\t-7.702854999999998\n",
      "  (43, 43)\t-3.851427499999999\n",
      "  (44, 44)\t-7.702854999999998\n",
      "  (45, 45)\t-7.702854999999998\n",
      "  (46, 46)\t-7.702854999999998\n"
     ]
    }
   ],
   "source": [
    "Driver_H_eight = FermiHubbardHamiltonian(size_a=nuc_modes_per_i, size_b=nuc_modes_per_i, nparticles_a=p, nparticles_b=n_eight, \n",
    "                                        symmetries=[SPS.total_M_zero])\n",
    "Driver_H_eight.get_external_potential(ext_pot_eight)\n",
    "Driver_H_eight.get_hamiltonian()\n",
    "print(Driver_H_eight.hamiltonian)"
   ]
  },
  {
   "cell_type": "markdown",
   "id": "ca3fd217",
   "metadata": {},
   "source": [
    "Now, let's perform the adiabatic evolution"
   ]
  },
  {
   "cell_type": "code",
   "execution_count": 393,
   "id": "760029d3",
   "metadata": {},
   "outputs": [
    {
     "name": "stdout",
     "output_type": "stream",
     "text": [
      "(51, 51)\n",
      "-30.291376100358363\n"
     ]
    },
    {
     "data": {
      "image/png": "[encoded data removed]",
      "text/plain": [
       "<Figure size 640x480 with 1 Axes>"
      ]
     },
     "metadata": {},
     "output_type": "display_data"
    }
   ],
   "source": [
    "tf = 10\n",
    "tsteps = 100\n",
    "dt = tf / tsteps\n",
    "time = np.linspace(0, tf, tsteps)\n",
    "\n",
    "psi_eight = psi_ini_eight.copy()\n",
    "energy_eight = []\n",
    "spectrum_t_eight = []\n",
    "\n",
    "for i, t in enumerate(time):\n",
    "    H_t_eight = (1 - t/tf) * Driver_H_eight.hamiltonian + (t/tf) * NSM_H_eight.hamiltonian\n",
    "    energy_eight.append(psi_eight.conjugate().transpose().dot(H_t_eight.dot(psi_eight))) # we append <psi(t)|H(t)|psi(t)>\n",
    "    eigval_eight = eigsh(H_t_eight, k=1, return_eigenvectors=False)\n",
    "    spectrum_t_eight.append(eigval_eight)\n",
    "    psi_eight = expm_multiply(-1j * dt * H_t_eight,psi_eight)\n",
    "spectrum_arr = np.asarray(spectrum_t_eight)\n",
    "print(np.shape(H_t_eight))\n",
    "# We plot the energy along time\n",
    "plt.figure()\n",
    "plt.plot(time, energy_eight)\n",
    "plt.xlabel('t')\n",
    "plt.ylabel('E (MeV)')\n",
    "print(np.real(energy_eight[tsteps-1]))"
   ]
  },
  {
   "cell_type": "markdown",
   "id": "edf73fd3",
   "metadata": {},
   "source": [
    "We see that the energy at the end of the process is the same as the GS energy of the NSM $\\rightarrow$ well executed!\n",
    "\n",
    "Finally, let's compare the plot above with part of the spectrum of $H(t)$"
   ]
  },
  {
   "cell_type": "code",
   "execution_count": 394,
   "id": "f84c5adb",
   "metadata": {},
   "outputs": [
    {
     "data": {
      "text/plain": [
       "<matplotlib.legend.Legend at 0x112ae42c210>"
      ]
     },
     "execution_count": 394,
     "metadata": {},
     "output_type": "execute_result"
    },
    {
     "data": {
      "image/png": "[encoded data removed]",
      "text/plain": [
       "<Figure size 640x480 with 1 Axes>"
      ]
     },
     "metadata": {},
     "output_type": "display_data"
    }
   ],
   "source": [
    "plt.figure()\n",
    "plt.plot(time, spectrum_t_eight, 'r-', label='e.v.')\n",
    "plt.plot(time, energy_eight, 'b--', label='<e>')\n",
    "plt.legend()"
   ]
  },
  {
   "cell_type": "markdown",
   "id": "d0dffcb4",
   "metadata": {},
   "source": [
    "## $^{10}Be$"
   ]
  },
  {
   "cell_type": "code",
   "execution_count": 395,
   "id": "0ed05937",
   "metadata": {},
   "outputs": [
    {
     "name": "stdout",
     "output_type": "stream",
     "text": [
      "Computing the matrix, pls wait... (u_u) \n",
      "\n"
     ]
    },
    {
     "name": "stderr",
     "output_type": "stream",
     "text": [
      "100%|██████████| 12/12 [00:01<00:00,  7.92it/s]\n",
      "1424it [00:02, 573.41it/s]\n"
     ]
    },
    {
     "name": "stdout",
     "output_type": "stream",
     "text": [
      "GS energy = -39.453 MeV\n",
      "  (0, 0)\t-21.4277125\n",
      "  (0, 1)\t-2.002499032786364\n",
      "  (0, 2)\t-1.22563379245189\n",
      "  (0, 3)\t0.07702499999999957\n",
      "  (0, 4)\t-0.10150048360681718\n",
      "  (0, 5)\t1.9009985491795478\n",
      "  (0, 6)\t1.052265\n",
      "  (0, 9)\t1.9009985491795476\n",
      "  (0, 10)\t0.6106036802941635\n",
      "  (0, 11)\t-0.6889338110442829\n",
      "  (0, 12)\t1.5584110388469397\n",
      "  (0, 13)\t-0.49214631970583694\n",
      "  (0, 14)\t2.054162795550007\n",
      "  (0, 15)\t-1.9009985491795476\n",
      "  (0, 16)\t-1.9530199999999995\n",
      "  (0, 19)\t-1.9009985491795478\n",
      "  (0, 20)\t0.9007550000000002\n",
      "  (0, 23)\t1.10275\n",
      "  (0, 24)\t0.8524224304885455\n",
      "  (0, 25)\t0.5966341818903769\n",
      "  (0, 26)\t-3.1602874999999995\n",
      "  (0, 27)\t-1.9009985491795474\n",
      "  (0, 30)\t-2.3986297010721485\n",
      "  (1, 0)\t-2.002499032786364\n",
      "  (1, 1)\t-14.222665000000017\n",
      "  :\t:\n",
      "  (49, 47)\t-1.1027500000000003\n",
      "  (49, 48)\t-1.102749999999999\n",
      "  (49, 49)\t-13.622775000000008\n",
      "  (49, 50)\t1.043099999999999\n",
      "  (50, 9)\t-3.763858685577873\n",
      "  (50, 10)\t-2.3986297010721485\n",
      "  (50, 11)\t-1.9009985491795478\n",
      "  (50, 13)\t1.3652289845057242\n",
      "  (50, 14)\t0.7982485491795479\n",
      "  (50, 19)\t3.763858685577873\n",
      "  (50, 24)\t0.5966341818903774\n",
      "  (50, 25)\t1.7342150334467599\n",
      "  (50, 30)\t-1.900998549179548\n",
      "  (50, 37)\t-1.900998549179548\n",
      "  (50, 38)\t0.5966341818903771\n",
      "  (50, 40)\t1.7342150334467596\n",
      "  (50, 41)\t1.3652289845057242\n",
      "  (50, 43)\t0.7982485491795481\n",
      "  (50, 44)\t-2.3986297010721485\n",
      "  (50, 45)\t-1.900998549179548\n",
      "  (50, 46)\t-3.7638586855778717\n",
      "  (50, 47)\t-1.1027499999999997\n",
      "  (50, 48)\t-1.1027499999999997\n",
      "  (50, 49)\t1.043099999999999\n",
      "  (50, 50)\t-13.622775000000015\n"
     ]
    }
   ],
   "source": [
    "# 10-Be (2 protons and 4 neutrons in p-shell):\n",
    "p = 2\n",
    "n_ten = 4\n",
    "\n",
    "NSM_H_ten = FermiHubbardHamiltonian(size_a=nuc_modes_per_i, size_b=nuc_modes_per_i, nparticles_a=p, nparticles_b=n_ten, \n",
    "                                symmetries=[SPS.total_M_zero]) # we force M=0 so we don't get the full manybody basis\n",
    "# Also, I changed Ema's code where a was neutrons and b protons, since they're just numbers (and the same in this case)\n",
    "\n",
    "NSM_H_ten.get_external_potential(external_potential=SPS.energies)\n",
    "twobody_dict_ten, _ = get_twobody_nuclearshell_model(file_name=p_shell)\n",
    "\n",
    "NSM_H_ten.get_twobody_interaction(twobody_dict_ten)\n",
    "NSM_H_ten.get_hamiltonian() # Now we have the Target Hamiltonian ready\n",
    "\n",
    "egs, psigs = NSM_H_ten.get_spectrum(n_states=1) # just the ground state (energy in MeV's)\n",
    "print(f'GS energy = {egs[0]:.5} MeV')\n",
    "print(NSM_H_ten.hamiltonian)"
   ]
  },
  {
   "cell_type": "markdown",
   "id": "148a9b08",
   "metadata": {},
   "source": [
    "Driver Hamiltonian for $^{10}Be$"
   ]
  },
  {
   "cell_type": "code",
   "execution_count": 396,
   "id": "1754c21f",
   "metadata": {},
   "outputs": [
    {
     "name": "stdout",
     "output_type": "stream",
     "text": [
      "MINIMUM BASIS: [1 0 0 1 0 0 1 1 1 1 0 0]\n",
      "  (0, 0)\t-19.309833333333348\n",
      "  (1, 1)\t-14.482375000000012\n",
      "  (2, 2)\t-19.309833333333348\n",
      "  (3, 3)\t-19.309833333333348\n",
      "  (4, 4)\t-14.482375000000012\n",
      "  (5, 5)\t-28.96475000000002\n",
      "  (6, 6)\t-24.137291666666684\n",
      "  (7, 7)\t-24.137291666666684\n",
      "  (8, 8)\t-19.309833333333348\n",
      "  (9, 9)\t-19.309833333333348\n",
      "  (10, 10)\t-19.309833333333348\n",
      "  (11, 11)\t-14.482375000000012\n",
      "  (12, 12)\t-19.309833333333348\n",
      "  (13, 13)\t-19.309833333333348\n",
      "  (14, 14)\t-14.482375000000012\n",
      "  (15, 15)\t-19.309833333333348\n",
      "  (16, 16)\t-14.482375000000012\n",
      "  (17, 17)\t-14.482375000000012\n",
      "  (18, 18)\t-9.654916666666674\n",
      "  (19, 19)\t-9.654916666666674\n",
      "  (20, 20)\t-19.309833333333348\n",
      "  (21, 21)\t-19.309833333333348\n",
      "  (22, 22)\t-14.482375000000012\n",
      "  (23, 23)\t-14.482375000000012\n",
      "  (24, 24)\t-14.482375000000012\n",
      "  :\t:\n",
      "  (26, 26)\t-19.309833333333348\n",
      "  (27, 27)\t-14.482375000000012\n",
      "  (28, 28)\t-14.482375000000012\n",
      "  (29, 29)\t-9.654916666666674\n",
      "  (30, 30)\t-9.654916666666674\n",
      "  (31, 31)\t-19.309833333333348\n",
      "  (32, 32)\t-14.482375000000012\n",
      "  (33, 33)\t-19.309833333333348\n",
      "  (34, 34)\t-14.482375000000012\n",
      "  (35, 35)\t-14.482375000000012\n",
      "  (36, 36)\t-9.654916666666674\n",
      "  (37, 37)\t-9.654916666666674\n",
      "  (38, 38)\t-14.482375000000012\n",
      "  (39, 39)\t-14.482375000000012\n",
      "  (40, 40)\t-9.654916666666674\n",
      "  (41, 41)\t-19.309833333333348\n",
      "  (42, 42)\t-19.309833333333348\n",
      "  (43, 43)\t-14.482375000000012\n",
      "  (44, 44)\t-19.309833333333348\n",
      "  (45, 45)\t-14.482375000000012\n",
      "  (46, 46)\t-19.309833333333348\n",
      "  (47, 47)\t-14.482375000000012\n",
      "  (48, 48)\t-14.482375000000012\n",
      "  (49, 49)\t-9.654916666666674\n",
      "  (50, 50)\t-9.654916666666674\n"
     ]
    }
   ],
   "source": [
    "# We select the product state of the basis that minimizes the Hamiltonian\n",
    "min = 10000\n",
    "min_b = 0.\n",
    "\n",
    "for i, b in enumerate(NSM_H_ten.basis):\n",
    "    psi = np.zeros(NSM_H_ten.basis.shape[0]) # we initialize the state\n",
    "    psi[i] = 1.0\n",
    "    val = np.conj(psi) @ NSM_H_ten.hamiltonian @ psi\n",
    "    if val < min:\n",
    "        min = val # Minimum energy!\n",
    "        psi_base = psi \n",
    "        min_b_ten = b\n",
    "print('MINIMUM BASIS:',min_b_ten) # THIS is the minimum energy Slater determinant\n",
    "psi_ini_ten = psi_base.copy()\n",
    "\n",
    "# Get the external potential\n",
    "ext_pot_ten = np.zeros(2 * nuc_modes_per_i)\n",
    "ext_pot_ten = (min / (p + n_ten)) * min_b_ten\n",
    "\n",
    "# Now we get the Driver Hamiltonian\n",
    "Driver_H_ten = FermiHubbardHamiltonian(size_a=nuc_modes_per_i, size_b=nuc_modes_per_i, nparticles_a=p, nparticles_b=n_ten, \n",
    "                                   symmetries=[SPS.total_M_zero])\n",
    "Driver_H_ten.get_external_potential(ext_pot_ten)\n",
    "Driver_H_ten.get_hamiltonian()\n",
    "print(Driver_H_ten.hamiltonian)"
   ]
  },
  {
   "cell_type": "markdown",
   "id": "2d556bd9",
   "metadata": {},
   "source": [
    "Now we perform the adiabatic evolution on $^{10}Be$"
   ]
  },
  {
   "cell_type": "code",
   "execution_count": 397,
   "id": "23430083",
   "metadata": {},
   "outputs": [
    {
     "name": "stdout",
     "output_type": "stream",
     "text": [
      "(100, 1)\n",
      "-39.44968602416988\n"
     ]
    },
    {
     "data": {
      "image/png": "[encoded data removed]",
      "text/plain": [
       "<Figure size 640x480 with 1 Axes>"
      ]
     },
     "metadata": {},
     "output_type": "display_data"
    }
   ],
   "source": [
    "tf = 10\n",
    "tsteps = 100\n",
    "dt = tf / tsteps\n",
    "time = np.linspace(0, tf, tsteps)\n",
    "\n",
    "psi_ten = psi_ini_ten.copy()\n",
    "energy_ten = []\n",
    "spectrum_t_ten = []\n",
    "\n",
    "for i, t in enumerate(time):\n",
    "    H_t_ten = (1 - t/tf) * Driver_H_ten.hamiltonian + (t/tf) * NSM_H_ten.hamiltonian\n",
    "    energy_ten.append(psi_ten.conjugate().transpose().dot(H_t_ten.dot(psi_ten))) # we append <psi|H(t)|psi>\n",
    "    eigval_ten = eigsh(H_t_ten, k=1, return_eigenvectors=False)\n",
    "    spectrum_t_ten.append(eigval_ten)\n",
    "    psi_ten = expm_multiply(-1j * dt * H_t_ten,psi_ten)\n",
    "spectrum_arr_ten = np.asarray(spectrum_t_ten)\n",
    "print(spectrum_arr_ten.shape)\n",
    "\n",
    "# We plot the energy along time\n",
    "plt.figure()\n",
    "plt.plot(time, energy_ten)\n",
    "plt.xlabel('t')\n",
    "plt.ylabel('E (MeV)')\n",
    "print(np.real(energy_ten[tsteps-1]))"
   ]
  },
  {
   "cell_type": "markdown",
   "id": "0eb3358c",
   "metadata": {},
   "source": [
    "We see that the energy at the end of the process is the same as the GS energy of the NSM $\\rightarrow$ well executed!\n",
    "\n",
    "Finally, let's compare the plot above with part of the spectrum of $H(t)$"
   ]
  },
  {
   "cell_type": "code",
   "execution_count": 398,
   "id": "f2d84215",
   "metadata": {},
   "outputs": [
    {
     "data": {
      "text/plain": [
       "<matplotlib.legend.Legend at 0x112ae249250>"
      ]
     },
     "execution_count": 398,
     "metadata": {},
     "output_type": "execute_result"
    },
    {
     "data": {
      "image/png": "[encoded data removed]",
      "text/plain": [
       "<Figure size 640x480 with 1 Axes>"
      ]
     },
     "metadata": {},
     "output_type": "display_data"
    }
   ],
   "source": [
    "plt.figure()\n",
    "plt.plot(time, spectrum_t_ten, 'r-', label='e.v.')\n",
    "plt.plot(time, energy_ten, 'b--', label='<e>')\n",
    "plt.legend()"
   ]
  },
  {
   "cell_type": "markdown",
   "id": "ae2c86f3",
   "metadata": {},
   "source": [
    "## $^{12}Be$"
   ]
  },
  {
   "cell_type": "code",
   "execution_count": 399,
   "id": "01ca71ea",
   "metadata": {},
   "outputs": [
    {
     "name": "stdout",
     "output_type": "stream",
     "text": [
      "Computing the matrix, pls wait... (u_u) \n",
      "\n"
     ]
    },
    {
     "name": "stderr",
     "output_type": "stream",
     "text": [
      "100%|██████████| 12/12 [00:01<00:00,  8.09it/s]\n",
      "1424it [00:01, 781.97it/s]"
     ]
    },
    {
     "name": "stdout",
     "output_type": "stream",
     "text": [
      "GS energy = -41.221 MeV\n",
      "  (0, 0)\t-38.16192500000004\n",
      "  (0, 1)\t1.0430999999999995\n",
      "  (0, 2)\t1.1027500000000001\n",
      "  (0, 3)\t1.1027500000000001\n",
      "  (0, 4)\t-3.763858685577873\n",
      "  (1, 0)\t1.0430999999999995\n",
      "  (1, 1)\t-38.16192500000007\n",
      "  (1, 2)\t1.1027500000000008\n",
      "  (1, 3)\t1.1027500000000001\n",
      "  (1, 4)\t3.763858685577873\n",
      "  (2, 0)\t1.1027500000000001\n",
      "  (2, 1)\t1.1027500000000008\n",
      "  (2, 2)\t-32.12878750000006\n",
      "  (2, 3)\t-1.0019\n",
      "  (2, 4)\t1.942890293094024e-16\n",
      "  (3, 0)\t1.1027500000000001\n",
      "  (3, 1)\t1.1027500000000001\n",
      "  (3, 2)\t-1.0019\n",
      "  (3, 3)\t-32.12878750000006\n",
      "  (3, 4)\t-5.828670879282072e-16\n",
      "  (4, 0)\t-3.763858685577873\n",
      "  (4, 1)\t3.763858685577873\n",
      "  (4, 2)\t1.942890293094024e-16\n",
      "  (4, 3)\t-5.828670879282072e-16\n",
      "  (4, 4)\t-27.17025000000005\n"
     ]
    },
    {
     "name": "stderr",
     "output_type": "stream",
     "text": [
      "\n"
     ]
    }
   ],
   "source": [
    "# 12-Be (2 protons and 6 neutrons in p-shell):\n",
    "p = 2\n",
    "n_twelve = 6\n",
    "\n",
    "NSM_H_twelve = FermiHubbardHamiltonian(size_a=nuc_modes_per_i, size_b=nuc_modes_per_i, nparticles_a=p, nparticles_b=n_twelve, \n",
    "                                symmetries=[SPS.total_M_zero]) # we force M=0 so we don't get the full manybody basis\n",
    "# Also, I changed Ema's code where a was neutrons and b protons, since they're just numbers (and the same in this case)\n",
    "\n",
    "NSM_H_twelve.get_external_potential(external_potential=SPS.energies)\n",
    "twobody_dict_twelve, _ = get_twobody_nuclearshell_model(file_name=p_shell)\n",
    "\n",
    "NSM_H_twelve.get_twobody_interaction(twobody_dict_twelve)\n",
    "NSM_H_twelve.get_hamiltonian() # Now we have the Target Hamiltonian ready\n",
    "\n",
    "egs, psigs = NSM_H_twelve.get_spectrum(n_states=1) # just the ground state (energy in MeV's)\n",
    "print(f'GS energy = {egs[0]:.5} MeV')\n",
    "print(NSM_H_twelve.hamiltonian)"
   ]
  },
  {
   "cell_type": "markdown",
   "id": "24d778ac",
   "metadata": {},
   "source": [
    "Driver Hamiltonian for $^{12}Be$"
   ]
  },
  {
   "cell_type": "code",
   "execution_count": 400,
   "id": "d8f0307e",
   "metadata": {},
   "outputs": [
    {
     "name": "stdout",
     "output_type": "stream",
     "text": [
      "MINIMUM BASIS: [0 1 1 0 0 0 1 1 1 1 1 1]\n",
      "  (0, 0)\t-28.621443750000047\n",
      "  (1, 1)\t-38.16192500000006\n",
      "  (2, 2)\t-33.391684375000054\n",
      "  (3, 3)\t-33.391684375000054\n",
      "  (4, 4)\t-28.621443750000047\n"
     ]
    }
   ],
   "source": [
    "# We select the product state of the basis that minimizes the Hamiltonian\n",
    "min = 10000\n",
    "min_b = 0.\n",
    "\n",
    "for i, b in enumerate(NSM_H_twelve.basis):\n",
    "    psi = np.zeros(NSM_H_twelve.basis.shape[0]) # we initialize the state\n",
    "    psi[i] = 1.0\n",
    "    val = np.conj(psi) @ NSM_H_twelve.hamiltonian @ psi\n",
    "    if val < min:\n",
    "        min = val # Minimum energy!\n",
    "        psi_base = psi \n",
    "        min_b_twelve = b\n",
    "print('MINIMUM BASIS:',min_b_twelve) # THIS is the minimum energy Slater determinant\n",
    "psi_ini_twelve = psi_base.copy()\n",
    "\n",
    "# Get the external potential\n",
    "ext_pot_twelve = np.zeros(2 * nuc_modes_per_i)\n",
    "ext_pot_twelve = (min / (p + n_twelve)) * min_b_twelve\n",
    "\n",
    "# Now we get the Driver Hamiltonian\n",
    "Driver_H_twelve = FermiHubbardHamiltonian(size_a=nuc_modes_per_i, size_b=nuc_modes_per_i, nparticles_a=p, nparticles_b=n_twelve, \n",
    "                                   symmetries=[SPS.total_M_zero])\n",
    "Driver_H_twelve.get_external_potential(ext_pot_twelve)\n",
    "Driver_H_twelve.get_hamiltonian()\n",
    "print(Driver_H_twelve.hamiltonian)"
   ]
  },
  {
   "cell_type": "markdown",
   "id": "80304bf7",
   "metadata": {},
   "source": [
    "Now we perform the adiabatic evolution on $^{12}Be$"
   ]
  },
  {
   "cell_type": "code",
   "execution_count": 401,
   "id": "a6f72f86",
   "metadata": {},
   "outputs": [
    {
     "name": "stdout",
     "output_type": "stream",
     "text": [
      "-41.21638666472016\n"
     ]
    },
    {
     "data": {
      "image/png": "[encoded data removed]",
      "text/plain": [
       "<Figure size 640x480 with 1 Axes>"
      ]
     },
     "metadata": {},
     "output_type": "display_data"
    }
   ],
   "source": [
    "tf = 10\n",
    "tsteps = 100\n",
    "dt = tf / tsteps\n",
    "time = np.linspace(0, tf, tsteps)\n",
    "\n",
    "psi_twelve = psi_ini_twelve.copy()\n",
    "energy_twelve = []\n",
    "spectrum_t_twelve = []\n",
    "\n",
    "for i, t in enumerate(time):\n",
    "    H_t_twelve = (1 - t/tf) * Driver_H_twelve.hamiltonian + (t/tf) * NSM_H_twelve.hamiltonian\n",
    "    energy_twelve.append(psi_twelve.conjugate().transpose().dot(H_t_twelve.dot(psi_twelve))) # we append <psi|H(t)|psi>\n",
    "    eigval_twelve = eigsh(H_t_twelve, k=1, return_eigenvectors=False)\n",
    "    spectrum_t_twelve.append(eigval_twelve)\n",
    "    psi_twelve = expm_multiply(-1j * dt * H_t_twelve,psi_twelve)\n",
    "spectrum_arr = np.asarray(spectrum_t_twelve)\n",
    "\n",
    "# We plot the energy along time\n",
    "plt.figure()\n",
    "plt.plot(time, energy_twelve)\n",
    "plt.xlabel('t')\n",
    "plt.ylabel('E (MeV)')\n",
    "print(np.real(energy_twelve[tsteps-1]))"
   ]
  },
  {
   "cell_type": "markdown",
   "id": "5b53a60f",
   "metadata": {},
   "source": [
    "We see that the energy at the end of the process is approx. the same as the GS energy of the NSM $\\rightarrow$ well executed!\n",
    "\n",
    "Finally, let's compare the plot above with part of the spectrum of $H(t)$"
   ]
  },
  {
   "cell_type": "code",
   "execution_count": 402,
   "id": "fe58d18c",
   "metadata": {},
   "outputs": [
    {
     "data": {
      "text/plain": [
       "<matplotlib.legend.Legend at 0x112adcd3150>"
      ]
     },
     "execution_count": 402,
     "metadata": {},
     "output_type": "execute_result"
    },
    {
     "data": {
      "image/png": "[encoded data removed]",
      "text/plain": [
       "<Figure size 640x480 with 1 Axes>"
      ]
     },
     "metadata": {},
     "output_type": "display_data"
    }
   ],
   "source": [
    "plt.figure()\n",
    "plt.plot(time, spectrum_t_twelve, 'r-', label='e.v.')\n",
    "plt.plot(time, energy_twelve, 'b--', label='<e>')\n",
    "plt.legend()"
   ]
  }
 ],
 "metadata": {
  "kernelspec": {
   "display_name": "base",
   "language": "python",
   "name": "python3"
  },
  "language_info": {
   "codemirror_mode": {
    "name": "ipython",
    "version": 3
   },
   "file_extension": ".py",
   "mimetype": "text/x-python",
   "name": "python",
   "nbconvert_exporter": "python",
   "pygments_lexer": "ipython3",
   "version": "3.11.5"
  }
 },
 "nbformat": 4,
 "nbformat_minor": 5
}
