{
 "cells": [
  {
   "cell_type": "code",
   "execution_count": 3,
   "id": "2a5dcef8",
   "metadata": {},
   "outputs": [],
   "source": [
    "\n",
    "from src.hamiltonian_utils import FermiHubbardHamiltonian\n",
    "from src.nuclear_physics_utils import get_twobody_nuclearshell_model,SingleParticleState,QuadrupoleOperator,J2operator\n",
    "import numpy as np\n",
    "import torch\n",
    "from typing import Dict\n",
    "import scipy\n",
    "from src.qml_models import AdaptVQEFermiHubbard\n",
    "from src.qml_utils.train import Fit\n",
    "from src.qml_utils.utils import configuration\n",
    "from scipy.sparse.linalg import eigsh,expm_multiply\n",
    "from tqdm import trange\n",
    "import matplotlib.pyplot as plt\n",
    "\n",
    "from scipy.sparse import lil_matrix\n",
    "file_name='data/usdb.nat'\n",
    "\n",
    "SPS=SingleParticleState(file_name=file_name)\n",
    "\n",
    "nparticles_a=2\n",
    "nparticles_b=2\n",
    "\n",
    "size_a=SPS.energies.shape[0]//2\n",
    "size_b=SPS.energies.shape[0]//2\n",
    "\n",
    "title=r'$^{18}$O'"
   ]
  },
  {
   "cell_type": "code",
   "execution_count": 4,
   "id": "44c1ac76",
   "metadata": {},
   "outputs": [
    {
     "name": "stdout",
     "output_type": "stream",
     "text": [
      "size= 24 12\n",
      "Computing the matrix, pls wait... (u_u) \n",
      "\n"
     ]
    },
    {
     "name": "stderr",
     "output_type": "stream",
     "text": [
      "100%|██████████| 24/24 [01:11<00:00,  2.98s/it]\n",
      "16496it [01:22, 198.88it/s]\n"
     ]
    },
    {
     "name": "stdout",
     "output_type": "stream",
     "text": [
      "[-41.39649007]\n",
      "[[1 1 0 ... 0 0 0]\n",
      " [1 1 0 ... 0 0 1]\n",
      " [1 0 1 ... 0 0 0]\n",
      " ...\n",
      " [0 0 0 ... 0 0 0]\n",
      " [0 0 0 ... 0 0 0]\n",
      " [0 0 0 ... 1 0 0]]\n",
      "  (0, 0)\t-21.637774603174606\n",
      "  (0, 1)\t2.1441927358413584\n",
      "  (0, 2)\t-0.10915079365079428\n",
      "  (0, 3)\t-0.6398020847719197\n",
      "  (0, 4)\t0.3682345247093515\n",
      "  (0, 5)\t0.5211067201086399\n",
      "  (0, 6)\t-0.9690507936507938\n",
      "  (0, 7)\t0.22802569399122857\n",
      "  (0, 9)\t-0.632878191158204\n",
      "  (0, 10)\t0.45225308401658526\n",
      "  (0, 11)\t0.2665777205429144\n",
      "  (0, 12)\t-1.2129704215656378\n",
      "  (0, 15)\t-0.5542253968253976\n",
      "  (0, 16)\t0.43082268503532073\n",
      "  (0, 20)\t0.03468810059641142\n",
      "  (0, 21)\t0.2890940607855491\n",
      "  (0, 22)\t-0.2239312965819814\n",
      "  (0, 26)\t-0.45876507936507965\n",
      "  (0, 27)\t0.4680380952380956\n",
      "  (0, 34)\t1.096283198521862\n",
      "  (0, 40)\t-0.3682345247093515\n",
      "  (0, 41)\t0.19362401723902906\n",
      "  (0, 42)\t-0.5858860751129027\n",
      "  (0, 43)\t-0.04349146264472342\n",
      "  (0, 44)\t-0.2665777205429144\n",
      "  :\t:\n",
      "  (639, 591)\t-0.39534000000000014\n",
      "  (639, 599)\t0.46263760950344823\n",
      "  (639, 600)\t-0.4744024744405058\n",
      "  (639, 603)\t0.37221387999358563\n",
      "  (639, 604)\t-0.64662\n",
      "  (639, 605)\t1.0419599999999998\n",
      "  (639, 613)\t-0.003633314222904818\n",
      "  (639, 614)\t0.28701475557665374\n",
      "  (639, 617)\t-0.3722138799935857\n",
      "  (639, 618)\t1.04196\n",
      "  (639, 619)\t-0.6466199999999999\n",
      "  (639, 626)\t-0.10770954742210674\n",
      "  (639, 627)\t-0.2724458866852052\n",
      "  (639, 628)\t-0.013171599755556457\n",
      "  (639, 629)\t0.00760462666452856\n",
      "  (639, 630)\t-0.9184600000000009\n",
      "  (639, 631)\t-0.7283125530979132\n",
      "  (639, 632)\t-0.2896539458273154\n",
      "  (639, 633)\t0.3472409894610724\n",
      "  (639, 634)\t0.977133826556014\n",
      "  (639, 635)\t0.1295371825641837\n",
      "  (639, 636)\t-0.568096333872432\n",
      "  (639, 637)\t0.7350834961886532\n",
      "  (639, 638)\t0.3646092533290572\n",
      "  (639, 639)\t2.6628799999999995\n",
      "total_m= [7.00665654e-18]\n"
     ]
    }
   ],
   "source": [
    "\n",
    "# Compute the J^2 value\n",
    "#J2Class=J2operator(size_a=size_a,size_b=size_b,nparticles_a=nparticles_a,nparticles_b=nparticles_b,single_particle_states=SPS.state_encoding,j_square_filename=file_name+'_j2',symmetries=[SPS.total_M_zero])\n",
    "\n",
    "#Quadrupole Operator\n",
    "\n",
    "\n",
    "# compute the NSM Hamiltonian\n",
    "NSMHamiltonian=FermiHubbardHamiltonian(size_a=size_a,size_b=size_b,nparticles_a=nparticles_a,nparticles_b=nparticles_b,symmetries=[SPS.total_M_zero])\n",
    "print('size=',size_a+size_b,size_b)\n",
    "NSMHamiltonian.get_external_potential(external_potential=SPS.energies[:size_a+size_b])\n",
    "twobody_matrix,energies=get_twobody_nuclearshell_model(file_name=file_name)\n",
    "\n",
    "NSMHamiltonian.get_twobody_interaction(twobody_dict=twobody_matrix)\n",
    "\n",
    "NSMHamiltonian.get_hamiltonian()\n",
    "\n",
    "egs,psi0=NSMHamiltonian.get_spectrum(n_states=1)\n",
    "\n",
    "print(egs)\n",
    "print(NSMHamiltonian.basis)\n",
    "print(NSMHamiltonian.hamiltonian)\n",
    "print('total_m=',SPS.compute_m_exp_value(psi=psi0,basis=NSMHamiltonian.basis))"
   ]
  }
 ],
 "metadata": {
  "kernelspec": {
   "display_name": "dft_env",
   "language": "python",
   "name": "python3"
  },
  "language_info": {
   "codemirror_mode": {
    "name": "ipython",
    "version": 3
   },
   "file_extension": ".py",
   "mimetype": "text/x-python",
   "name": "python",
   "nbconvert_exporter": "python",
   "pygments_lexer": "ipython3",
   "version": "3.9.7"
  }
 },
 "nbformat": 4,
 "nbformat_minor": 5
}
