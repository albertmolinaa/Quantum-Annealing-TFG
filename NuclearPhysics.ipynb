{
 "cells": [
  {
   "cell_type": "markdown",
   "metadata": {},
   "source": [
    "## Adapt-VQE for Nuclear Shell Model"
   ]
  },
  {
   "cell_type": "code",
   "execution_count": null,
   "metadata": {},
   "outputs": [],
   "source": [
    "from src.hartree_fock_library import HartreeFock,HartreeFockVariational,gram_schmidt\n",
    "from src.hamiltonian_utils import get_twobody_nuclearshell_model,FermiHubbardHamiltonian,SingleParticleState\n",
    "import numpy as np\n",
    "import torch\n",
    "from typing import Dict,List\n",
    "from src.qml_models import AdaptVQEFermiHubbard\n",
    "from src.qml_utils.train import Fit\n",
    "from src.qml_utils.utils import configuration\n",
    "#from src.qml_models import AdaptVQEFermiHubbard\n",
    "import matplotlib.pyplot as plt\n",
    "from scipy import sparse\n",
    "#from adapt_vqe_old import AdaptVQEFermiHubbard"
   ]
  },
  {
   "cell_type": "markdown",
   "metadata": {},
   "source": [
    "#### Parameters and Many-Body system"
   ]
  },
  {
   "cell_type": "code",
   "execution_count": null,
   "metadata": {},
   "outputs": [],
   "source": [
    "twobody_matrix,energies=get_twobody_nuclearshell_model(file_name='data/cki')\n",
    "\n",
    "SPS=SingleParticleState(file_name='data/cki')\n",
    "\n",
    "\n",
    "\n",
    "print(energies.shape)\n",
    "print(twobody_matrix)\n",
    "\n",
    "#%% initialize the FH Hamiltonian\n",
    "\n",
    "FHHamiltonian=FermiHubbardHamiltonian(size_a=energies.shape[0]//2,size_b=energies.shape[0]//2,nparticles_a=1,nparticles_b=3,symmetries=[SPS.total_M_zero])\n",
    "\n",
    "\n",
    "print(FHHamiltonian.basis.shape)\n",
    "\n",
    "\n",
    "\n",
    "FHHamiltonian.get_external_potential(external_potential=energies)\n",
    "FHHamiltonian.get_twobody_interaction(twobody_dict=twobody_matrix)\n",
    "FHHamiltonian.get_hamiltonian()\n",
    "\n",
    "es,psi0=FHHamiltonian.get_spectrum(n_states=2)\n",
    "egs=es[0]\n",
    "e1st=es[1]\n",
    "print(egs,e1st)\n",
    "\n",
    "\n",
    "\n",
    "\n",
    "\n",
    "\n"
   ]
  },
  {
   "cell_type": "markdown",
   "metadata": {},
   "source": [
    "#### Hartree Fock (Optional)"
   ]
  },
  {
   "cell_type": "code",
   "execution_count": null,
   "metadata": {},
   "outputs": [],
   "source": [
    "# %% Hartree fock initialization\n",
    "\n",
    "HFclass = HartreeFock(size=energies.shape[0]//2, nspecies=2)\n",
    "\n",
    "HFclass.get_hamiltonian(twobody_interaction=twobody_matrix, external_potential=energies)\n",
    "\n",
    "de,history_herm,ortho_history=HFclass.selfconsistent_computation(eta=1,epochs=5)"
   ]
  },
  {
   "cell_type": "code",
   "execution_count": null,
   "metadata": {},
   "outputs": [],
   "source": [
    "plt.plot(history_herm)\n",
    "plt.show()\n",
    "\n",
    "plt.plot(ortho_history)\n",
    "plt.show()\n",
    "\n",
    "energy=HFclass.compute_energy()\n",
    "\n",
    "print(energy)\n",
    "\n",
    "plt.plot(de)\n",
    "plt.show()\n",
    "\n",
    "plt.imshow(np.real(HFclass.weights))\n",
    "plt.colorbar()\n",
    "plt.show()\n",
    "\n",
    "\n",
    "# check the degeneracy\n",
    "print(de[0,:8])\n",
    "\n",
    "coeff = np.random.uniform(0, 1, size=(8, 8))\n",
    "\n",
    "\n",
    "ortho_coeff = gram_schmidt(coeff)\n",
    "\n",
    "plt.imshow(ortho_coeff)\n",
    "plt.colorbar()\n",
    "plt.show()\n",
    "\n"
   ]
  },
  {
   "cell_type": "code",
   "execution_count": null,
   "metadata": {},
   "outputs": [],
   "source": [
    "psi_hf = HFclass.create_hf_psi(FHHamiltonian.basis, nparticles=4)\n",
    "print(psi_hf.conjugate().transpose() @ FHHamiltonian.hamiltonian @ psi_hf)\n",
    "\n",
    "overlap_hf=[]\n",
    "js = []\n",
    "ms = []\n",
    "for i in range(20):\n",
    "    f = psi_hf.conjugate().dot(psi0[:, i]) * psi_hf.conjugate().dot(psi0[:, i]).conjugate()\n",
    "    overlap_hf.append(f)\n",
    "    j, m = SPS.compute_j_m_exp_value(psi=psi0[:, i], basis=FHHamiltonian.basis)\n",
    "    js.append(j)\n",
    "    ms.append(m)\n",
    "\n",
    "fig, ax = plt.subplots(figsize=(10, 10))\n",
    "\n",
    "ax_twin=ax.twinx()\n",
    "ax.plot(np.arange(20),overlap_hf,color='red')\n",
    "ax.scatter(np.arange(20), overlap_hf, color=\"red\", s=40)\n",
    "\n",
    "ax_twin.plot(np.arange(20), ms)\n",
    "ax_twin.scatter(np.arange(20), ms, s=40)\n",
    "ax_twin.axhline(y=0,color='green',linewidth=2,linestyle='--')\n",
    "ax.tick_params(which='major',labelsize=20)\n",
    "ax_twin.tick_params(which=\"major\", labelsize=20)\n",
    "ax_twin.set_ylabel(r'$m$',fontsize=40)\n",
    "ax.set_ylabel(r\"$|c_n|^2$\", fontsize=40)\n",
    "ax.set_xlabel(r'eigenstates of $H$',fontsize=40)\n",
    "plt.xticks(np.arange(20),np.arange(20))\n",
    "plt.show()\n",
    "\n",
    "fig, ax = plt.subplots(figsize=(10, 10))\n",
    "\n",
    "ax_twin = ax.twinx()\n",
    "ax.plot(np.arange(20), overlap_hf, color=\"red\")\n",
    "ax.scatter(np.arange(20), overlap_hf, color=\"red\", s=40)\n",
    "\n",
    "ax_twin.plot(np.arange(20), js)\n",
    "ax_twin.scatter(np.arange(20), js, s=40)\n",
    "ax_twin.axhline(y=0, color=\"green\", linewidth=2, linestyle=\"--\")\n",
    "ax.tick_params(which=\"major\", labelsize=20)\n",
    "ax_twin.tick_params(which=\"major\", labelsize=20)\n",
    "ax_twin.set_ylabel(r\"$j$\", fontsize=40)\n",
    "ax.set_ylabel(r\"$|c_n|^2$\", fontsize=40)\n",
    "ax.set_xlabel(r\"eigenstates of $H$\", fontsize=40)\n",
    "plt.xticks(np.arange(20), np.arange(20))\n",
    "plt.show()"
   ]
  },
  {
   "cell_type": "code",
   "execution_count": null,
   "metadata": {},
   "outputs": [],
   "source": [
    "print(np.linalg.norm(HFclass.weights[:, 0]))\n",
    "print(np.sum(HFclass.weights[0, :].conj() * HFclass.weights[:, 1]))\n",
    "\n",
    "plt.plot(de)\n",
    "# plt.semilogy()\n",
    "# plt.ylim([0,0.001])\n",
    "plt.show()\n",
    "\n",
    "plt.title(r'$C_{a\\alpha}$',fontsize=40)\n",
    "plt.imshow(np.real(HFclass.weights))\n",
    "plt.xlabel(r'$a$',fontsize=40)\n",
    "plt.ylabel(r\"$\\alpha$\", fontsize=40)\n",
    "plt.colorbar()\n",
    "plt.show()\n",
    "plt.imshow(np.imag(HFclass.weights))\n",
    "plt.colorbar()\n",
    "plt.show()\n",
    "\n",
    "for i in range(energies.shape[0]//2):\n",
    "    for j in range(i,energies.shape[0]//2):\n",
    "        print(i,j)\n",
    "        print(np.dot(HFclass.weights[:,i],b=(HFclass.weights[:,j])))"
   ]
  },
  {
   "cell_type": "markdown",
   "metadata": {},
   "source": [
    "#### Minimum energy basis state initialization (Optional)"
   ]
  },
  {
   "cell_type": "code",
   "execution_count": null,
   "metadata": {},
   "outputs": [],
   "source": [
    "# old initialization works better than Hartree Fock\n",
    "min = 10000\n",
    "for i, b in enumerate(FHHamiltonian.basis):\n",
    "    psi = np.zeros(FHHamiltonian.basis.shape[0])\n",
    "    psi[i] = 1.0\n",
    "    value = np.conj(psi) @ FHHamiltonian.hamiltonian @ psi\n",
    "    if value < min:\n",
    "        min = value\n",
    "        b_min=b\n",
    "        print(value)\n",
    "        print(b)\n",
    "        psi_base = psi\n",
    "\n",
    "# print('min=',min)\n",
    "# print(b_min)\n",
    "# psi_base=np.zeros(FHHamiltonian.basis.shape[0])\n",
    "# print(FHHamiltonian.basis)\n",
    "# psi_base[8]=1.\n",
    "# value = np.conj(psi_base) @ FHHamiltonian.hamiltonian @ psi_base\n",
    "# print(value)\n",
    "\n",
    "\n",
    "# overlap_base = []\n",
    "\n",
    "# for i in range(psi0.shape[1]):\n",
    "#     f = (\n",
    "#         psi_base.conjugate().dot(psi0[:, i])\n",
    "#         * psi_base.conjugate().dot(psi0[:, i]).conjugate()\n",
    "#     )\n",
    "\n",
    "#     overlap_base.append(f)\n",
    "\n",
    "\n",
    "# fig, ax = plt.subplots(figsize=(10, 10))\n",
    "# ax_twin = ax.twinx()\n",
    "# ax.plot(np.arange(20), overlap_base, color=\"red\")\n",
    "# ax.scatter(np.arange(20), overlap_base, color=\"red\", s=40)\n",
    "\n",
    "# ax_twin.axhline(y=0, color=\"green\", linewidth=2, linestyle=\"--\")\n",
    "# ax.tick_params(which=\"major\", labelsize=20)\n",
    "# ax_twin.tick_params(which=\"major\", labelsize=20)\n",
    "# ax_twin.set_ylabel(r\"$m$\", fontsize=40)\n",
    "# ax.set_ylabel(r\"$|c_n|^2$\", fontsize=40)\n",
    "# ax.set_xlabel(r\"eigenstates of $H$\", fontsize=40)\n",
    "# plt.xticks(np.arange(20), np.arange(20))\n",
    "# plt.show()\n",
    "\n",
    "# fig, ax = plt.subplots(figsize=(10, 10))\n",
    "# ax_twin = ax.twinx()\n",
    "# ax.plot(np.arange(20), overlap_base, color=\"red\")\n",
    "# ax.scatter(np.arange(20), overlap_base, color=\"red\", s=40)\n",
    "\n",
    "\n",
    "# ax_twin.axhline(y=0, color=\"green\", linewidth=2, linestyle=\"--\")\n",
    "# ax.tick_params(which=\"major\", labelsize=20)\n",
    "# ax_twin.tick_params(which=\"major\", labelsize=20)\n",
    "# ax_twin.set_ylabel(r\"$j$\", fontsize=40)\n",
    "# ax.set_ylabel(r\"$|c_n|^2$\", fontsize=40)\n",
    "# ax.set_xlabel(r\"eigenstates of $H$\", fontsize=40)\n",
    "# plt.xticks(np.arange(20), np.arange(20))\n",
    "# plt.show()"
   ]
  },
  {
   "cell_type": "markdown",
   "metadata": {},
   "source": [
    "#### Adapt-VQE run"
   ]
  },
  {
   "cell_type": "code",
   "execution_count": null,
   "metadata": {},
   "outputs": [],
   "source": [
    "print(FHHamiltonian.adag_adag_a_a_matrix(i1=0,i2=2,j1=1,j2=4))\n",
    "for i in range(FHHamiltonian.basis.shape[0]):\n",
    "    print(FHHamiltonian.basis[i,:6],FHHamiltonian.basis[i,6:],i,'\\n')\n",
    "\n",
    "print(FHHamiltonian.basis)"
   ]
  },
  {
   "cell_type": "markdown",
   "metadata": {},
   "source": [
    "Define Miquel constrainer as a function"
   ]
  },
  {
   "cell_type": "code",
   "execution_count": null,
   "metadata": {},
   "outputs": [],
   "source": [
    "def miquel_constrainer(idxs:List[int]):\n",
    "    \n",
    "    if SPS.projection_conservation(idxs=idxs):\n",
    "        if FHHamiltonian.charge_computation(initial_indices=idxs[:2],final_indices=idxs[2:]):\n",
    "            op=FHHamiltonian.adag_adag_a_a_matrix(idxs[0],idxs[1],idxs[2],idxs[3])\n",
    "            diag_op = sparse.diags(op.diagonal())\n",
    "\n",
    "            non_diag_op =np.abs( op - diag_op)\n",
    "            if not(np.isclose(non_diag_op.sum(),0.)):\n",
    "                condition=True\n",
    "            else:\n",
    "                condition=False\n",
    "        \n",
    "        else:\n",
    "            condition=False\n",
    "    else:\n",
    "        condition=False\n",
    "                \n",
    "    return condition\n",
    "\n",
    "\n",
    "def miquel_constrainer_2(idxs:List[int]):\n",
    "    _,_,j0,_,_,tz0=SPS.state_encoding[idxs[0]]\n",
    "    _,_,j1,_,_,tz1=SPS.state_encoding[idxs[1]]\n",
    "    _,_,j2,_,_,tz2=SPS.state_encoding[idxs[2]]\n",
    "    _,_,j3,_,_,tz3=SPS.state_encoding[idxs[3]]\n",
    "    \n",
    "    j_tot_i = np.arange(start=int(np.abs(j0 - j1)), stop=int(j0 + j1) + 1)  # Include j0 + j1\n",
    "    j_tot_f = np.arange(start=int(np.abs(j2 - j3)), stop=int(j2 + j3) + 1)  # Include j2 + j3\n",
    "    #print(j_tot_i,j0,j1)\n",
    "    if tz0==tz1:\n",
    "        if j0==j1:\n",
    "            j_tot_i=[j for j in j_tot_i if j % 2==0 ]\n",
    "            #print('i=',j_tot_i,j0,j1)\n",
    "        if j2==j3:\n",
    "            j_tot_f=[j for j in j_tot_f if j % 2==0 ]\n",
    "            #print('f=',j_tot_f,j2,j3,'\\n')\n",
    "        if set(j_tot_i) & set(j_tot_f):\n",
    "            \n",
    "            \n",
    "            condition=True\n",
    "        else:\n",
    "            \n",
    "            condition=False\n",
    "\n",
    "    else:\n",
    "\n",
    "       \n",
    "        if set(j_tot_i) & set(j_tot_f):\n",
    "            condition=True\n",
    "        else:\n",
    "\n",
    "            condition=False\n",
    "\n",
    "\n",
    "            \n",
    "    return condition\n",
    "\n",
    "# print(miquel_constrainer([0,0,0,0]))"
   ]
  },
  {
   "cell_type": "markdown",
   "metadata": {},
   "source": [
    "##### Set the operator pool"
   ]
  },
  {
   "cell_type": "code",
   "execution_count": null,
   "metadata": {},
   "outputs": [],
   "source": [
    "operator_pool:Dict={}\n",
    "\n",
    "operator_pool=FHHamiltonian.set_operator_pool(operator_pool=operator_pool,conditions=[SPS.projection_conservation,miquel_constrainer,miquel_constrainer_2],nbody='two')\n",
    "\n",
    "# miquel_operator_pool=np.load('Li8_operators.npy')\n",
    "\n",
    "# # 0    1    2    3   4   5\n",
    "# # 3/2 1/2 -1/2 -3/2 1/2 -1/2 \n",
    "# # -3/2 -1/2 1/2 3/2 -1/2 1/2\n",
    "# translator=[3,2,1,0,5,4,9,8,7,6,11,10]\n",
    "\n",
    "# test_op_pool=[]\n",
    "# for op in miquel_operator_pool:\n",
    "#     test_op_pool.append((translator[op[0]],translator[op[1]],translator[op[2]],translator[op[3]]))\n",
    "    \n",
    "# # print(test_op_pool)\n",
    "# # print(operator_pool.keys())\n",
    "\n",
    "# op_pool_1=list(operator_pool.keys())\n",
    "# op_pool_2=test_op_pool\n",
    "# print(op_pool_2[10])\n",
    "# intersection = list(set(op_pool_1).intersection(op_pool_2))\n",
    "# print(len(intersection)) \n",
    "\n",
    "# print(op_pool_1)\n",
    "# excluded = list(set(op_pool_1).symmetric_difference(op_pool_2))\n",
    "# print(len(excluded))\n",
    "\n",
    "# new_operator_pool={}\n",
    "# for idxs in test_op_pool:\n",
    "#     op=FHHamiltonian.adag_adag_a_a_matrix(i1=idxs[0],i2=idxs[1],j1=idxs[2],j2=idxs[3])\n",
    "#     op_minus=FHHamiltonian.adag_adag_a_a_matrix(i1=idxs[3],i2=idxs[2],j1=idxs[1],j2=idxs[0])\n",
    "#     new_operator_pool[idxs]=op-op_minus\n",
    "    \n",
    "# print(len(new_operator_pool))\n"
   ]
  },
  {
   "cell_type": "markdown",
   "metadata": {},
   "source": [
    "##### Run the ADAPT-VQE"
   ]
  },
  {
   "cell_type": "code",
   "execution_count": null,
   "metadata": {},
   "outputs": [],
   "source": [
    "\n",
    "\n",
    "# %%\n",
    "random=False\n",
    "\n",
    "\n",
    "\n",
    "\n",
    "model=AdaptVQEFermiHubbard()\n",
    "\n",
    "model.set_hamiltonian(FHHamiltonian.hamiltonian)\n",
    "model.set_reference_psi(psi_base,energy_gs=egs)\n",
    "model.set_operators_pool(operator_pool=operator_pool,random=random)\n",
    "\n",
    "#%%\n",
    "\n",
    "fit=Fit(method='L-BFGS-B',tolerance_opt=10**-7)\n",
    "\n",
    "fit.configuration_checkpoint=model.callback\n",
    "fit.init_model(model)\n",
    "history_energy,history_grad=fit.run()\n"
   ]
  },
  {
   "cell_type": "code",
   "execution_count": null,
   "metadata": {},
   "outputs": [],
   "source": [
    "print(model.operator_action_info)\n",
    "translator=np.array([3,2,1,0,5,4,9,8,7,6,11,10])\n",
    "# for i in range(12):\n",
    "#     print(SPS.state_encoding[i],i,'\\n')\n",
    "    \n",
    "for op in model.operator_action_info:\n",
    "    print(translator[op[0]],translator[op[1]],translator[op[2]],translator[op[3]],'\\n')\n",
    "    "
   ]
  },
  {
   "cell_type": "code",
   "execution_count": null,
   "metadata": {},
   "outputs": [],
   "source": [
    "rel_error_base = [np.abs((e_min - egs) / egs) for e_min in history_energy]"
   ]
  },
  {
   "cell_type": "code",
   "execution_count": null,
   "metadata": {},
   "outputs": [],
   "source": [
    "rel_error_hf = [np.abs((e_min - egs) / egs) for e_min in history_energy]"
   ]
  },
  {
   "cell_type": "code",
   "execution_count": null,
   "metadata": {},
   "outputs": [],
   "source": [
    "plt.figure(figsize=(10,10))\n",
    "plt.plot(rel_error_hf,linewidth=5,label='HF')\n",
    "plt.plot(rel_error_base, linewidth=5,label='Basis Element')\n",
    "plt.xlabel('layers',fontsize=40)\n",
    "plt.legend(fontsize=30)\n",
    "plt.semilogy()\n",
    "plt.ylabel(r'$\\Delta_r e$',fontsize=40)\n",
    "plt.tick_params(axis='both', which='major', labelsize=40)\n",
    "plt.tick_params(axis=\"both\", which=\"minor\", labelsize=40)\n",
    "plt.show()"
   ]
  },
  {
   "cell_type": "markdown",
   "metadata": {},
   "source": [
    "## QAOA for Nuclear Shell Model"
   ]
  },
  {
   "cell_type": "code",
   "execution_count": null,
   "metadata": {},
   "outputs": [],
   "source": [
    "from src.hartree_fock_library import HartreeFock,HartreeFockVariational,gram_schmidt\n",
    "from src.hamiltonian_utils import get_twobody_nuclearshell_model,FermiHubbardHamiltonian,SingleParticleState\n",
    "import numpy as np\n",
    "import torch\n",
    "from typing import Dict,List\n",
    "from src.qml_models import QAOAFermiHubbard\n",
    "from src.qml_utils.train import Fit\n",
    "from src.qml_utils.utils import configuration\n",
    "#from src.qml_models import AdaptVQEFermiHubbard\n",
    "import matplotlib.pyplot as plt\n",
    "#from adapt_vqe_old import AdaptVQEFermiHubbard"
   ]
  },
  {
   "cell_type": "markdown",
   "metadata": {},
   "source": [
    "#### Parameters and Many-Body system"
   ]
  },
  {
   "cell_type": "code",
   "execution_count": null,
   "metadata": {},
   "outputs": [],
   "source": [
    "twobody_matrix,_,_,energies=get_twobody_nuclearshell_model(file_name='data/cki')\n",
    "\n",
    "SPS=SingleParticleState(file_name='data/cki')\n",
    "\n",
    "\n",
    "\n",
    "print(energies.shape)\n",
    "print(twobody_matrix)\n",
    "\n",
    "size_a=energies.shape[0]//2\n",
    "size_b=energies.shape[0]//2\n",
    "nparticles_a=2\n",
    "nparticles_b=2\n",
    "\n",
    "#%% initialize the FH Hamiltonian\n",
    "\n",
    "FHHamiltonian=FermiHubbardHamiltonian(size_a=size_a,size_b=size_b,nparticles_a=nparticles_a,nparticles_b=nparticles_b,)\n",
    "\n",
    "\n",
    "print(FHHamiltonian.basis.shape)\n",
    "\n",
    "\n",
    "\n",
    "FHHamiltonian.get_external_potential(external_potential=energies)\n",
    "FHHamiltonian.get_twobody_interaction(twobody_dict=twobody_matrix)\n",
    "FHHamiltonian.get_hamiltonian()\n",
    "\n",
    "es,psi0=FHHamiltonian.get_spectrum(n_states=20)\n",
    "egs=es[0]\n",
    "e1st=es[1]\n",
    "print(egs,e1st)\n",
    "\n",
    "\n",
    "\n",
    "\n",
    "\n",
    "\n"
   ]
  },
  {
   "cell_type": "markdown",
   "metadata": {},
   "source": [
    "#### Driving Hamiltonian"
   ]
  },
  {
   "cell_type": "code",
   "execution_count": null,
   "metadata": {},
   "outputs": [],
   "source": [
    "t=3.\n",
    "DrivingHamiltonian=FermiHubbardHamiltonian(size_a=size_a,size_b=size_b,nparticles_a=nparticles_a,nparticles_b=nparticles_b,)\n",
    "\n",
    "kinetic_term:Dict={}\n",
    "adj_matrix=np.zeros((size_a,size_a))\n",
    "for i in range(size_a):\n",
    "    for j in range(size_a):\n",
    "        (ni,li,ji,mi,ti,tzi)=SPS.state_encoding[i]\n",
    "        (nj,lj,jj,mj,tj,tzj)=SPS.state_encoding[j]\n",
    "        if np.isclose(mi,-mj) and np.isclose(ni,nj):\n",
    "            kinetic_term[(i,j)]=t #np.abs(mi-mj)#+np.abs(ji-jj)\n",
    "            adj_matrix[i,j]=t#np.abs(mi-mj)#+np.abs(ji-jj)\n",
    "            if size_b==size_a:    \n",
    "                kinetic_term[(size_a +i,size_a+j)]=t#np.abs(mi-mj)#+np.abs(ji-jj)\n",
    "                \n",
    "# external_field=np.zeros(size_a+size_b)\n",
    "# for i in range(size_a+size_b):\n",
    "#     (ni,li,ji,mi,ti,tzi)=SPS.state_encoding[i]\n",
    "#     external_field[i]=2*ji\n",
    "    \n",
    "    #external_field[i] = SPS.energies[i]\n",
    "\n",
    "\n",
    "DrivingHamiltonian.get_kinetic_operator(adj_matrix=kinetic_term)\n",
    "#DrivingHamiltonian.get_external_potential(external_field)\n",
    "DrivingHamiltonian.get_hamiltonian()\n",
    "\n",
    "egs,reference_psi=DrivingHamiltonian.get_spectrum(n_states=1)\n",
    "print(egs)"
   ]
  },
  {
   "cell_type": "markdown",
   "metadata": {},
   "source": [
    "#### QAOA run"
   ]
  },
  {
   "cell_type": "code",
   "execution_count": null,
   "metadata": {},
   "outputs": [],
   "source": [
    "\n",
    "\n",
    "\n",
    "model=QAOAFermiHubbard()\n",
    "\n",
    "model.set_hamiltonian(FHHamiltonian.hamiltonian,DrivingHamiltonian.hamiltonian)\n",
    "model.set_reference_psi(reference_psi=reference_psi)\n",
    "model.set_weights(total_step=100,initialization_type='annealing',tf=30)\n",
    "\n",
    "print(model.weights.shape)\n",
    "#%%\n",
    "\n",
    "fit=Fit(method='BFGS',tolerance_opt=10**-6)\n",
    "\n",
    "fit.configuration_checkpoint=configuration\n",
    "fit.init_model(model)\n",
    "history_energy,history_grad=fit.run()\n",
    "print(model.weights)"
   ]
  },
  {
   "cell_type": "code",
   "execution_count": null,
   "metadata": {},
   "outputs": [],
   "source": [
    "rel_error_base = [np.abs((e_min - egs) / egs) for e_min in history_energy]"
   ]
  },
  {
   "cell_type": "code",
   "execution_count": null,
   "metadata": {},
   "outputs": [],
   "source": [
    "rel_error_hf = [np.abs((e_min - egs) / egs) for e_min in history_energy]"
   ]
  },
  {
   "cell_type": "code",
   "execution_count": null,
   "metadata": {},
   "outputs": [],
   "source": [
    "plt.figure(figsize=(10,10))\n",
    "plt.plot(rel_error_hf,linewidth=5,label='HF')\n",
    "plt.plot(rel_error_base, linewidth=5,label='Basis Element')\n",
    "plt.xlabel('layers',fontsize=40)\n",
    "plt.legend(fontsize=30)\n",
    "plt.semilogy()\n",
    "plt.ylabel(r'$\\Delta_r e$',fontsize=40)\n",
    "plt.tick_params(axis='both', which='major', labelsize=40)\n",
    "plt.tick_params(axis=\"both\", which=\"minor\", labelsize=40)\n",
    "plt.show()"
   ]
  }
 ],
 "metadata": {
  "kernelspec": {
   "display_name": "base",
   "language": "python",
   "name": "python3"
  },
  "language_info": {
   "codemirror_mode": {
    "name": "ipython",
    "version": 3
   },
   "file_extension": ".py",
   "mimetype": "text/x-python",
   "name": "python",
   "nbconvert_exporter": "python",
   "pygments_lexer": "ipython3",
   "version": "3.9.18"
  }
 },
 "nbformat": 4,
 "nbformat_minor": 2
}
