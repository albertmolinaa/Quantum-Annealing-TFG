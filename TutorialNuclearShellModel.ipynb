{
 "cells": [
  {
   "cell_type": "markdown",
   "id": "845bde0a",
   "metadata": {},
   "source": [
    "# How to deal with a Nuclear Shell Model (NSM) Hamiltonian -a funny guide to madness-"
   ]
  },
  {
   "cell_type": "markdown",
   "id": "e6d9003d",
   "metadata": {},
   "source": [
    "NSM Hamiltonians are many-body Hamiltonians represented in a single particle framework (or nucleon modes) described by Valence orbitals (with the famous set of quantum numbers that describe the 3D harmonic oscillator $|n,l,j,m,t,t_z\\rangle$. The last two quantum numbers describe the isospin of the nucleons (proton or neutron).\n",
    "\n",
    "First of all, we need to commit: we need to decide which Valence shell we are going to use. This choice translates in selecting the proper \"nuclear_interaction.txt\" file related to the correspoding valence shell.\n",
    "\n",
    "- p shell --> 'data/cki' file \n",
    "- sd shell --> 'data/usdb.nat' file \n",
    "- pf shell --> 'data/gxpf1a' file \n",
    "\n",
    "Don't worry about these names, for you these simply are file text with matrix entries that are going to be the parameters of your NSM Hamiltonian:\n",
    "$$\n",
    "H=\\sum_a c^{+}_a c_a + \\frac{1}{4}\\sum_{abcd} v_{abdc} c^{+}_a c^{+}_b c_c c_d.\n",
    "$$\n",
    "\n",
    "Ok, too much verbose, let's start with the Imports"
   ]
  },
  {
   "cell_type": "code",
   "execution_count": null,
   "id": "797368f4",
   "metadata": {},
   "outputs": [],
   "source": [
    "from src.hamiltonian_utils import FermiHubbardHamiltonian # the many-body Hamiltonian class\n",
    "from src.nuclear_physics_utils import SingleParticleState,J2operator,get_twobody_nuclearshell_model # routines and class useful for the nuclear part\n",
    "import scipy # just scipy, easy, no?\n",
    "import numpy as np \n",
    "import matplotlib.pyplot as plt # to plot things"
   ]
  },
  {
   "cell_type": "markdown",
   "id": "e82d759f",
   "metadata": {},
   "source": []
  }
 ],
 "metadata": {
  "language_info": {
   "name": "python"
  }
 },
 "nbformat": 4,
 "nbformat_minor": 5
}
