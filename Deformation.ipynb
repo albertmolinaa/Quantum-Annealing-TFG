{
 "cells": [
  {
   "cell_type": "markdown",
   "metadata": {},
   "source": [
    "## Deformation Project"
   ]
  },
  {
   "cell_type": "markdown",
   "metadata": {},
   "source": [
    "#### Imports"
   ]
  },
  {
   "cell_type": "code",
   "execution_count": null,
   "metadata": {},
   "outputs": [],
   "source": [
    "from src.hartree_fock_library import HartreeFock,HartreeFockVariational,gram_schmidt\n",
    "from src.hamiltonian_utils import get_twobody_nuclearshell_model,FermiHubbardHamiltonian,SingleParticleState\n",
    "import numpy as np\n",
    "import torch\n",
    "from typing import Dict,List\n",
    "from src.qml_models import AdaptVQEFermiHubbard\n",
    "from src.qml_utils.train import Fit\n",
    "from src.qml_utils.utils import configuration\n",
    "#from src.qml_models import AdaptVQEFermiHubbard\n",
    "import matplotlib.pyplot as plt\n",
    "#from adapt_vqe_old import AdaptVQEFermiHubbard"
   ]
  },
  {
   "cell_type": "markdown",
   "metadata": {},
   "source": [
    "#### The parameters"
   ]
  },
  {
   "cell_type": "code",
   "execution_count": null,
   "metadata": {},
   "outputs": [],
   "source": [
    "twobody_matrix,_,_,energies=get_twobody_nuclearshell_model(file_name='data/cki')\n",
    "\n",
    "SPS=SingleParticleState(file_name='data/cki')\n",
    "\n",
    "alfa=1.\n",
    "size_a=energies.shape[0]//2\n",
    "size_b=energies.shape[0]//2\n",
    "nparticles_a=2\n",
    "nparticles_b=2"
   ]
  },
  {
   "cell_type": "markdown",
   "metadata": {},
   "source": [
    "#### The Hamiltonian"
   ]
  },
  {
   "cell_type": "code",
   "execution_count": null,
   "metadata": {},
   "outputs": [],
   "source": [
    "\n",
    "\n",
    "#%% initialize the FH Hamiltonian\n",
    "\n",
    "FHHamiltonian=FermiHubbardHamiltonian(size_a=size_b,size_b=size_a,nparticles_a=nparticles_a,nparticles_b=nparticles_b,symmetries=None)\n",
    "\n",
    "\n",
    "print(FHHamiltonian.basis.shape)\n",
    "\n",
    "\n",
    "\n",
    "FHHamiltonian.get_external_potential(external_potential=energies)\n",
    "FHHamiltonian.get_twobody_interaction(twobody_dict=twobody_matrix)\n",
    "FHHamiltonian.twobody_operator=alfa*FHHamiltonian.twobody_operator\n",
    "FHHamiltonian.get_hamiltonian()\n",
    "\n",
    "es,psi0=FHHamiltonian.get_spectrum(n_states=20)\n",
    "egs=es[0]\n",
    "e1st=es[1]\n",
    "print(egs,e1st)\n"
   ]
  },
  {
   "cell_type": "markdown",
   "metadata": {},
   "source": [
    "#### The mutual info"
   ]
  },
  {
   "cell_type": "code",
   "execution_count": null,
   "metadata": {},
   "outputs": [],
   "source": [
    "mutual_info=FHHamiltonian.mutual_info(psi=psi0)"
   ]
  },
  {
   "cell_type": "code",
   "execution_count": null,
   "metadata": {},
   "outputs": [],
   "source": [
    "plt.imshow(mutual_info)\n",
    "plt.colorbar()\n",
    "plt.show()"
   ]
  }
 ],
 "metadata": {
  "language_info": {
   "name": "python"
  }
 },
 "nbformat": 4,
 "nbformat_minor": 2
}
